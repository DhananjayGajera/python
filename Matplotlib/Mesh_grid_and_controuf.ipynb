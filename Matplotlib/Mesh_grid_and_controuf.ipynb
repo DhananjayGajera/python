{
  "cells": [
    {
      "cell_type": "code",
      "execution_count": 6,
      "metadata": {
        "colab": {
          "base_uri": "https://localhost:8080/",
          "height": 387
        },
        "id": "b5HweAIVCil6",
        "outputId": "10ef5122-b9c4-47ab-85aa-453f13b69ad6"
      },
      "outputs": [
        {
          "output_type": "stream",
          "name": "stdout",
          "text": [
            "[[-5.  -4.9 -4.8 ...  4.7  4.8  4.9]\n",
            " [-5.  -4.9 -4.8 ...  4.7  4.8  4.9]\n",
            " [-5.  -4.9 -4.8 ...  4.7  4.8  4.9]\n",
            " ...\n",
            " [-5.  -4.9 -4.8 ...  4.7  4.8  4.9]\n",
            " [-5.  -4.9 -4.8 ...  4.7  4.8  4.9]\n",
            " [-5.  -4.9 -4.8 ...  4.7  4.8  4.9]]\n"
          ]
        },
        {
          "output_type": "display_data",
          "data": {
            "image/png": "[encoded data removed]",
            "text/plain": [
              "<Figure size 432x288 with 1 Axes>"
            ]
          },
          "metadata": {
            "needs_background": "light"
          }
        }
      ],
      "source": [
        "import matplotlib.pyplot as plt\n",
        "import numpy as np\n",
        "x = np.arange(-5, 5, 0.1)\n",
        "y = np.arange(-5, 5, 0.1)\n",
        "xx, yy = np.meshgrid(x, y)\n",
        "print(xx)\n",
        "z = np.sin(xx**2 + yy**2) / (xx**2 + yy**2)\n",
        "plt.contourf(x,y,z)\n",
        "plt.show()\n"
      ]
    }
  ],
  "metadata": {
    "kernelspec": {
      "display_name": "Python 3",
      "language": "python",
      "name": "python3"
    },
    "language_info": {
      "codemirror_mode": {
        "name": "ipython",
        "version": 3
      },
      "file_extension": ".py",
      "mimetype": "text/x-python",
      "name": "python",
      "nbconvert_exporter": "python",
      "pygments_lexer": "ipython3",
      "version": "3.7.7"
    },
    "colab": {
      "name": "Mesh grid and controuf.ipynb",
      "provenance": [],
      "collapsed_sections": []
    }
  },
  "nbformat": 4,
  "nbformat_minor": 0
}