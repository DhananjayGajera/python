{
  "cells": [
    {
      "cell_type": "code",
      "execution_count": null,
      "metadata": {
        "colab": {
          "base_uri": "https://localhost:8080/"
        },
        "id": "KuutWtMrdYpT",
        "outputId": "ec1c0ba7-602a-484f-aafa-b6681956c13c"
      },
      "outputs": [
        {
          "output_type": "stream",
          "name": "stdout",
          "text": [
            "0 is prime no\n",
            "1 is prime no\n",
            "2 is prime no\n",
            "3 is prime no\n",
            "4 is not prime num\n",
            "5 is prime no\n",
            "6 is not prime num\n",
            "7 is prime no\n",
            "8 is not prime num\n",
            "9 is not prime num\n",
            "10 is not prime num\n",
            "11 is prime no\n",
            "12 is not prime num\n",
            "13 is prime no\n",
            "14 is not prime num\n",
            "15 is not prime num\n",
            "16 is not prime num\n",
            "17 is prime no\n",
            "18 is not prime num\n",
            "19 is prime no\n",
            "20 is not prime num\n",
            "21 is not prime num\n",
            "22 is not prime num\n",
            "23 is prime no\n",
            "24 is not prime num\n",
            "25 is not prime num\n",
            "26 is not prime num\n",
            "27 is not prime num\n",
            "28 is not prime num\n",
            "29 is prime no\n",
            "30 is not prime num\n",
            "31 is prime no\n",
            "32 is not prime num\n",
            "33 is not prime num\n",
            "34 is not prime num\n",
            "35 is not prime num\n",
            "36 is not prime num\n",
            "37 is prime no\n",
            "38 is not prime num\n",
            "39 is not prime num\n",
            "40 is not prime num\n",
            "41 is prime no\n",
            "42 is not prime num\n",
            "43 is prime no\n",
            "44 is not prime num\n",
            "45 is not prime num\n",
            "46 is not prime num\n",
            "47 is prime no\n",
            "48 is not prime num\n",
            "49 is not prime num\n",
            "50 is not prime num\n",
            "51 is not prime num\n",
            "52 is not prime num\n",
            "53 is prime no\n",
            "54 is not prime num\n",
            "55 is not prime num\n",
            "56 is not prime num\n",
            "57 is not prime num\n",
            "58 is not prime num\n",
            "59 is prime no\n",
            "60 is not prime num\n",
            "61 is prime no\n",
            "62 is not prime num\n",
            "63 is not prime num\n",
            "64 is not prime num\n",
            "65 is not prime num\n",
            "66 is not prime num\n",
            "67 is prime no\n",
            "68 is not prime num\n",
            "69 is not prime num\n",
            "70 is not prime num\n",
            "71 is prime no\n",
            "72 is not prime num\n",
            "73 is prime no\n",
            "74 is not prime num\n",
            "75 is not prime num\n",
            "76 is not prime num\n",
            "77 is not prime num\n",
            "78 is not prime num\n",
            "79 is prime no\n",
            "80 is not prime num\n",
            "81 is not prime num\n",
            "82 is not prime num\n",
            "83 is prime no\n",
            "84 is not prime num\n",
            "85 is not prime num\n",
            "86 is not prime num\n",
            "87 is not prime num\n",
            "88 is not prime num\n",
            "89 is prime no\n",
            "90 is not prime num\n",
            "91 is not prime num\n",
            "92 is not prime num\n",
            "93 is not prime num\n",
            "94 is not prime num\n",
            "95 is not prime num\n",
            "96 is not prime num\n",
            "97 is prime no\n",
            "98 is not prime num\n",
            "99 is not prime num\n",
            "100 is not prime num\n"
          ]
        }
      ],
      "source": [
        "# PRIME NUMBER FROM 0 TO 100\n",
        "\n",
        "for var1 in range(0,101):\n",
        "    flag = True\n",
        "    for var2 in range(2,var1-1):\n",
        "        if (var1%var2 == 0):\n",
        "            print(var1,\"is not prime num\")\n",
        "            flag = False\n",
        "            break\n",
        "    if flag:\n",
        "        print(var1,'is prime no')\n",
        "        \n",
        "    "
      ]
    },
    {
      "cell_type": "code",
      "execution_count": null,
      "metadata": {
        "colab": {
          "base_uri": "https://localhost:8080/"
        },
        "id": "wjTZlmo6dYpi",
        "outputId": "c9d34432-17b7-4abd-f0ef-2efcdec45dd7"
      },
      "outputs": [
        {
          "output_type": "stream",
          "name": "stdout",
          "text": [
            "41 is prime\n"
          ]
        }
      ],
      "source": [
        "# FIND ANY SPECIFIC NO IS PRIME OR NOT(31,37,41,47)\n",
        "num = 41\n",
        "\n",
        "for var1 in range(2,10):\n",
        "    flag =True\n",
        "    if (num%var1 == 0):\n",
        "        print(num,\"no is not prime\")\n",
        "        flag = False\n",
        "        break\n",
        "if flag :\n",
        "    print(num,\"is prime\")"
      ]
    },
    {
      "cell_type": "code",
      "execution_count": 16,
      "metadata": {
        "colab": {
          "base_uri": "https://localhost:8080/"
        },
        "id": "o6dgZCnbdYpk",
        "outputId": "db32fe15-0b1a-4440-ba86-f5a5aede32aa"
      },
      "outputs": [
        {
          "output_type": "stream",
          "name": "stdout",
          "text": [
            "enter a num:41\n",
            "41 is prime\n"
          ]
        }
      ],
      "source": [
        "# FIND USING USER INPUT NO IS PRIME OR NOT\n",
        "\n",
        "num = int(input(\"enter a num:\"))\n",
        "for var in range(2,10):\n",
        "    flag = True\n",
        "    if (num%var ==0):\n",
        "        print(num,\"is not prime\")\n",
        "        flag = False\n",
        "        break\n",
        "if flag:\n",
        "    print(num,\"is prime\")"
      ]
    },
    {
      "cell_type": "code",
      "execution_count": null,
      "metadata": {
        "id": "b-hjCKzTdYpm",
        "outputId": "2f8669aa-5d70-49da-b159-3879e9ab5cb4"
      },
      "outputs": [
        {
          "name": "stdout",
          "output_type": "stream",
          "text": [
            "118 is not prime\n"
          ]
        }
      ],
      "source": [
        "#  finding prime num using function\n",
        "def prime(num):\n",
        "    for var in range(2,num-1):\n",
        "        flag = True\n",
        "        if num%var == 0:\n",
        "            print(num,\"is not prime\")\n",
        "            flag = False\n",
        "            break\n",
        "    if flag:\n",
        "        print(num,\"num is prime\")\n",
        "prime(118)        "
      ]
    },
    {
      "cell_type": "code",
      "execution_count": 19,
      "metadata": {
        "id": "NozuTlDLdYpo",
        "colab": {
          "base_uri": "https://localhost:8080/"
        },
        "outputId": "9fd03e9b-ce29-4a96-c5ff-e14f3c677b03"
      },
      "outputs": [
        {
          "output_type": "stream",
          "name": "stdout",
          "text": [
            "enter a num:35\n",
            "35 is not prime\n"
          ]
        }
      ],
      "source": [
        "# finding prime num using function with using user input\n",
        "def prime(num):\n",
        "    for var in range(2,num-1):\n",
        "        flag = True\n",
        "        if num%var == 0:\n",
        "            print(num,\"is not prime\")\n",
        "            flag = False\n",
        "            break\n",
        "    if flag:\n",
        "        print(num,' is prime')\n",
        "        \n",
        "prime(int(input(\"enter a num:\")))        \n",
        "    "
      ]
    },
    {
      "cell_type": "code",
      "execution_count": null,
      "metadata": {
        "id": "2FYmloCZdYpp",
        "outputId": "5313eda9-85fb-4a9b-e9f3-241cc1820004"
      },
      "outputs": [
        {
          "data": {
            "text/plain": [
              "40320"
            ]
          },
          "execution_count": 2,
          "metadata": {},
          "output_type": "execute_result"
        }
      ],
      "source": [
        "def fact(x):\n",
        "    if x == 0:\n",
        "        return 1\n",
        "    return x*fact(x-1)\n",
        "fact(8)"
      ]
    },
    {
      "cell_type": "code",
      "execution_count": null,
      "metadata": {
        "id": "p-w8j9YzdYpu",
        "outputId": "03aa466d-e4df-4c4d-8ab0-dae4ca350662"
      },
      "outputs": [
        {
          "name": "stdout",
          "output_type": "stream",
          "text": [
            "3199\n"
          ]
        }
      ],
      "source": [
        "for i in range(2000, 3200):\n",
        "    l = []\n",
        "    if i%7== 0 and i%5 != 0:\n",
        "        l.append(str(i))\n",
        "print(','.join(l))\n",
        "        "
      ]
    },
    {
      "cell_type": "code",
      "execution_count": 22,
      "metadata": {
        "id": "Si03PArKdYpw",
        "outputId": "589f569c-6529-4745-cc88-6c684255fbc3",
        "colab": {
          "base_uri": "https://localhost:8080/"
        }
      },
      "outputs": [
        {
          "output_type": "stream",
          "name": "stdout",
          "text": [
            "{1: 1, 2: 4, 3: 9, 4: 16, 5: 25, 6: 36, 7: 49, 8: 64}\n"
          ]
        }
      ],
      "source": [
        "# value and squre\n",
        "d = {}\n",
        "for i in range(1,9):\n",
        "    d[i] = i**2\n",
        "print(d)\n",
        "\n",
        "    "
      ]
    },
    {
      "cell_type": "code",
      "execution_count": 28,
      "metadata": {
        "id": "OtEdTqvOdYqD",
        "outputId": "d3dcf375-9a32-495c-b0c5-dcbf4da8a59b",
        "colab": {
          "base_uri": "https://localhost:8080/",
          "height": 53
        }
      },
      "outputs": [
        {
          "name": "stdout",
          "output_type": "stream",
          "text": [
            "20\n"
          ]
        },
        {
          "output_type": "execute_result",
          "data": {
            "application/vnd.google.colaboratory.intrinsic+json": {
              "type": "string"
            },
            "text/plain": [
              "'20'"
            ]
          },
          "metadata": {},
          "execution_count": 28
        }
      ],
      "source": [
        "class IOstring:\n",
        "    def __init__(self):\n",
        "        self.s = ''\n",
        "    def getstring(self):\n",
        "        self.s = input()\n",
        "        \n",
        "    def printstring(self):\n",
        "        return self.s.upper()\n",
        "    \n",
        "io = IOstring()\n",
        "io.getstring()\n",
        "io.printstring()\n",
        "\n",
        "        "
      ]
    },
    {
      "cell_type": "code",
      "execution_count": 23,
      "metadata": {
        "id": "MKlgXsHJdYqE",
        "outputId": "0456a946-f827-408d-93fb-79965556f1d2",
        "colab": {
          "base_uri": "https://localhost:8080/"
        }
      },
      "outputs": [
        {
          "output_type": "stream",
          "name": "stdout",
          "text": [
            "50\n",
            "13\n"
          ]
        }
      ],
      "source": [
        "import math\n",
        "C = 50\n",
        "H = 30\n",
        "l = []\n",
        "items = [i for i in input().split(',')]\n",
        "for d in items:\n",
        "    l.append(str(round(math.sqrt((2*C*float(d))/H))))\n",
        "print(','.join(l))\n",
        "    \n",
        "    "
      ]
    }
  ],
  "metadata": {
    "kernelspec": {
      "display_name": "Python 3",
      "language": "python",
      "name": "python3"
    },
    "language_info": {
      "codemirror_mode": {
        "name": "ipython",
        "version": 3
      },
      "file_extension": ".py",
      "mimetype": "text/x-python",
      "name": "python",
      "nbconvert_exporter": "python",
      "pygments_lexer": "ipython3",
      "version": "3.8.5"
    },
    "colab": {
      "name": "prime no.ipynb",
      "provenance": [],
      "collapsed_sections": []
    }
  },
  "nbformat": 4,
  "nbformat_minor": 0
}