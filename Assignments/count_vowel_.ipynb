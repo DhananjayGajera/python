{
  "cells": [
    {
      "cell_type": "code",
      "execution_count": 1,
      "metadata": {
        "colab": {
          "base_uri": "https://localhost:8080/"
        },
        "id": "x8q8MNVbdXc2",
        "outputId": "8fffa153-d09c-49c9-f8c1-9a390a62e7d7"
      },
      "outputs": [
        {
          "output_type": "stream",
          "name": "stdout",
          "text": [
            "name\n",
            "you have 2 vowel in yr name\n"
          ]
        }
      ],
      "source": [
        "name = input()\n",
        "count= 0\n",
        "for letter in name:\n",
        "    if letter in [\"A\",\"E\",\"I\",\"O\",\"U\",'a','e','i','o','u']:\n",
        "        count = count+1\n",
        "print(\"you have\",count,\"vowel in yr name\")\n",
        "\n",
        "        "
      ]
    },
    {
      "cell_type": "code",
      "execution_count": null,
      "metadata": {
        "id": "KhdckQ5GdXdI",
        "outputId": "6a42132e-cae5-4dc9-c400-35fdba3c180d"
      },
      "outputs": [
        {
          "name": "stdout",
          "output_type": "stream",
          "text": [
            "Z\n",
            "we entered uperrcade letter\n",
            "you entered consonant\n"
          ]
        }
      ],
      "source": [
        "char = input()\n",
        "if ord(char) >= 65 and ord(char) <= 90:\n",
        "    print(\"we entered uperrcade letter\")\n",
        "    \n",
        "    if letter in [\"A\",\"E\",\"I\",\"O\",\"U\"]:\n",
        "        print(\"you entered vowel\")\n",
        "    else:\n",
        "        print(\"you entered consonant\")\n",
        "\n",
        "elif ord(char) >= 97 and ord(char) <= 122:\n",
        "    print(\"you ewntered lower case letter:\")\n",
        "    if letter in [\"a\",'e','i','o','u']:\n",
        "        print('you enterd vowel')\n",
        "    else:\n",
        "        print(\"you entered consonant\")\n",
        "else:\n",
        "        print(\"you entered alphbaet\")        "
      ]
    },
    {
      "cell_type": "code",
      "execution_count": null,
      "metadata": {
        "id": "MpZmxFCbdXdN",
        "outputId": "9f1d32ae-e7a9-403d-c463-dd2bb466a653"
      },
      "outputs": [
        {
          "name": "stdout",
          "output_type": "stream",
          "text": [
            "2\n",
            "you enterd consonant and alphbet\n"
          ]
        }
      ],
      "source": [
        "char = input()\n",
        "if char in [\"a\",'e','i','o','u','A',\"E\",\"I\",\"O\",\"U\"]:\n",
        "    print('you enterd vowel')\n",
        "else:\n",
        "    print(\"you enterd consonant and alphbet\")"
      ]
    },
    {
      "cell_type": "code",
      "execution_count": null,
      "metadata": {
        "collapsed": true,
        "id": "qoeOFWcFdXdP"
      },
      "outputs": [],
      "source": [
        "var = 1\n"
      ]
    }
  ],
  "metadata": {
    "kernelspec": {
      "display_name": "Python 3",
      "language": "python",
      "name": "python3"
    },
    "language_info": {
      "codemirror_mode": {
        "name": "ipython",
        "version": 3
      },
      "file_extension": ".py",
      "mimetype": "text/x-python",
      "name": "python",
      "nbconvert_exporter": "python",
      "pygments_lexer": "ipython3",
      "version": "3.7.6"
    },
    "colab": {
      "name": "count  vowel .ipynb",
      "provenance": [],
      "collapsed_sections": []
    }
  },
  "nbformat": 4,
  "nbformat_minor": 0
}