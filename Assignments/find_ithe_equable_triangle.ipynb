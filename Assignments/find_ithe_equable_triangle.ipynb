{
  "cells": [
    {
      "cell_type": "markdown",
      "metadata": {
        "id": "T5Sb-cYfdXrO"
      },
      "source": [
        "## find the equable triangle  - area = sum of sides of triangle(perimeter)\n"
      ]
    },
    {
      "cell_type": "code",
      "execution_count": 2,
      "metadata": {
        "colab": {
          "base_uri": "https://localhost:8080/"
        },
        "id": "N7C_q44wdXrT",
        "outputId": "fe4d0294-b798-4e57-daff-0d1639224d3c"
      },
      "outputs": [
        {
          "output_type": "stream",
          "name": "stdout",
          "text": [
            "enter a side1 :5\n",
            "enter a side2 :6\n",
            "enter a side3 :4\n",
            "False this is not equable triangle\n"
          ]
        }
      ],
      "source": [
        "\n",
        "import math\n",
        "s1 = float(input(\"enter a side1 :\"))\n",
        "s2 = float(input(\"enter a side2 :\"))\n",
        "s3 = float(input(\"enter a side3 :\"))\n",
        "\n",
        "sum =s1+s2+s3\n",
        "s = sum/2\n",
        "area = 0 \n",
        "try:\n",
        "    area1 = s*(s-s1)*(s-s2)*(s-s3)\n",
        "    area = math.sqrt(area1)\n",
        "except:\n",
        "    print('please enter a valid 3 sides')\n",
        "\n",
        "if sum ==area:\n",
        "    print(True,\"this is equable triangle\")\n",
        "else:\n",
        "    print(False,\"this is not equable triangle\")\n",
        "       \n",
        "\n",
        "\n",
        "\n",
        "\n"
      ]
    },
    {
      "cell_type": "markdown",
      "metadata": {
        "id": "TVAZERsmdXrX"
      },
      "source": [
        "## find the equable triangle  (6,8,10)&(5,12,13),(9,17,10)&(7,20,15)&(6,29,25)"
      ]
    },
    {
      "cell_type": "code",
      "execution_count": null,
      "metadata": {
        "id": "yVc78tCDdXrY",
        "outputId": "b9a2edfa-3655-4a56-af17-3c4e47fc0c90"
      },
      "outputs": [
        {
          "name": "stdout",
          "output_type": "stream",
          "text": [
            "enter a side1 :6\n",
            "enter a side2 :8\n",
            "enter a side3 :10\n",
            "True this is equable triangle\n"
          ]
        }
      ],
      "source": [
        "\n",
        "\n",
        "import math\n",
        "s1 = float(input(\"enter a side1 :\"))\n",
        "s2 = float(input(\"enter a side2 :\"))\n",
        "s3 = float(input(\"enter a side3 :\"))\n",
        "\n",
        "sum =s1+s2+s3\n",
        "s = sum/2\n",
        "\n",
        "area1 = s*(s-s1)*(s-s2)*(s-s3)     #heron's formula that -sqrt(s(s-a)(s-b)(s-c))\n",
        "area = math.sqrt(area1)\n",
        "\n",
        "if sum ==area:\n",
        "    print(True,\"this is equable triangle\")\n",
        "else:\n",
        "    print(False,\"this is not equable triangle\")\n",
        "       \n",
        "\n",
        "\n",
        "\n",
        "\n"
      ]
    }
  ],
  "metadata": {
    "kernelspec": {
      "display_name": "Python 3",
      "language": "python",
      "name": "python3"
    },
    "language_info": {
      "codemirror_mode": {
        "name": "ipython",
        "version": 3
      },
      "file_extension": ".py",
      "mimetype": "text/x-python",
      "name": "python",
      "nbconvert_exporter": "python",
      "pygments_lexer": "ipython3",
      "version": "3.8.5"
    },
    "colab": {
      "name": "find ithe equable triangle.ipynb",
      "provenance": [],
      "collapsed_sections": []
    }
  },
  "nbformat": 4,
  "nbformat_minor": 0
}