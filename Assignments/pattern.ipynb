{
  "cells": [
    {
      "cell_type": "code",
      "source": [
        "name = \"python\"\n",
        "#for i in range(len(name),0,-1):\n",
        "#   print(i)\n",
        "    \n",
        "for j in range(0,len(name)):\n",
        "    print(name[j])"
      ],
      "metadata": {
        "colab": {
          "base_uri": "https://localhost:8080/"
        },
        "id": "zliJt68TnIqZ",
        "outputId": "4d8f5083-2408-49e8-a8fe-365b911bbb0d"
      },
      "execution_count": 16,
      "outputs": [
        {
          "output_type": "stream",
          "name": "stdout",
          "text": [
            "p\n",
            "y\n",
            "t\n",
            "h\n",
            "o\n",
            "n\n"
          ]
        }
      ]
    },
    {
      "cell_type": "code",
      "execution_count": 22,
      "metadata": {
        "colab": {
          "base_uri": "https://localhost:8080/"
        },
        "id": "x68bSaiNdZC5",
        "outputId": "e14ef2ee-ae71-4232-de50-6ae6154b6f3e"
      },
      "outputs": [
        {
          "output_type": "stream",
          "name": "stdout",
          "text": [
            "python\n",
            "p\n",
            "py\n",
            "pyt\n",
            "pyth\n",
            "pytho\n",
            "python\n",
            "\n",
            "p\n",
            "py\n",
            "pyt\n",
            "pyth\n",
            "pytho\n",
            "python\n"
          ]
        }
      ],
      "source": [
        "# pattern\n",
        "string = input()\n",
        "lenth = len(string)\n",
        "for row in range (lenth):\n",
        "    for col in range(0,row+1):\n",
        "        print(string[col],end ='')\n",
        "    print()    \n",
        "# short\n",
        "\n",
        "for r in range(0,len(string)+1):\n",
        "    print(string[:r])"
      ]
    },
    {
      "cell_type": "code",
      "execution_count": 23,
      "metadata": {
        "colab": {
          "base_uri": "https://localhost:8080/"
        },
        "id": "l1i_nRQmdZDD",
        "outputId": "e33e5ab7-840a-4eb4-b764-ac6bd5fe65ec"
      },
      "outputs": [
        {
          "output_type": "stream",
          "name": "stdout",
          "text": [
            "python\n",
            "python\n",
            "pytho\n",
            "pyth\n",
            "pyt\n",
            "py\n",
            "p\n",
            "python\n",
            "pytho\n",
            "pyth\n",
            "pyt\n",
            "py\n",
            "p\n"
          ]
        }
      ],
      "source": [
        "# pattern\n",
        "string = input()\n",
        "lenth = len(string)\n",
        "for row in range (lenth,0,-1):\n",
        "    for col in range(0,row):\n",
        "        print(string[col],end ='')\n",
        "    print()\n",
        "    \n",
        "# short\n",
        "for r in range(len(string),0,-1):\n",
        "    print(string[:r])\n",
        "     "
      ]
    },
    {
      "cell_type": "code",
      "execution_count": 25,
      "metadata": {
        "colab": {
          "base_uri": "https://localhost:8080/"
        },
        "id": "rQeUblc8dZDG",
        "outputId": "34bc0102-8fb4-4c66-8abe-5cd693a0d89e"
      },
      "outputs": [
        {
          "output_type": "stream",
          "name": "stdout",
          "text": [
            "python\n",
            "     p\n",
            "    py\n",
            "   pyt\n",
            "  pyth\n",
            " pytho\n",
            "python\n",
            "      \n",
            "     p\n",
            "    py\n",
            "   pyt\n",
            "  pyth\n",
            " pytho\n",
            "python\n"
          ]
        }
      ],
      "source": [
        "string = input()\n",
        "lenth = len(string)\n",
        "\n",
        "for r in range(0,lenth):\n",
        "    for s in range(0,(5-r)):\n",
        "        print(\" \",end = '')\n",
        "    for c in range(0,r+1):\n",
        "        print(string[c],end = '')\n",
        "    print()\n",
        "# short\n",
        "\n",
        "for r in range(0,len(string)+1):\n",
        "    print(\" \"*(len(string)-r)+string[:r])"
      ]
    },
    {
      "cell_type": "code",
      "execution_count": 26,
      "metadata": {
        "colab": {
          "base_uri": "https://localhost:8080/"
        },
        "id": "TREKNDDCdZDI",
        "outputId": "91dcec7f-cdce-4b11-ead8-8c1336414a30"
      },
      "outputs": [
        {
          "output_type": "stream",
          "name": "stdout",
          "text": [
            "python\n",
            "python\n",
            " pytho\n",
            "  pyth\n",
            "   pyt\n",
            "    py\n",
            "     p\n",
            "python\n",
            " pytho\n",
            "  pyth\n",
            "   pyt\n",
            "    py\n",
            "     p\n"
          ]
        }
      ],
      "source": [
        "string = input()\n",
        "lenth = len(string)\n",
        "\n",
        "for r in range(lenth,0,-1):\n",
        "    for s in range(0,(6-r)):\n",
        "        print(\" \",end = '')\n",
        "    for c in range(0,r):\n",
        "        print(string[c],end = '')\n",
        "    print()\n",
        "\n",
        "#  short\n",
        "for r in range(len(string),0,-1):\n",
        "    print(\" \"*(len(string)-r)+string[:r])  "
      ]
    },
    {
      "cell_type": "markdown",
      "metadata": {
        "id": "xSioI8gYdZDJ"
      },
      "source": [
        "# second method\n"
      ]
    },
    {
      "cell_type": "code",
      "execution_count": null,
      "metadata": {
        "id": "FUlfjs-QdZDV",
        "outputId": "6463a1fe-9cb5-40b5-f8ca-7a1c2f3247a2"
      },
      "outputs": [
        {
          "name": "stdout",
          "output_type": "stream",
          "text": [
            "python\n",
            "\n",
            "p\n",
            "py\n",
            "pyt\n",
            "pyth\n",
            "pytho\n",
            "python\n"
          ]
        }
      ],
      "source": [
        "# second m,ethod\n",
        "string = input()\n",
        "lenth = len(string)\n",
        "for r in range(0,lenth+1):\n",
        "    print(string[:r])\n",
        "    "
      ]
    },
    {
      "cell_type": "code",
      "execution_count": null,
      "metadata": {
        "id": "KT9n7AlIdZDZ",
        "outputId": "0d61e94b-99f2-480c-c5b8-67a38f70516f"
      },
      "outputs": [
        {
          "name": "stdout",
          "output_type": "stream",
          "text": [
            "python\n",
            "python\n",
            "pytho\n",
            "pyth\n",
            "pyt\n",
            "py\n",
            "p\n"
          ]
        }
      ],
      "source": [
        "# second\n",
        "string = input()\n",
        "lenth = len(string)\n",
        "for c in range(lenth,0,-1):\n",
        "    print(string[:c])"
      ]
    },
    {
      "cell_type": "code",
      "execution_count": null,
      "metadata": {
        "id": "s9axoZv_dZDa",
        "outputId": "8fa21b08-26ee-47df-8263-02f5d0effb04"
      },
      "outputs": [
        {
          "name": "stdout",
          "output_type": "stream",
          "text": [
            "python\n",
            "      \n",
            "     p\n",
            "    py\n",
            "   pyt\n",
            "  pyth\n",
            " pytho\n",
            "python\n"
          ]
        }
      ],
      "source": [
        "#second\n",
        "string = input()\n",
        "lenth = len(string)\n",
        "for r in range(0,lenth+1):\n",
        "    print((6-r)*\" \"+string[:r])\n",
        "    "
      ]
    },
    {
      "cell_type": "code",
      "execution_count": null,
      "metadata": {
        "id": "Q2U0LIjudZDc",
        "outputId": "d745e351-26f8-4295-f1c6-c5a9aa5d6a7d"
      },
      "outputs": [
        {
          "name": "stdout",
          "output_type": "stream",
          "text": [
            "python\n",
            "python\n",
            " pytho\n",
            "  pyth\n",
            "   pyt\n",
            "    py\n",
            "     p\n"
          ]
        }
      ],
      "source": [
        "# second method\n",
        "string = input()\n",
        "lenth = len(string)\n",
        "for r in range(lenth,0,-1):\n",
        "    print((6-r)*\" \"+string[:r])"
      ]
    },
    {
      "cell_type": "code",
      "execution_count": null,
      "metadata": {
        "id": "6wysuwTPdZDg",
        "outputId": "9cbdc168-f3e5-4bf9-9421-f764a442d189"
      },
      "outputs": [
        {
          "name": "stdout",
          "output_type": "stream",
          "text": [
            "4\n",
            "1\n",
            "12\n",
            "123\n",
            "1234\n"
          ]
        }
      ],
      "source": [
        "row =int(input())\n",
        "for r in range(1,row+1):\n",
        "    for c in range(1,r+1):\n",
        "        print(c,end = '')\n",
        "    print()    "
      ]
    },
    {
      "cell_type": "code",
      "execution_count": null,
      "metadata": {
        "id": "lXb8Bpd7dZDi",
        "outputId": "4d57402a-164c-4e01-f748-30c81015bd0b"
      },
      "outputs": [
        {
          "name": "stdout",
          "output_type": "stream",
          "text": [
            "4\n",
            "1234\n",
            "123\n",
            "12\n",
            "1\n"
          ]
        }
      ],
      "source": [
        "row =int(input())\n",
        "for r in range(row,0,-1):\n",
        "    for c in range(1,r+1):\n",
        "        print(c,end = '')\n",
        "    print()    "
      ]
    },
    {
      "cell_type": "code",
      "execution_count": null,
      "metadata": {
        "id": "7bUmOCLvdZDl",
        "outputId": "9f20111e-8ce7-4c8b-8d62-48e854754ee0"
      },
      "outputs": [
        {
          "name": "stdout",
          "output_type": "stream",
          "text": [
            "4\n",
            "   1\n",
            "  12\n",
            " 123\n",
            "1234\n"
          ]
        }
      ],
      "source": [
        "row =int(input())\n",
        "for r in range(1,row+1):\n",
        "    for s in range(1,row-r+1):\n",
        "        print(\" \",end = '')\n",
        "    for c in range(1,r+1):\n",
        "        print(c,end = '')\n",
        "    print()    "
      ]
    },
    {
      "cell_type": "code",
      "execution_count": null,
      "metadata": {
        "id": "cdqLlTzBdZDn",
        "outputId": "a0e9a9c9-42e5-4866-f682-503137f109fc"
      },
      "outputs": [
        {
          "name": "stdout",
          "output_type": "stream",
          "text": [
            "4\n",
            "1234\n",
            " 123\n",
            "  12\n",
            "   1\n"
          ]
        }
      ],
      "source": [
        "row = int(input())\n",
        "for r in range(row,0,-1):\n",
        "    for s in range(1,row-r+1):\n",
        "        print(' ',end = '')\n",
        "    for c in range(1,r+1):\n",
        "        print(c,end = '')\n",
        "    print()    "
      ]
    },
    {
      "cell_type": "code",
      "execution_count": null,
      "metadata": {
        "id": "pmK_Sx2IdZDo",
        "outputId": "8ef0fe63-b86b-436e-caf5-9cf8812ec5a3"
      },
      "outputs": [
        {
          "name": "stdout",
          "output_type": "stream",
          "text": [
            "4\n",
            "1\n",
            "22\n",
            "333\n",
            "4444\n"
          ]
        }
      ],
      "source": [
        "row = int(input())\n",
        "for r in range(1,row+1):\n",
        "    for c in range(1,r+1):\n",
        "        print(r,end = '')\n",
        "    print()    "
      ]
    },
    {
      "cell_type": "code",
      "execution_count": null,
      "metadata": {
        "id": "_g7LG1xudZDp",
        "outputId": "75ff1141-44b8-4d01-e3a6-7dba775727ca"
      },
      "outputs": [
        {
          "name": "stdout",
          "output_type": "stream",
          "text": [
            "4\n",
            "4444\n",
            "333\n",
            "22\n",
            "1\n"
          ]
        }
      ],
      "source": [
        "row = int(input())\n",
        "for r in range(row,0,-1):\n",
        "    for c in range(1,r+1):\n",
        "        print(r,end = '')\n",
        "    print()    "
      ]
    },
    {
      "cell_type": "code",
      "execution_count": null,
      "metadata": {
        "id": "HimQ1p0odZDr",
        "outputId": "d987d88f-fabd-49ff-9497-878c1c31ee81"
      },
      "outputs": [
        {
          "name": "stdout",
          "output_type": "stream",
          "text": [
            "4\n",
            "   1\n",
            "  22\n",
            " 333\n",
            "4444\n"
          ]
        }
      ],
      "source": [
        "row = int(input())\n",
        "for r in range(1,row+1):\n",
        "    for s in range(1,row-r+1):\n",
        "        print(\" \",end='')\n",
        "    for c in range(1,r+1):\n",
        "        print(r,end = '')\n",
        "    print()    "
      ]
    },
    {
      "cell_type": "code",
      "execution_count": null,
      "metadata": {
        "id": "c63bPEMsdZDs",
        "outputId": "3a72600a-6b48-47be-f266-50713e69bca4"
      },
      "outputs": [
        {
          "name": "stdout",
          "output_type": "stream",
          "text": [
            "4\n",
            "4444\n",
            " 333\n",
            "  22\n",
            "   1\n"
          ]
        }
      ],
      "source": [
        "row = int(input())\n",
        "for r in range(row,0,-1):\n",
        "    for s in range(1,row-r+1):\n",
        "        print(' ',end = '')\n",
        "    for c in range(1,r+1):\n",
        "        print(r,end = '')\n",
        "    print()    "
      ]
    },
    {
      "cell_type": "code",
      "source": [
        "for r in range(1,5+1):\n",
        "    for c in range(1,r+1):\n",
        "        print(\"$\",end=\"\")\n",
        "    print()    "
      ],
      "metadata": {
        "colab": {
          "base_uri": "https://localhost:8080/"
        },
        "id": "lHWvCp5Elkbf",
        "outputId": "3fcd302b-eb0f-447d-d1c4-67aef4837e24"
      },
      "execution_count": 1,
      "outputs": [
        {
          "output_type": "stream",
          "name": "stdout",
          "text": [
            "$\n",
            "$$\n",
            "$$$\n",
            "$$$$\n",
            "$$$$$\n"
          ]
        }
      ]
    },
    {
      "cell_type": "code",
      "source": [
        "for r in range(1,5+1):\n",
        "    for c in range(1,6-r+1):\n",
        "        print(\"#\",end='')\n",
        "    print()"
      ],
      "metadata": {
        "colab": {
          "base_uri": "https://localhost:8080/"
        },
        "id": "hzTCQvfKlrl-",
        "outputId": "a32ecdb2-5137-4974-e376-7f24b2f8045f"
      },
      "execution_count": 2,
      "outputs": [
        {
          "output_type": "stream",
          "name": "stdout",
          "text": [
            "#####\n",
            "####\n",
            "###\n",
            "##\n",
            "#\n"
          ]
        }
      ]
    },
    {
      "cell_type": "code",
      "source": [
        "for r in range(1,5+1):\n",
        "    for c in range(1,6-r+1):\n",
        "        print(\"#\",end='')\n",
        "    print()"
      ],
      "metadata": {
        "colab": {
          "base_uri": "https://localhost:8080/"
        },
        "id": "N2cXo4RBl6cQ",
        "outputId": "6b7e4202-d1bd-4cd1-89be-3baeca1eb708"
      },
      "execution_count": 3,
      "outputs": [
        {
          "output_type": "stream",
          "name": "stdout",
          "text": [
            "#####\n",
            "####\n",
            "###\n",
            "##\n",
            "#\n"
          ]
        }
      ]
    },
    {
      "cell_type": "code",
      "source": [
        "for r in range(1,5+1):\n",
        "    for s in range(1,r-1+1):\n",
        "        print(\" \",end = \"\")\n",
        "    for c in range(1,6-r+1):\n",
        "        print(\"$\",end=\"\")\n",
        "    print() \n",
        "    \n"
      ],
      "metadata": {
        "colab": {
          "base_uri": "https://localhost:8080/"
        },
        "id": "0zTA74RDl6WR",
        "outputId": "8d99426b-93c3-48f9-8e8b-5c279827c31f"
      },
      "execution_count": 4,
      "outputs": [
        {
          "output_type": "stream",
          "name": "stdout",
          "text": [
            "$$$$$\n",
            " $$$$\n",
            "  $$$\n",
            "   $$\n",
            "    $\n"
          ]
        }
      ]
    },
    {
      "cell_type": "code",
      "source": [
        "for r in range(1,5+1):\n",
        "    print(r*\"%\")"
      ],
      "metadata": {
        "colab": {
          "base_uri": "https://localhost:8080/"
        },
        "id": "WIXTiIgZl6Nb",
        "outputId": "b4c03739-776a-4a33-94f0-9a6a0b89b1f0"
      },
      "execution_count": 6,
      "outputs": [
        {
          "output_type": "stream",
          "name": "stdout",
          "text": [
            "%\n",
            "%%\n",
            "%%%\n",
            "%%%%\n",
            "%%%%%\n"
          ]
        }
      ]
    },
    {
      "cell_type": "code",
      "source": [
        "for r in range(5,0,-1):\n",
        "    print(r*\"%\")"
      ],
      "metadata": {
        "colab": {
          "base_uri": "https://localhost:8080/"
        },
        "id": "AbqBx5GCl6ET",
        "outputId": "aa4a56c6-e40f-44e0-c6ab-3168509d27d9"
      },
      "execution_count": 7,
      "outputs": [
        {
          "output_type": "stream",
          "name": "stdout",
          "text": [
            "%%%%%\n",
            "%%%%\n",
            "%%%\n",
            "%%\n",
            "%\n"
          ]
        }
      ]
    },
    {
      "cell_type": "code",
      "source": [
        "for r in range(1,5+1):\n",
        "    print((5-r)*\" \"+r*\"&\")"
      ],
      "metadata": {
        "colab": {
          "base_uri": "https://localhost:8080/"
        },
        "id": "EDtMb3s_l53s",
        "outputId": "0c0c3cba-478b-49c9-992b-2875cd6a96b0"
      },
      "execution_count": 8,
      "outputs": [
        {
          "output_type": "stream",
          "name": "stdout",
          "text": [
            "    &\n",
            "   &&\n",
            "  &&&\n",
            " &&&&\n",
            "&&&&&\n"
          ]
        }
      ]
    },
    {
      "cell_type": "code",
      "source": [
        "for r in range(5,0,-1):\n",
        "    print((5-r)*\" \"+r*\"&\")"
      ],
      "metadata": {
        "colab": {
          "base_uri": "https://localhost:8080/"
        },
        "id": "GQ_lT9vyl5jR",
        "outputId": "38251cfd-d689-417f-82b3-3306d5a80f0d"
      },
      "execution_count": 9,
      "outputs": [
        {
          "output_type": "stream",
          "name": "stdout",
          "text": [
            "&&&&&\n",
            " &&&&\n",
            "  &&&\n",
            "   &&\n",
            "    &\n"
          ]
        }
      ]
    },
    {
      "cell_type": "code",
      "source": [
        "# using  user input print a pattern \n",
        "\n",
        "n =int(input(\"enter a row:\"))\n",
        "for r in range(1,n+1):\n",
        "    print(r*\"&\")"
      ],
      "metadata": {
        "colab": {
          "base_uri": "https://localhost:8080/"
        },
        "id": "MXAuao8dmUX0",
        "outputId": "4f4ee3eb-ec84-46a5-b039-634d5a332dd1"
      },
      "execution_count": 10,
      "outputs": [
        {
          "output_type": "stream",
          "name": "stdout",
          "text": [
            "enter a row:4\n",
            "&\n",
            "&&\n",
            "&&&\n",
            "&&&&\n"
          ]
        }
      ]
    },
    {
      "cell_type": "code",
      "source": [
        "# print pyramid pattewrn\n",
        "def pyramid(num):\n",
        "    for r in range(1,num+1):\n",
        "        print(' '*(num-r)+\"* \"*(r))\n",
        "pyramid(4)"
      ],
      "metadata": {
        "colab": {
          "base_uri": "https://localhost:8080/"
        },
        "id": "U0IFXToZmUQi",
        "outputId": "a083d502-d5f3-4c25-f347-ce4c144ab682"
      },
      "execution_count": 11,
      "outputs": [
        {
          "output_type": "stream",
          "name": "stdout",
          "text": [
            "   * \n",
            "  * * \n",
            " * * * \n",
            "* * * * \n"
          ]
        }
      ]
    },
    {
      "cell_type": "code",
      "source": [
        "def pyramid(row):\n",
        "    for r in range(0,row):\n",
        "        print(\" \"*(row-r-1)+'* '*(r+1))\n",
        "pyramid(4)        \n",
        "        "
      ],
      "metadata": {
        "colab": {
          "base_uri": "https://localhost:8080/"
        },
        "id": "7FvFoTUhmUIH",
        "outputId": "005c6765-f715-4f55-d847-64571a7265a5"
      },
      "execution_count": 12,
      "outputs": [
        {
          "output_type": "stream",
          "name": "stdout",
          "text": [
            "   * \n",
            "  * * \n",
            " * * * \n",
            "* * * * \n"
          ]
        }
      ]
    },
    {
      "cell_type": "code",
      "source": [
        "def diamond(row):\n",
        "    for i in range(0,row):\n",
        "        print(\" \"*(row-i-1)+\"* \"*(i+1))\n",
        "    for j in range(row-1,0,-1):\n",
        "        print(\" \"*(row-j)+\"* \"*(j))\n",
        "        \n",
        "diamond(4)  \n",
        "\n",
        "diamond(7)"
      ],
      "metadata": {
        "colab": {
          "base_uri": "https://localhost:8080/"
        },
        "id": "GsOzWcV_mUBH",
        "outputId": "6737d8a1-005e-484f-d74e-981db27bcf50"
      },
      "execution_count": 13,
      "outputs": [
        {
          "output_type": "stream",
          "name": "stdout",
          "text": [
            "   * \n",
            "  * * \n",
            " * * * \n",
            "* * * * \n",
            " * * * \n",
            "  * * \n",
            "   * \n",
            "      * \n",
            "     * * \n",
            "    * * * \n",
            "   * * * * \n",
            "  * * * * * \n",
            " * * * * * * \n",
            "* * * * * * * \n",
            " * * * * * * \n",
            "  * * * * * \n",
            "   * * * * \n",
            "    * * * \n",
            "     * * \n",
            "      * \n"
          ]
        }
      ]
    },
    {
      "cell_type": "code",
      "source": [
        "#   *\n",
        "#   **\n",
        "#   ***\n",
        "#   ****\n",
        "#   *****\n",
        "\n",
        "for r in range(1,5+1):\n",
        "    for c in range(1,r+1):\n",
        "        print(\"*\",end = \"\")\n",
        "    print()    \n",
        "\n",
        "# easy way\n",
        "\n",
        "for r in range(1,5+1):\n",
        "    print(\"*\"*r)"
      ],
      "metadata": {
        "colab": {
          "base_uri": "https://localhost:8080/"
        },
        "id": "NnVahvrOmT5B",
        "outputId": "dfd5a31c-fd6f-49a1-a3c1-68c57b1625ed"
      },
      "execution_count": 14,
      "outputs": [
        {
          "output_type": "stream",
          "name": "stdout",
          "text": [
            "*\n",
            "**\n",
            "***\n",
            "****\n",
            "*****\n",
            "*\n",
            "**\n",
            "***\n",
            "****\n",
            "*****\n"
          ]
        }
      ]
    },
    {
      "cell_type": "code",
      "source": [
        "# *****\n",
        "# ****\n",
        "# ***\n",
        "# **\n",
        "# *\n",
        "\n",
        "\n",
        "for r in range(5,0,-1):\n",
        "    for c in range(1,r+1):\n",
        "        print(\"*\",end = \"\")\n",
        "    print()   \n",
        "    \n",
        "    \n",
        "#short\n",
        "\n",
        "for r in range(5,0,-1):\n",
        "    print(\"8\"*r)"
      ],
      "metadata": {
        "colab": {
          "base_uri": "https://localhost:8080/"
        },
        "id": "eCa-rB3PmTwv",
        "outputId": "d9202f3e-a8d6-4034-e41f-3ce10c0461a0"
      },
      "execution_count": 15,
      "outputs": [
        {
          "output_type": "stream",
          "name": "stdout",
          "text": [
            "*****\n",
            "****\n",
            "***\n",
            "**\n",
            "*\n",
            "88888\n",
            "8888\n",
            "888\n",
            "88\n",
            "8\n"
          ]
        }
      ]
    }
  ],
  "metadata": {
    "kernelspec": {
      "display_name": "Python 3",
      "language": "python",
      "name": "python3"
    },
    "language_info": {
      "codemirror_mode": {
        "name": "ipython",
        "version": 3
      },
      "file_extension": ".py",
      "mimetype": "text/x-python",
      "name": "python",
      "nbconvert_exporter": "python",
      "pygments_lexer": "ipython3",
      "version": "3.8.5"
    },
    "colab": {
      "name": "pattern.ipynb",
      "provenance": [],
      "collapsed_sections": []
    }
  },
  "nbformat": 4,
  "nbformat_minor": 0
}