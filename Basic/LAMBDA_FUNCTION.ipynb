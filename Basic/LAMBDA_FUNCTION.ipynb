{
  "cells": [
    {
      "cell_type": "code",
      "execution_count": 1,
      "metadata": {
        "colab": {
          "base_uri": "https://localhost:8080/"
        },
        "id": "JFXUIiMFW-8Y",
        "outputId": "9190ab1b-56b3-4790-afeb-f292f7823be1"
      },
      "outputs": [
        {
          "output_type": "stream",
          "name": "stdout",
          "text": [
            "14\n"
          ]
        }
      ],
      "source": [
        "double = lambda x:x*2\n",
        "print(double(7))"
      ]
    },
    {
      "cell_type": "code",
      "execution_count": 2,
      "metadata": {
        "colab": {
          "base_uri": "https://localhost:8080/"
        },
        "id": "zejsmsSIW-8w",
        "outputId": "64f0d932-1614-4577-bbc7-f3be089a568f"
      },
      "outputs": [
        {
          "output_type": "stream",
          "name": "stdout",
          "text": [
            "True\n",
            "[2, 4, 6, 8, 10]\n"
          ]
        }
      ],
      "source": [
        "even = lambda x:x%2 == 0\n",
        "print(even(10))\n",
        "\n",
        "num = [2,3,4,5,6,7,8,9,10]\n",
        "even = filter(lambda x:x%2 == 0,num)\n",
        "print(list(even))"
      ]
    },
    {
      "cell_type": "code",
      "execution_count": 3,
      "metadata": {
        "colab": {
          "base_uri": "https://localhost:8080/"
        },
        "id": "RHH-vKl3W-81",
        "outputId": "d0a9506d-1f49-48f2-c873-8f579d4e3a1c"
      },
      "outputs": [
        {
          "output_type": "stream",
          "name": "stdout",
          "text": [
            "[7, 14]\n"
          ]
        }
      ],
      "source": [
        "mul_7 = [2,3,4,5,6,7,8,9,14,10]\n",
        "mul = filter(lambda x:x%7 == 0,mul_7)\n",
        "print(list(mul))"
      ]
    },
    {
      "cell_type": "code",
      "execution_count": 4,
      "metadata": {
        "colab": {
          "base_uri": "https://localhost:8080/"
        },
        "id": "-29A3APnW-85",
        "outputId": "c2819f30-388c-4733-f475-1f2b9590ef7f"
      },
      "outputs": [
        {
          "output_type": "stream",
          "name": "stdout",
          "text": [
            "[16, 27, 38, 49, 60]\n"
          ]
        }
      ],
      "source": [
        "#map() ===> \n",
        "num = [11,22,33,44,55]\n",
        "add = map(lambda x:x+5,num)\n",
        "print(list(add))"
      ]
    },
    {
      "cell_type": "code",
      "execution_count": 5,
      "metadata": {
        "id": "mWdBuwLcW-88"
      },
      "outputs": [],
      "source": [
        "# prime no using lambda\n",
        "\n",
        "num = (2,101)\n",
        "prime = lambda x:x==i"
      ]
    },
    {
      "cell_type": "markdown",
      "metadata": {
        "id": "eznfpy24W-9A"
      },
      "source": [
        "# map function"
      ]
    },
    {
      "cell_type": "code",
      "execution_count": null,
      "metadata": {
        "id": "WTykl2r4W-9O"
      },
      "outputs": [],
      "source": [
        "# map(function, iterabel)"
      ]
    },
    {
      "cell_type": "code",
      "execution_count": 6,
      "metadata": {
        "colab": {
          "base_uri": "https://localhost:8080/"
        },
        "id": "2QMsIJVeW-9T",
        "outputId": "1ccf1388-e8b5-44d4-bac0-33149bfb70cb"
      },
      "outputs": [
        {
          "output_type": "stream",
          "name": "stdout",
          "text": [
            "[121, 484, 1089, 1936, 3025]\n"
          ]
        }
      ],
      "source": [
        "num = [11,22,33,44,55]\n",
        "r = map(lambda X:X**2, num)\n",
        "print(list(r))"
      ]
    }
  ],
  "metadata": {
    "kernelspec": {
      "display_name": "Python 3",
      "language": "python",
      "name": "python3"
    },
    "language_info": {
      "codemirror_mode": {
        "name": "ipython",
        "version": 3
      },
      "file_extension": ".py",
      "mimetype": "text/x-python",
      "name": "python",
      "nbconvert_exporter": "python",
      "pygments_lexer": "ipython3",
      "version": "3.7.7"
    },
    "colab": {
      "name": "LAMBDA FUNCTION.ipynb",
      "provenance": [],
      "collapsed_sections": []
    }
  },
  "nbformat": 4,
  "nbformat_minor": 0
}