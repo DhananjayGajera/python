{
  "cells": [
    {
      "cell_type": "markdown",
      "metadata": {
        "id": "2PRTxPiWCFbh"
      },
      "source": [
        "# it is basically used in string manipulation,\n",
        "\n",
        "#  vareify that string &match that pattern, performing substitution in a string\n"
      ]
    },
    {
      "cell_type": "markdown",
      "metadata": {
        "id": "Voc8m26zCFbu"
      },
      "source": [
        "# 1. re. match(pattern,string)==== it matches at the beginnig of the string\n"
      ]
    },
    {
      "cell_type": "code",
      "execution_count": 2,
      "metadata": {
        "colab": {
          "base_uri": "https://localhost:8080/"
        },
        "id": "RZVdxd_YCFbv",
        "outputId": "6ecac197-733a-43f0-b348-8daca0e6b24a"
      },
      "outputs": [
        {
          "output_type": "stream",
          "name": "stdout",
          "text": [
            "match\n"
          ]
        }
      ],
      "source": [
        "import re\n",
        "pattern = r\"spam\"\n",
        "if re.match(pattern,\"spamegg\"):\n",
        "    print(\"match\")\n",
        "    \n",
        "else:\n",
        "    print(\"no match\")"
      ]
    },
    {
      "cell_type": "markdown",
      "metadata": {
        "id": "W6APgGzECFby"
      },
      "source": [
        "# 2. re.search  === find a match anywhere in the string\n",
        "\n",
        "# 3. re.findall ==== return a list of substring which matches pattern\n"
      ]
    },
    {
      "cell_type": "code",
      "execution_count": 1,
      "metadata": {
        "colab": {
          "base_uri": "https://localhost:8080/"
        },
        "id": "SyNJ-CnwCFbz",
        "outputId": "03de1744-256c-4c78-b75d-cf9badb7483d"
      },
      "outputs": [
        {
          "output_type": "stream",
          "name": "stdout",
          "text": [
            "no match\n",
            "match\n",
            "['spam', 'spam']\n"
          ]
        }
      ],
      "source": [
        "import re\n",
        "pattern = \"spam\"\n",
        "if re.match(pattern,\"eggspamsausagespam\"):\n",
        "    print(\"match\")\n",
        "else:\n",
        "    print(\"no match\")\n",
        "    \n",
        "if re.search(pattern,\"eggspamsausagespam\"):\n",
        "    print(\"match\")\n",
        "else:\n",
        "    print(\"no match\")\n",
        "    \n",
        "print(re.findall(pattern,\"eggspamsausagespam\"))\n"
      ]
    },
    {
      "cell_type": "markdown",
      "metadata": {
        "id": "m4K33GGlCFb0"
      },
      "source": [
        "# group ==which return the string matched\n",
        "\n",
        "# start = = which return start position of the first match\n",
        "\n",
        "# end = =  which return end position of the first match\n",
        "\n",
        "# span == which return start and end position of the first match"
      ]
    },
    {
      "cell_type": "code",
      "execution_count": 3,
      "metadata": {
        "colab": {
          "base_uri": "https://localhost:8080/"
        },
        "id": "ChtUKvqZCFb1",
        "outputId": "72f29a37-39a8-4c1a-f86a-e2566e3a9c5e"
      },
      "outputs": [
        {
          "output_type": "stream",
          "name": "stdout",
          "text": [
            "pam\n",
            "4\n",
            "7\n",
            "(4, 7)\n"
          ]
        }
      ],
      "source": [
        "import re\n",
        "pattern = r\"pam\"\n",
        "match = re.search(pattern,'eggspamsausage')\n",
        "if match:\n",
        "    print(match.group())     # pam\n",
        "    print(match.start())    # 4\n",
        "    print(match.end())      # 7\n",
        "    print(match.span())     # (4,7)"
      ]
    },
    {
      "cell_type": "markdown",
      "metadata": {
        "id": "tp096CajCFb2"
      },
      "source": [
        "# search and replace.\n",
        "\n",
        "# re.sub(pattern,repl,string,count  = 0),count 0 is bydefault & we can change count"
      ]
    },
    {
      "cell_type": "code",
      "execution_count": 4,
      "metadata": {
        "colab": {
          "base_uri": "https://localhost:8080/"
        },
        "id": "dG4s3yqcCFb3",
        "outputId": "5cd485a1-dd7d-4beb-f6bd-529553e9636c"
      },
      "outputs": [
        {
          "output_type": "stream",
          "name": "stdout",
          "text": [
            "my name is monu,hi monu,cool monu\n",
            "my name is monu,hi david,cool david\n"
          ]
        }
      ],
      "source": [
        "import re \n",
        "str= \"my name is david,hi david,cool david\"\n",
        "pattern = r\"david\"\n",
        "newstr = re.sub(pattern,\"monu\",str)\n",
        "print(newstr)\n",
        "\n",
        "# if we set count =1 means count only one time(means replace value applied only one time )\n",
        "newstr = re.sub(pattern,\"monu\",str,count =1)  # only 1 time replace\n",
        "print(newstr)"
      ]
    },
    {
      "cell_type": "markdown",
      "metadata": {
        "id": "jrHLBI6lCFb5"
      },
      "source": [
        "# metacharacter = they provide some functionality\n",
        "\n",
        "# dot(.) ==== this matches any char,(ratherthan new line)but no match new line\n",
        "\n",
        "#   $,^   ===  these match start and end of the sring"
      ]
    },
    {
      "cell_type": "code",
      "execution_count": 5,
      "metadata": {
        "colab": {
          "base_uri": "https://localhost:8080/"
        },
        "id": "WNY9V76mCFb6",
        "outputId": "82df87d4-5795-4583-d0d0-5559eea072d3"
      },
      "outputs": [
        {
          "output_type": "stream",
          "name": "stdout",
          "text": [
            "match1\n",
            "match3\n"
          ]
        }
      ],
      "source": [
        "import re\n",
        "pattern = \"gr.y\"\n",
        "if re.match(pattern,\"grey\"):\n",
        "    print('match1')\n",
        "    \n",
        "if re.match(pattern,\"qwertyuiop\"):\n",
        "    print(\"match 2\")\n",
        "    \n",
        "if re.match(pattern,'gray'):\n",
        "    print(\"match3\")"
      ]
    },
    {
      "cell_type": "code",
      "execution_count": 6,
      "metadata": {
        "colab": {
          "base_uri": "https://localhost:8080/"
        },
        "id": "sSPUZ1H1CFb7",
        "outputId": "cfecde6f-6a87-402a-d09d-c47f79eda638"
      },
      "outputs": [
        {
          "output_type": "stream",
          "name": "stdout",
          "text": [
            "match1\n",
            "match2\n"
          ]
        }
      ],
      "source": [
        "#  ^,$ ==== start and end of the match\n",
        "import re\n",
        "pattern = r\"^gr.y$\"\n",
        "if re.match(pattern,\"gray\"):\n",
        "    print('match1')\n",
        "if re.match(pattern,\"grey\"):\n",
        "    print(\"match2\")\n",
        "    \n",
        "    "
      ]
    },
    {
      "cell_type": "markdown",
      "metadata": {
        "id": "Qzn8ow1ECFb8"
      },
      "source": [
        "# .character classes == it provide a way to match only one specific set of char\n",
        "# .char class ====[asdsss],[a,b,c,d],etc"
      ]
    },
    {
      "cell_type": "code",
      "execution_count": 7,
      "metadata": {
        "colab": {
          "base_uri": "https://localhost:8080/"
        },
        "id": "e5KO1UGECFb9",
        "outputId": "52522306-a6f3-4334-ccf1-04745b30dcd2"
      },
      "outputs": [
        {
          "output_type": "stream",
          "name": "stdout",
          "text": [
            "match1\n",
            "match2\n"
          ]
        }
      ],
      "source": [
        "import re\n",
        "pattern = r\"[aeiou]\"\n",
        "if re.search(pattern,\"grey\"):\n",
        "    print(\"match1\")\n",
        "if re.search(pattern,'qwertyuiop'):\n",
        "    print(\"match2\")\n",
        "if re.search(pattern,\"rythm myths\"):\n",
        "    print(\"match 3\")\n"
      ]
    },
    {
      "cell_type": "code",
      "execution_count": 8,
      "metadata": {
        "colab": {
          "base_uri": "https://localhost:8080/"
        },
        "id": "GGLkHVKKCFb9",
        "outputId": "bd51b448-5ce0-4761-f10c-28d7b22b406b"
      },
      "outputs": [
        {
          "output_type": "stream",
          "name": "stdout",
          "text": [
            "match2\n"
          ]
        }
      ],
      "source": [
        "#  here any one form abc then any one from def\n",
        "import re\n",
        "pattern = r\"[abc][def]\"\n",
        "\n",
        "if re.match(pattern,'tea'):\n",
        "    print('match1')\n",
        "    \n",
        "if re.match(pattern,'aettt'):\n",
        "    print('match2')\n",
        "    \n",
        "if re.match(pattern,\"ate\"):\n",
        "    print(\"match3\")"
      ]
    },
    {
      "cell_type": "code",
      "execution_count": 9,
      "metadata": {
        "id": "biwKWvJBCFb-"
      },
      "outputs": [],
      "source": [
        "# [a-z] ==== any letter from a-z\n",
        "#[A-z]==== any letter from A-Z\n",
        "# [G-P]==== any letter from g-p\n",
        "#[0-9] ====  any letter from 0-9\n",
        "#[A-za-z] ==== matches a letter of any case\n",
        "#[abc][def] === any letter out of (abc) & then any letter from(def)"
      ]
    },
    {
      "cell_type": "code",
      "execution_count": 10,
      "metadata": {
        "colab": {
          "base_uri": "https://localhost:8080/"
        },
        "id": "sdZXJAxgCFb_",
        "outputId": "829529ca-acec-44c7-d40e-01dc9639638f"
      },
      "outputs": [
        {
          "output_type": "stream",
          "name": "stdout",
          "text": [
            "match1\n"
          ]
        }
      ],
      "source": [
        "import re\n",
        "pattern = r\"[A-Z][a-z][0-9]\"\n",
        "if re.search(pattern,\"Ls8\"):\n",
        "    print(\"match1\")\n",
        "    \n",
        "if re.search(pattern,\"E3\"):\n",
        "    print(\"match2\")\n",
        "    \n",
        "if re.search(pattern,\"1ab\"):\n",
        "    print(\"match3\")"
      ]
    },
    {
      "cell_type": "code",
      "execution_count": 11,
      "metadata": {
        "colab": {
          "base_uri": "https://localhost:8080/"
        },
        "id": "JuN5_TZ_CFcB",
        "outputId": "ed104aa8-76c5-488d-b5c6-731293cddc40"
      },
      "outputs": [
        {
          "output_type": "stream",
          "name": "stdout",
          "text": [
            "match1\n"
          ]
        }
      ],
      "source": [
        "import re\n",
        "pattern = r\"[1-5][0-9]\"\n",
        "if re.search(pattern,\"23\"):\n",
        "    print(\"match1\")\n",
        "if re.search(pattern,\"9\"):\n",
        "    print(\"match2\")"
      ]
    },
    {
      "cell_type": "markdown",
      "metadata": {
        "id": "LG6CrmFRCFcC"
      },
      "source": [
        "# If ^ in the begining of the char classes then ,   ^--- inverse the char class,    [^A-z] excluded uppercase string"
      ]
    },
    {
      "cell_type": "code",
      "execution_count": 12,
      "metadata": {
        "colab": {
          "base_uri": "https://localhost:8080/"
        },
        "id": "dM28w2MWCFcD",
        "outputId": "6fdf4676-25c4-49ed-c100-d5df31b9d816"
      },
      "outputs": [
        {
          "output_type": "stream",
          "name": "stdout",
          "text": [
            "match1\n",
            "match2\n"
          ]
        }
      ],
      "source": [
        "import re\n",
        "pattern = r\"[^A-Z]\"  # ^ take any value rather than uppercase\n",
        "\n",
        "if re.search(pattern,\"this is all quiet\"):\n",
        "    print(\"match1\")\n",
        "    \n",
        "if re.search(pattern,\"AbcQE123\"):\n",
        "    print(\"match2\")\n",
        "    \n",
        "if re.search(pattern,\"THISISALLQUIET\"):\n",
        "    print(\"match3\")"
      ]
    },
    {
      "cell_type": "code",
      "execution_count": 13,
      "metadata": {
        "colab": {
          "base_uri": "https://localhost:8080/"
        },
        "id": "ekOKCDIkCFcE",
        "outputId": "5e0844ae-3b5c-4509-b72f-7222a94e4f05"
      },
      "outputs": [
        {
          "output_type": "stream",
          "name": "stdout",
          "text": [
            "match1\n",
            "match3\n"
          ]
        }
      ],
      "source": [
        "import re\n",
        "\n",
        "pattern = r\"[^0-9]\"\n",
        "if re.search(pattern,\"hi there\"):\n",
        "    print(\"match1\")\n",
        "    \n",
        "if re.search(pattern,\"123\"):\n",
        "    print(\"match2\")\n",
        "    \n",
        "if re.search(pattern,\"Abc123\"):\n",
        "    print('match3')"
      ]
    },
    {
      "cell_type": "markdown",
      "metadata": {
        "id": "BX_RuPIBCFcE"
      },
      "source": [
        "#      more metachar(*,+,?) === these specify no. of repeation.\n",
        "\n",
        "#     *   ====   means zero or more repetition, of previous thing.(previous thing can be single or group of char)\n",
        "\n",
        "#    +   =====  means 1 or more repetition \n",
        "#     ? ======  means 0 or 1 repetition"
      ]
    },
    {
      "cell_type": "code",
      "execution_count": 14,
      "metadata": {
        "colab": {
          "base_uri": "https://localhost:8080/"
        },
        "id": "H8zv2RCICFcF",
        "outputId": "b7999667-dd79-4366-ee61-b517a6510c37"
      },
      "outputs": [
        {
          "output_type": "stream",
          "name": "stdout",
          "text": [
            "match1\n",
            "match2\n"
          ]
        }
      ],
      "source": [
        "import re\n",
        "pattern = r\"egg(spam)*\"\n",
        "\n",
        "if re.match(pattern,\"egg\"):\n",
        "    print(\"match1\")\n",
        "if re.match(pattern,\"eggspamspamegg\"):\n",
        "    print(\"match2\")\n",
        "if re.match(pattern,\"spam\"):\n",
        "    print(\"match3\")"
      ]
    },
    {
      "cell_type": "code",
      "execution_count": 15,
      "metadata": {
        "colab": {
          "base_uri": "https://localhost:8080/"
        },
        "id": "VfNsBv98CFcG",
        "outputId": "02565932-6df6-47be-82a3-816405bc26f8"
      },
      "outputs": [
        {
          "output_type": "stream",
          "name": "stdout",
          "text": [
            "match1\n",
            "match2\n"
          ]
        }
      ],
      "source": [
        "import re\n",
        "pattern = r\"[a^]*\"\n",
        "if re.match(pattern,\" \"):\n",
        "    print(\"match1\")\n",
        "if re.match(pattern,\"a^\"):\n",
        "    print(\"match2\")"
      ]
    },
    {
      "cell_type": "code",
      "execution_count": 16,
      "metadata": {
        "colab": {
          "base_uri": "https://localhost:8080/"
        },
        "id": "z-_QB5QlCFcH",
        "outputId": "8b997f56-4f29-4c0b-98c6-034f09f84add"
      },
      "outputs": [
        {
          "output_type": "stream",
          "name": "stdout",
          "text": [
            "match1\n",
            "match2\n"
          ]
        }
      ],
      "source": [
        "import re\n",
        "pattern = \"g+\"   # + ---- means 1 0r more repetition\n",
        "if re.match(pattern,\"gggggg\"):\n",
        "    print(\"match1\")\n",
        "if re.match(pattern,\"g\"):\n",
        "    print(\"match2\")\n",
        "if re.match(pattern,\"abc\"):\n",
        "    print(\"match3\")"
      ]
    },
    {
      "cell_type": "code",
      "execution_count": 17,
      "metadata": {
        "colab": {
          "base_uri": "https://localhost:8080/"
        },
        "id": "E3mXTIYlCFcI",
        "outputId": "c83fdea0-0e50-4d57-c7c7-c98ffb0fccd2"
      },
      "outputs": [
        {
          "output_type": "stream",
          "name": "stdout",
          "text": [
            "match1\n",
            "math2\n"
          ]
        }
      ],
      "source": [
        "import re \n",
        "pattern = \"ice(-)?cream\"\n",
        "\n",
        "if re.match(pattern,\"ice-cream\"):\n",
        "    print(\"match1\")\n",
        "    \n",
        "if re.match(pattern,\"icecream\"):\n",
        "    print(\"math2\")\n",
        "    \n",
        "if re.match(pattern,'sausage'):\n",
        "    print(\"match3\")\n",
        "\n",
        "if re.match(pattern,\"ice--ice\"):\n",
        "    print(\"match4\")\n",
        "    "
      ]
    },
    {
      "cell_type": "code",
      "execution_count": 18,
      "metadata": {
        "colab": {
          "base_uri": "https://localhost:8080/"
        },
        "id": "5uW33cgJCFcJ",
        "outputId": "949076b4-b4bd-4c50-a55f-5a1751c56846"
      },
      "outputs": [
        {
          "output_type": "stream",
          "name": "stdout",
          "text": [
            "match1\n"
          ]
        }
      ],
      "source": [
        "# {} ===  number of repetition b/w two no\n",
        "\n",
        "import re\n",
        "pattern = r\"9{1,3}\" \n",
        "if re.match(pattern,\"9\"):\n",
        "    print(\"match1\")\n",
        "#if re.match(pattern,)    "
      ]
    },
    {
      "cell_type": "markdown",
      "metadata": {
        "id": "ZuYcNUqXCFcL"
      },
      "source": [
        "# groups -- can be created by re (),this meansgroup can be argument by such as           * &?\n"
      ]
    },
    {
      "cell_type": "code",
      "execution_count": 19,
      "metadata": {
        "colab": {
          "base_uri": "https://localhost:8080/"
        },
        "id": "veOjZ1qgCFcM",
        "outputId": "df935b71-47a1-4133-a75b-46fba6d613ef"
      },
      "outputs": [
        {
          "output_type": "stream",
          "name": "stdout",
          "text": [
            "abcdefghi\n",
            "bc\n",
            "de\n",
            "fgh\n",
            "g\n"
          ]
        }
      ],
      "source": [
        "import re\n",
        "pattern = r\"a(bc)(de)(f(g)h)i\"\n",
        "\n",
        "match = re.match(pattern,\"abcdefghijkl\")\n",
        "\n",
        "if match:\n",
        "    print(match.group(0))\n",
        "    print(match.group(1))\n",
        "    print(match.group(2))\n",
        "    print(match.group(3))\n",
        "    print(match.group(4))\n",
        "    "
      ]
    },
    {
      "cell_type": "raw",
      "metadata": {
        "id": "FG1hEaZQCFcN"
      },
      "source": [
        "# types of group == named group and non capturing group\n",
        "# named group === have format (?P<name>...), ....===context, name ==  name of group\n",
        "# non capturing group = have a format (?:...)  , they cannot be accessible by group methed, "
      ]
    },
    {
      "cell_type": "code",
      "execution_count": null,
      "metadata": {
        "id": "B2ruzEgQCFcN",
        "outputId": "a421d5d2-f802-40ca-c7c4-f96072ddef8b"
      },
      "outputs": [
        {
          "name": "stdout",
          "output_type": "stream",
          "text": [
            "abc\n",
            "('abc', 'ghi')\n"
          ]
        }
      ],
      "source": [
        "import re \n",
        "pattern  =  r\"(?P<first>abc)(?:def)(ghi)\"\n",
        "match = re.match(pattern,\"abcdefghijkl\")\n",
        "if match:\n",
        "    print(match.group(\"first\"))\n",
        "    print(match.groups())"
      ]
    },
    {
      "cell_type": "code",
      "execution_count": null,
      "metadata": {
        "id": "tMghWZocCFcP"
      },
      "outputs": [],
      "source": [
        "#anoter important meta char |  a|b means a or b"
      ]
    },
    {
      "cell_type": "code",
      "execution_count": null,
      "metadata": {
        "id": "nHw8kQ1qCFcQ",
        "outputId": "a4860ed8-e44b-42fd-eedd-ba6dfe8ab088"
      },
      "outputs": [
        {
          "name": "stdout",
          "output_type": "stream",
          "text": [
            "match1\n",
            "match2\n"
          ]
        }
      ],
      "source": [
        "import re\n",
        "pattern  = r\"gr(a|e)y\"\n",
        "\n",
        "match = re.match(pattern,\"grey\")\n",
        "if match:\n",
        "    print(\"match1\")\n",
        "\n",
        "match = re.match(pattern,\"gray\")\n",
        "if match:\n",
        "    print(\"match2\")\n",
        "\n",
        "match = re.match(pattern,\"griy\")\n",
        "if match:\n",
        "    print(\"match3\")"
      ]
    },
    {
      "cell_type": "code",
      "execution_count": null,
      "metadata": {
        "id": "ZkY6SP49CFcS",
        "outputId": "f39f8bb2-30f2-4f8c-966a-a3c885f236f7"
      },
      "outputs": [
        {
          "name": "stdout",
          "output_type": "stream",
          "text": [
            "match\n"
          ]
        }
      ],
      "source": [
        "import re\n",
        "pattern = r\"[12345]\"\n",
        "match = re.match(pattern,\"1\")\n",
        "if match:\n",
        "    print(\"match\")"
      ]
    },
    {
      "cell_type": "code",
      "execution_count": null,
      "metadata": {
        "id": "o9BjjGYFCFcT",
        "outputId": "0033e651-c4b2-4840-cd3c-45e673998ae1"
      },
      "outputs": [
        {
          "name": "stdout",
          "output_type": "stream",
          "text": [
            "match\n"
          ]
        }
      ],
      "source": [
        "import re\n",
        "pattern = r\"[1-6]\"\n",
        "match = re.match(pattern,\"3\")\n",
        "if match:\n",
        "    print(\"match\")"
      ]
    },
    {
      "cell_type": "markdown",
      "metadata": {
        "id": "uypnOixCCFcT"
      },
      "source": [
        "# SPECIAL SEQUENCE === there are many special sequence you can use in re,one usefull special sequence in backslash & a no. b/w   1 & 99 , example \\1 or \\17.this matches the expression of the group of that NO."
      ]
    },
    {
      "cell_type": "code",
      "execution_count": 20,
      "metadata": {
        "colab": {
          "base_uri": "https://localhost:8080/"
        },
        "id": "6nRDaud_CFcU",
        "outputId": "5ba5fd43-6594-4799-a2ab-ff9548b709de"
      },
      "outputs": [
        {
          "output_type": "stream",
          "name": "stdout",
          "text": [
            "match1\n",
            "match2\n"
          ]
        }
      ],
      "source": [
        "import re\n",
        "pattern = r\"(.+) \\1\"\n",
        "\n",
        "match = re.match(pattern,\"word word\")\n",
        "if match:\n",
        "    print(\"match1\")\n",
        "    \n",
        "match = re.match(pattern,\"?! ?!\")\n",
        "if match:\n",
        "    print(\"match2\")\n",
        "    \n",
        "match = re.match(pattern,\"abcdef\")\n",
        "if match:\n",
        "    print(\"match3\")\n",
        "    \n",
        "    \n",
        "    \n",
        "    "
      ]
    },
    {
      "cell_type": "code",
      "execution_count": 21,
      "metadata": {
        "colab": {
          "base_uri": "https://localhost:8080/"
        },
        "id": "hKuF1TKjCFcV",
        "outputId": "d4f80e69-af6d-4f36-9af7-c238aae04bb6"
      },
      "outputs": [
        {
          "output_type": "stream",
          "name": "stdout",
          "text": [
            "match1\n"
          ]
        }
      ],
      "source": [
        "import re\n",
        "pattern = r\"(.+) (.+) (.+)\\1\"\n",
        "\n",
        "if re.match(pattern,\"abc bca cab abc\"):\n",
        "    print(\"match1\")\n",
        "\n",
        "if re.match(pattern,\"abc bca cab bca\"):\n",
        "    print('match2')\n",
        "\n",
        "if re.match(pattern,\"abc bca cab cab\"):\n",
        "    print(\"match3\")\n",
        "\n",
        "    \n",
        "    "
      ]
    },
    {
      "cell_type": "code",
      "execution_count": 22,
      "metadata": {
        "colab": {
          "base_uri": "https://localhost:8080/"
        },
        "id": "O1BKQre9CFcW",
        "outputId": "c3e586e2-d9eb-4f34-df0f-0352580bbc5e"
      },
      "outputs": [
        {
          "output_type": "stream",
          "name": "stdout",
          "text": [
            "match2\n"
          ]
        }
      ],
      "source": [
        "import re\n",
        "pattern = r\"(.+),(.+),(.+)\\2\"\n",
        "\n",
        "if re.match(pattern,\"abc,bca,cab,abc\"):\n",
        "    print(\"match1\")\n",
        "    \n",
        "if re.match(pattern,\"abc,bca,cab,bca\"):\n",
        "    print(\"match2\")\n",
        "    \n",
        "if re.match(pattern,\"abc,bca,cab,cab\"):\n",
        "    print(\"match3\")"
      ]
    },
    {
      "cell_type": "code",
      "execution_count": 23,
      "metadata": {
        "colab": {
          "base_uri": "https://localhost:8080/"
        },
        "id": "81zD9rRaCFcX",
        "outputId": "f7d97341-c1ed-4608-abcd-c28f6cdfd0dc"
      },
      "outputs": [
        {
          "output_type": "stream",
          "name": "stdout",
          "text": [
            "match3\n"
          ]
        }
      ],
      "source": [
        "import re\n",
        "pattern = r\"(.+) (.+) (.+) \\3\"\n",
        "\n",
        "if re.match(pattern,\"abc bca cab abc\"):\n",
        "    print(\"match1\")\n",
        "\n",
        "if re.match(pattern,\"abc bca cab bca\"):\n",
        "    print(\"match2\")\n",
        "    \n",
        "if re.match(pattern,\"abc bca cab cab\"):\n",
        "    print(\"match3\")"
      ]
    },
    {
      "cell_type": "raw",
      "metadata": {
        "id": "Q9-vDN-WCFcY"
      },
      "source": [
        "# \\d     ===     match digit ,[0-9]\n",
        "   \\s    ===     match white space ,[\\t\\n\\r\\f\\v]\n",
        "   \\w    ===     match char\n",
        "   \\D    ===     match anything not digit\n",
        "   \\S    ===     match anything not white space\n",
        "   \\W    ===     match anything not char"
      ]
    },
    {
      "cell_type": "code",
      "execution_count": null,
      "metadata": {
        "id": "EO6RJ06HCFcY",
        "outputId": "47a0fe79-a2b2-4d1f-c6a5-9228efda326e"
      },
      "outputs": [
        {
          "name": "stdout",
          "output_type": "stream",
          "text": [
            "match1\n"
          ]
        }
      ],
      "source": [
        "import re\n",
        "pattern = r\"(\\D+\\d)\"\n",
        "\n",
        "if re.match(pattern,\"hi 999\"):\n",
        "    print(\"match1\")\n",
        "    \n",
        "if re.match(pattern,\"1,23,456\"):\n",
        "    print('match2')\n",
        "    \n",
        "if re.match(pattern,\"!$?\"):\n",
        "    print(\"match3\")\n",
        "    \n",
        "    \n",
        "    \n",
        "    \n",
        "    \n",
        "    "
      ]
    },
    {
      "cell_type": "markdown",
      "metadata": {
        "id": "afkIVSm1CFcZ"
      },
      "source": [
        "# more special sequence = = \n",
        "# \\A === match begining and then end\n",
        "# \\Z=====\n",
        "\n",
        "# \\b ==== match empty string between \\w & \\W (and any  white space b/w then),or any  value in the begining and in the end (ex.  \"\\b(cat)\\b\",in the start and in  the end ,\\b consist any value)   ,,,,,,,,,,   but not take alphanumeric value in the beg & end (scatD , here s and D not  match)\n",
        "\n",
        "# \\B === match empty string anywhere else"
      ]
    },
    {
      "cell_type": "code",
      "execution_count": 24,
      "metadata": {
        "colab": {
          "base_uri": "https://localhost:8080/"
        },
        "id": "YGknIW32CFca",
        "outputId": "ce4e2788-721e-47d4-8c4a-5c9cad4c4267"
      },
      "outputs": [
        {
          "output_type": "stream",
          "name": "stdout",
          "text": [
            "match1\n",
            "match2\n"
          ]
        }
      ],
      "source": [
        "import re\n",
        "pattern = r\"\\b(cat)\\b\"\n",
        "\n",
        "if re.search(pattern,\"the cat sat\"):\n",
        "    print('match1')\n",
        "\n",
        "if re.search(pattern,\"we s>cat<tered?\"):\n",
        "    print(\"match2\")\n",
        "    \n",
        "if re.search(pattern,\"we scattered\"):\n",
        "    print(\"match3\")"
      ]
    },
    {
      "cell_type": "code",
      "execution_count": 25,
      "metadata": {
        "colab": {
          "base_uri": "https://localhost:8080/"
        },
        "id": "LuKBm25XCFcb",
        "outputId": "b59e6a8b-4e6d-43ab-b734-89188367d711"
      },
      "outputs": [
        {
          "output_type": "stream",
          "name": "stdout",
          "text": [
            "match1\n",
            "match2\n",
            "match3\n",
            "match4\n"
          ]
        }
      ],
      "source": [
        "# more better example\n",
        "\n",
        "import re\n",
        "pattern = r\"\\b(huri)\\b\"\n",
        "if re.search(pattern,\"the huri cur\"):\n",
        "    print(\"match1\")\n",
        "if re.search(pattern,\"the/huri.cur\"):\n",
        "    print(\"match2\")\n",
        "if re.search(pattern,\"the*huri+cur\"):\n",
        "    print(\"match3\")\n",
        "if re.search(pattern,\"the*huri:cur\"):\n",
        "    print(\"match4\")\n",
        "\n",
        "    \n",
        "if re.search(pattern,\"th3huri4cur\"):  # it will not cause alphabet berfor match,its take non aalphanumric value\n",
        "    print(\"match5\")\n",
        "    \n",
        "    \n",
        "#   note =   here \\b can be any value in the begninig and the end "
      ]
    },
    {
      "cell_type": "markdown",
      "metadata": {
        "id": "nfIP7XayCFcc"
      },
      "source": [
        "# email extraction ===== we can extract email addrsss from string\n",
        "\n",
        "..."
      ]
    },
    {
      "cell_type": "code",
      "execution_count": 26,
      "metadata": {
        "id": "BbuztsA9CFcc"
      },
      "outputs": [],
      "source": [
        "import re\n",
        "pattern = r\"([\\w\\.-]+)@([\\W\\.-]+)(\\.[\\w\\.]+)\"\n",
        "\n",
        "str = \"please contact info@sololearn.com for assistance\"\n",
        "\n",
        "match = re.search(pattern,str)\n",
        "if match:\n",
        "    print(match.group())"
      ]
    }
  ],
  "metadata": {
    "kernelspec": {
      "display_name": "Python 3",
      "language": "python",
      "name": "python3"
    },
    "language_info": {
      "codemirror_mode": {
        "name": "ipython",
        "version": 3
      },
      "file_extension": ".py",
      "mimetype": "text/x-python",
      "name": "python",
      "nbconvert_exporter": "python",
      "pygments_lexer": "ipython3",
      "version": "3.8.5"
    },
    "colab": {
      "name": "regular expression.ipynb",
      "provenance": [],
      "collapsed_sections": [
        "LG6CrmFRCFcC",
        "BX_RuPIBCFcE",
        "ZuYcNUqXCFcL",
        "FG1hEaZQCFcN",
        "uypnOixCCFcT",
        "Q9-vDN-WCFcY",
        "afkIVSm1CFcZ",
        "nfIP7XayCFcc"
      ]
    }
  },
  "nbformat": 4,
  "nbformat_minor": 0
}