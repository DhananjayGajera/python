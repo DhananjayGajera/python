{
  "cells": [
    {
      "cell_type": "code",
      "execution_count": 1,
      "metadata": {
        "colab": {
          "base_uri": "https://localhost:8080/"
        },
        "id": "X9HncGGhCAuy",
        "outputId": "12694487-8e97-4bf6-e970-663f387c6f16"
      },
      "outputs": [
        {
          "output_type": "execute_result",
          "data": {
            "text/plain": [
              "[('John', '20', '90'),\n",
              " ('Jony', '17', '91'),\n",
              " ('Jony', '17', '93'),\n",
              " ('Json', '21', '85'),\n",
              " ('Tom', '19', '80')]"
            ]
          },
          "metadata": {},
          "execution_count": 1
        }
      ],
      "source": [
        "from operator import itemgetter\n",
        "l = tuple([('Jony', '17', '91'),('John', '20', '90'),('Jony', '17', '93'),('Tom', '19', '80'),('Json', '21', '85')])\n",
        "sorted(l,key = itemgetter(0,1,2))"
      ]
    },
    {
      "cell_type": "markdown",
      "metadata": {
        "id": "NMzOFFRpCAu6"
      },
      "source": [
        "# sorted(l,itemgetter) ====>  applied sort on 3 simultaneous value(0,1,2)"
      ]
    },
    {
      "cell_type": "code",
      "execution_count": null,
      "metadata": {
        "id": "kZO53uJYCAu_"
      },
      "outputs": [],
      "source": [
        "\n",
        "\n",
        "from operator import itemgetter\n",
        "l = []\n",
        "while True:\n",
        "    s = input()\n",
        "    if not s:\n",
        "        break\n",
        "    l.append(tuple(s.split(\",\")))\n",
        "print(sorted(l,key = itemgetter(0,1,2)))"
      ]
    }
  ],
  "metadata": {
    "kernelspec": {
      "display_name": "Python 3",
      "language": "python",
      "name": "python3"
    },
    "language_info": {
      "codemirror_mode": {
        "name": "ipython",
        "version": 3
      },
      "file_extension": ".py",
      "mimetype": "text/x-python",
      "name": "python",
      "nbconvert_exporter": "python",
      "pygments_lexer": "ipython3",
      "version": "3.7.6"
    },
    "colab": {
      "name": "OPERATOR MODULE(import operator).ipynb",
      "provenance": [],
      "collapsed_sections": []
    }
  },
  "nbformat": 4,
  "nbformat_minor": 0
}