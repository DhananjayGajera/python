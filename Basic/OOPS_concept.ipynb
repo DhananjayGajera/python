{
  "cells": [
    {
      "cell_type": "code",
      "execution_count": 1,
      "metadata": {
        "id": "f3-fL11pB_Z6"
      },
      "outputs": [],
      "source": [
        "# oops = class  consist its objects\n",
        "\n",
        "# __init__ is important method of class it is called when instance(object) of the class is created\n",
        "# self = for calling object& all method must have their first parameter 'self' becuase python explicitly add this\n"
      ]
    },
    {
      "cell_type": "code",
      "execution_count": 2,
      "metadata": {
        "colab": {
          "base_uri": "https://localhost:8080/"
        },
        "id": "dV5zypMRB_aJ",
        "outputId": "d712224d-da0d-44d1-ad88-7b21da60f8ed"
      },
      "outputs": [
        {
          "output_type": "stream",
          "name": "stdout",
          "text": [
            "blue tom\n",
            "felix brown\n",
            "stumpy black\n"
          ]
        }
      ],
      "source": [
        "class Cat:\n",
        "\n",
        "    def __init__(self,name,color): # instance of class\n",
        "        self.name = name      # instance attribute\n",
        "        self.color = color\n",
        "\n",
        "tom = Cat('tom','blue')\n",
        "felix = Cat('felix','brown')\n",
        "stumpy = Cat('stumpy','black')\n",
        "    \n",
        "print(tom.color,tom.name)    # call our instance method\n",
        "print(felix.name,felix.color)   # call by object of class\n",
        "print(stumpy.name,stumpy.color)"
      ]
    },
    {
      "cell_type": "code",
      "execution_count": 3,
      "metadata": {
        "colab": {
          "base_uri": "https://localhost:8080/"
        },
        "id": "ftpoMgXhB_aN",
        "outputId": "dc1a4bec-7986-45ee-9d8d-fac2f4fcd795"
      },
      "outputs": [
        {
          "output_type": "stream",
          "name": "stdout",
          "text": [
            "sherro white 4\n",
            "white\n",
            "woof\n"
          ]
        }
      ],
      "source": [
        "class Dog:\n",
        "    def __init__(self,name,color,legs):\n",
        "        self.name = name\n",
        "        self.color  =color\n",
        "        self.legs = legs\n",
        "        \n",
        "    def bark(self): # instace method\n",
        "        print('woof')\n",
        "        \n",
        "sherro = Dog('sherro','white',4)        \n",
        "print(sherro.name,sherro.color,sherro.legs)\n",
        "\n",
        "print(sherro.color)\n",
        "\n",
        "sherro.bark()"
      ]
    },
    {
      "cell_type": "markdown",
      "metadata": {
        "id": "UjujyMlTB_aP"
      },
      "source": [
        "# WITH CLASS ATTRIBUTE"
      ]
    },
    {
      "cell_type": "code",
      "execution_count": 4,
      "metadata": {
        "colab": {
          "base_uri": "https://localhost:8080/"
        },
        "id": "IGpokbymB_aY",
        "outputId": "9f935e14-a002-4e42-a98a-0fd9c94abdac"
      },
      "outputs": [
        {
          "output_type": "stream",
          "name": "stdout",
          "text": [
            "4\n",
            "shero black\n",
            "woof\n"
          ]
        }
      ],
      "source": [
        "class Dog:\n",
        "    legs = 4  # class attribute\n",
        "    def __init__(self,name,color):\n",
        "        self.name = name    # instance attribute\n",
        "        self.color = color\n",
        "    \n",
        "    def bark(self):\n",
        "        print('woof')\n",
        "shero = Dog('shero','black')\n",
        "print(shero.legs)\n",
        "\n",
        "print(shero.name,shero.color)\n",
        "\n",
        "shero.bark()"
      ]
    },
    {
      "cell_type": "code",
      "execution_count": 5,
      "metadata": {
        "colab": {
          "base_uri": "https://localhost:8080/"
        },
        "id": "HpbQNpC2B_ab",
        "outputId": "b76c5826-1dc6-40f2-c826-207f2c853ff3"
      },
      "outputs": [
        {
          "output_type": "stream",
          "name": "stdout",
          "text": [
            "4\n"
          ]
        }
      ],
      "source": [
        "# attribute error\n",
        "\n",
        "class DOg:\n",
        "    def __init__(self,name,color):\n",
        "        self.name = name\n",
        "        self.color = color\n",
        "tom = Dog('tom','white')\n",
        "print(tom.legs)"
      ]
    },
    {
      "cell_type": "markdown",
      "metadata": {
        "id": "TMgWcsRIB_ae"
      },
      "source": [
        "# 2, inhertane - share functionality B/W each other,"
      ]
    },
    {
      "cell_type": "code",
      "execution_count": 6,
      "metadata": {
        "colab": {
          "base_uri": "https://localhost:8080/"
        },
        "id": "UZBlNUKfB_af",
        "outputId": "4a598c1f-cb9c-4371-a1de-005c67eee96d"
      },
      "outputs": [
        {
          "output_type": "stream",
          "name": "stdout",
          "text": [
            "fido white\n",
            "woof\n"
          ]
        }
      ],
      "source": [
        "class Animal:\n",
        "    def __init__(self,name,color):\n",
        "        self.name = name\n",
        "        self.color = color\n",
        "\n",
        "class Cat(Animal):\n",
        "    def purr(self):\n",
        "        print('moooomi')\n",
        "    \n",
        "class Dog(Animal):\n",
        "    def bark(self):\n",
        "        print('woof')\n",
        "        \n",
        "fido = Dog('fido','white')\n",
        "print(fido.name,fido.color)\n",
        "\n",
        "#fido.purr()  # error when run this cause fido get only fuctionality of Animal\n",
        "fido.bark()\n",
        "        "
      ]
    },
    {
      "cell_type": "code",
      "execution_count": 7,
      "metadata": {
        "colab": {
          "base_uri": "https://localhost:8080/"
        },
        "id": "y-UJT1rnB_ai",
        "outputId": "034e6760-9c76-4885-e1d5-e32cbb7e3cfa"
      },
      "outputs": [
        {
          "output_type": "stream",
          "name": "stdout",
          "text": [
            "woof\n"
          ]
        }
      ],
      "source": [
        "## override = when inherit from 1 class to another with same attribute or method then it override them\n",
        "\n",
        "class Wolf:\n",
        "    \n",
        "    def __init__(self,name,color):\n",
        "        self.name = name\n",
        "        self.color = color\n",
        "    \n",
        "    def bark(self):\n",
        "        print('hahooooo')\n",
        "        \n",
        "        \n",
        "class  Dog(Wolf):\n",
        "    \n",
        "    def bark(self):\n",
        "        print('woof')\n",
        "\n",
        "fido = Dog('fido','white')        \n",
        "fido.bark()        # dog bark override another"
      ]
    },
    {
      "cell_type": "markdown",
      "metadata": {
        "id": "d524CSpzB_am"
      },
      "source": [
        "#    Inheritance can be indirect "
      ]
    },
    {
      "cell_type": "code",
      "execution_count": 8,
      "metadata": {
        "colab": {
          "base_uri": "https://localhost:8080/"
        },
        "id": "3FBYmxX3B_aq",
        "outputId": "6c8d0213-3bb4-447f-b140-3e85244a217b"
      },
      "outputs": [
        {
          "output_type": "stream",
          "name": "stdout",
          "text": [
            "A method\n",
            "b method\n",
            "A method\n"
          ]
        }
      ],
      "source": [
        "class A:\n",
        "    def method(self):\n",
        "        print(\"A method\")\n",
        "        \n",
        "class B(A):\n",
        "    \n",
        "    def b_method(self):\n",
        "        print(\"b method\")\n",
        "        \n",
        "class C(B):  \n",
        "    def c_method(self):\n",
        "        print(\"c method\")\n",
        "\n",
        "c = C()\n",
        "c.method()\n",
        "c.b_method()\n",
        "c.method()   # indirect call the class A method\n",
        "\n",
        "        "
      ]
    },
    {
      "cell_type": "code",
      "execution_count": 9,
      "metadata": {
        "colab": {
          "base_uri": "https://localhost:8080/"
        },
        "id": "xqU_Q84YB_as",
        "outputId": "f00d5388-1710-4b67-ff6f-67517f0622c8"
      },
      "outputs": [
        {
          "output_type": "stream",
          "name": "stdout",
          "text": [
            "2\n"
          ]
        }
      ],
      "source": [
        "# overide\n",
        "\n",
        "class A:\n",
        "    def a(self):\n",
        "        print(1)\n",
        "        \n",
        "class B(A):\n",
        "    def a(self):\n",
        "        print(2)\n",
        "        \n",
        "#        super().a()\n",
        "\n",
        "class C(B):\n",
        "    def c(self):\n",
        "        print(3)\n",
        "        \n",
        "c = C()\n",
        "c.a()    # override class A, 1"
      ]
    },
    {
      "cell_type": "markdown",
      "metadata": {
        "id": "nqIZ3cDCB_at"
      },
      "source": [
        "# super() to stop override"
      ]
    },
    {
      "cell_type": "code",
      "execution_count": 10,
      "metadata": {
        "colab": {
          "base_uri": "https://localhost:8080/"
        },
        "id": "tP9WU-XzB_au",
        "outputId": "99a41666-41d7-47d5-86fb-ec388153fab5"
      },
      "outputs": [
        {
          "output_type": "stream",
          "name": "stdout",
          "text": [
            "2\n",
            "1\n"
          ]
        }
      ],
      "source": [
        "class A:\n",
        "    def spam(self):\n",
        "        print(1)\n",
        "        \n",
        "class B(A):\n",
        "    def spam(self):\n",
        "        print(2)\n",
        "        super().spam()\n",
        "        \n",
        "B().spam()        "
      ]
    },
    {
      "cell_type": "markdown",
      "metadata": {
        "id": "yuVicZ5tB_aw"
      },
      "source": [
        "# 3, Magic method"
      ]
    },
    {
      "cell_type": "code",
      "execution_count": 11,
      "metadata": {
        "colab": {
          "base_uri": "https://localhost:8080/"
        },
        "id": "3E97pLJJB_ax",
        "outputId": "1c0ca92c-1cff-4eb1-814a-bd839e91143a"
      },
      "outputs": [
        {
          "output_type": "stream",
          "name": "stdout",
          "text": [
            "12\n",
            "16\n"
          ]
        }
      ],
      "source": [
        "# use __add__ magic method,__mul__,pow,and,xor,or,and,truediv,floordiv\n",
        "\n",
        "class Vector2d:\n",
        "    \n",
        "    def __init__(self,x,y):\n",
        "        self.x = x\n",
        "        self.y = y\n",
        "        \n",
        "    def __add__(self,other):\n",
        "        return Vector2d(self.x+other.x,self.y+other.y)\n",
        "\n",
        "first = Vector2d(5,7)\n",
        "second = Vector2d(7,9)\n",
        "result = first+second\n",
        "print(result.x)\n",
        "print(result.y)\n",
        "    \n",
        "        "
      ]
    },
    {
      "cell_type": "code",
      "execution_count": 12,
      "metadata": {
        "colab": {
          "base_uri": "https://localhost:8080/"
        },
        "id": "f7PSyc_ZB_ay",
        "outputId": "d6e0bb26-4b78-4265-e7f2-5a4942ace5f8"
      },
      "outputs": [
        {
          "output_type": "stream",
          "name": "stdout",
          "text": [
            "spam\n",
            "===========\n",
            "hello world\n"
          ]
        }
      ],
      "source": [
        "class SpecialString:\n",
        "    \n",
        "    def __init__(self,cont):\n",
        "        self.cont = cont\n",
        "        \n",
        "    def __truediv__(self,other):\n",
        "        line = \"=\"*len(other.cont)\n",
        "        return '\\n'.join([self.cont,line,other.cont])\n",
        "\n",
        "spam = SpecialString(\"spam\")\n",
        "hello = SpecialString(\"hello world\")\n",
        "print(spam/hello)"
      ]
    },
    {
      "cell_type": "code",
      "execution_count": 13,
      "metadata": {
        "colab": {
          "base_uri": "https://localhost:8080/"
        },
        "id": "qdfFtEbIB_a0",
        "outputId": "ea89e477-ac93-4c63-9d86-dcef975e910c"
      },
      "outputs": [
        {
          "output_type": "stream",
          "name": "stdout",
          "text": [
            ">spam>eggs\n",
            "e>spam>ggs\n",
            "eg>spam>gs\n",
            "egg>spam>s\n",
            "eggs>spam>\n"
          ]
        }
      ],
      "source": [
        "#magic method for comparision, __lt__,__gt__,__eq__,gq__,__le__,__nq__\n",
        "\n",
        "class SpecialString:\n",
        "    def __init__(self,cont):\n",
        "        self.cont = cont\n",
        "        \n",
        "    def __gt__(self,other):\n",
        "        for index in range(len(other.cont)+1):\n",
        "            result = other.cont[:index]+\">\"+self.cont\n",
        "            result = result+'>'+other.cont[index:]\n",
        "            print(result)\n",
        "\n",
        "spam = SpecialString(\"spam\")\n",
        "eggs = SpecialString('eggs')\n",
        "spam>eggs"
      ]
    },
    {
      "cell_type": "code",
      "execution_count": 14,
      "metadata": {
        "colab": {
          "base_uri": "https://localhost:8080/"
        },
        "id": "NdBzErOeB_a1",
        "outputId": "1d065422-b0b7-4e6a-8a93-53359bef9885"
      },
      "outputs": [
        {
          "output_type": "stream",
          "name": "stdout",
          "text": [
            "3\n",
            "0\n",
            "1\n",
            "C\n"
          ]
        }
      ],
      "source": [
        "# __len__,getitem__,__setitem__,delitem,\n",
        "\n",
        "import random\n",
        "class Vaguelist:\n",
        "    def __init__(self,cont):\n",
        "        self.cont = cont\n",
        "        \n",
        "    def __getitem__(self,index):\n",
        "        return self.cont[index+random.randint(-1,1)]\n",
        "    \n",
        "    def __len__(self):\n",
        "        return random.randint(0,len(self.cont)*2)\n",
        "    \n",
        "vague_list = Vaguelist([\"A\",'B','C',\"D\",\"E\",\"F\"])\n",
        "\n",
        "print(len(vague_list))  #here generated \n",
        "print(len(vague_list))  # random \n",
        "print(len(vague_list[2]))# No.\n",
        "print(vague_list[2])"
      ]
    }
  ],
  "metadata": {
    "kernelspec": {
      "display_name": "Python 3",
      "language": "python",
      "name": "python3"
    },
    "language_info": {
      "codemirror_mode": {
        "name": "ipython",
        "version": 3
      },
      "file_extension": ".py",
      "mimetype": "text/x-python",
      "name": "python",
      "nbconvert_exporter": "python",
      "pygments_lexer": "ipython3",
      "version": "3.8.5"
    },
    "colab": {
      "name": "OOPS concept.ipynb",
      "provenance": [],
      "collapsed_sections": []
    }
  },
  "nbformat": 4,
  "nbformat_minor": 0
}