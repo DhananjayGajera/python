{
  "cells": [
    {
      "cell_type": "code",
      "execution_count": 1,
      "metadata": {
        "colab": {
          "base_uri": "https://localhost:8080/"
        },
        "id": "eCx9GAFPCM8q",
        "outputId": "ad9136bc-6e46-4405-ef18-f06e4b5f3aad"
      },
      "outputs": [
        {
          "output_type": "stream",
          "name": "stdout",
          "text": [
            "list\n",
            "5\n",
            "('list', '5')\n"
          ]
        }
      ],
      "source": [
        "##### AS ATUPLE \n",
        "t = input(),input()\n",
        "print(t)"
      ]
    },
    {
      "cell_type": "code",
      "execution_count": 3,
      "metadata": {
        "colab": {
          "base_uri": "https://localhost:8080/"
        },
        "id": "oi1XrV8DCM8w",
        "outputId": "54fb29f9-d473-4637-9266-6a2081128c56"
      },
      "outputs": [
        {
          "output_type": "stream",
          "name": "stdout",
          "text": [
            "5\n",
            "6\n",
            "['5', '6']\n"
          ]
        }
      ],
      "source": [
        "# as a list\n",
        "l = [input(),input()]\n",
        "print(l)"
      ]
    },
    {
      "cell_type": "code",
      "execution_count": null,
      "metadata": {
        "id": "Xi0sDMzQCM83"
      },
      "outputs": [],
      "source": [
        "a,b,c = input().split()\n",
        "print(int(a+b+c))  # it take only as a string of all inputs\n",
        "\n",
        "a,b,c = input().split(',') # using , as input when we types it\n",
        "print(a+b+c)\n"
      ]
    },
    {
      "cell_type": "code",
      "execution_count": 8,
      "metadata": {
        "colab": {
          "base_uri": "https://localhost:8080/"
        },
        "id": "qEnZCDWqCM84",
        "outputId": "a9d33e9a-7ea4-4b01-cba3-442943271e7f"
      },
      "outputs": [
        {
          "output_type": "stream",
          "name": "stdout",
          "text": [
            "586\n",
            "('586',)\n",
            "56\n",
            "['56']\n"
          ]
        }
      ],
      "source": [
        "a = tuple(input().split()) #, replace list in the o/p as a tuple\n",
        "print(a)\n",
        "a = input().split() # oup\n",
        "print(a)"
      ]
    },
    {
      "cell_type": "code",
      "execution_count": 9,
      "metadata": {
        "colab": {
          "base_uri": "https://localhost:8080/"
        },
        "id": "fu9Q4t2eCM85",
        "outputId": "f561f1f3-94e4-4596-8c48-dfdf0b6e1850"
      },
      "outputs": [
        {
          "output_type": "stream",
          "name": "stdout",
          "text": [
            "8\n",
            "[8]\n"
          ]
        }
      ],
      "source": [
        "# using map\n",
        "a = list(map(int,input().split()))\n",
        "print(a)"
      ]
    }
  ],
  "metadata": {
    "kernelspec": {
      "display_name": "Python 3",
      "language": "python",
      "name": "python3"
    },
    "language_info": {
      "codemirror_mode": {
        "name": "ipython",
        "version": 3
      },
      "file_extension": ".py",
      "mimetype": "text/x-python",
      "name": "python",
      "nbconvert_exporter": "python",
      "pygments_lexer": "ipython3",
      "version": "3.7.3"
    },
    "colab": {
      "name": "TAKE MULTIPLE INPUT IN NPYTHON.ipynb",
      "provenance": [],
      "collapsed_sections": []
    }
  },
  "nbformat": 4,
  "nbformat_minor": 0
}