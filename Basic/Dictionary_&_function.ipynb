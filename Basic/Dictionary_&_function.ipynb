{
  "cells": [
    {
      "cell_type": "markdown",
      "metadata": {
        "id": "GNFxdUls7sSy"
      },
      "source": [
        "# dictionary are the unordered key-value pair values\n",
        "# associative array called hases"
      ]
    },
    {
      "cell_type": "code",
      "execution_count": 1,
      "metadata": {
        "colab": {
          "base_uri": "https://localhost:8080/"
        },
        "id": "9v-l7LQ27sTA",
        "outputId": "d05a12a8-af11-4154-ae06-350ce8b7a22e"
      },
      "outputs": [
        {
          "output_type": "stream",
          "name": "stdout",
          "text": [
            "{'dhananjay': 'dhananjay@gmail.com', 'raj': 'raj@gm,ail.com', 'om': 3456}\n",
            "<built-in method keys of dict object at 0x7f54e85a0af0>\n",
            "<built-in method values of dict object at 0x7f54e85a0af0>\n"
          ]
        }
      ],
      "source": [
        "address = {}\n",
        "address[\"dhananjay\"] = \"dhananjay@gmail.com\"\n",
        "address[\"raj\"] = \"raj@gm,ail.com\"\n",
        "address[\"om\"] = 3456\n",
        "print(address)\n",
        "\n",
        "print(address.keys)\n",
        "print(address.values)"
      ]
    },
    {
      "cell_type": "code",
      "execution_count": 4,
      "metadata": {
        "colab": {
          "base_uri": "https://localhost:8080/"
        },
        "id": "ngm2XhHk7sTL",
        "outputId": "3d3a1804-5b5b-4806-b952-253967d2302c"
      },
      "outputs": [
        {
          "output_type": "stream",
          "name": "stdout",
          "text": [
            "2\n"
          ]
        }
      ],
      "source": [
        " # len - find the lenth of dictionary\n",
        " \n",
        "d = {1:\"mango\",2:\"apple\"}\n",
        "print(len(d)) "
      ]
    },
    {
      "cell_type": "code",
      "execution_count": 3,
      "metadata": {
        "colab": {
          "base_uri": "https://localhost:8080/"
        },
        "id": "QhAkqatq7sTN",
        "outputId": "669ad0cc-c514-4a0a-d7da-6bcff5486994"
      },
      "outputs": [
        {
          "output_type": "stream",
          "name": "stdout",
          "text": [
            "{1: 'sorry', 2: 'twnd'}\n"
          ]
        }
      ],
      "source": [
        "# update - update with new value of variable\n",
        "d = {1:\"sorry\"}\n",
        "d1 = {2:\"twnd\"}\n",
        "d.update(d1)\n",
        "print(d)"
      ]
    },
    {
      "cell_type": "code",
      "execution_count": 5,
      "metadata": {
        "colab": {
          "base_uri": "https://localhost:8080/"
        },
        "id": "CTbTEExy7sTP",
        "outputId": "29423c42-49dd-4197-95d3-15c1464a6c73"
      },
      "outputs": [
        {
          "output_type": "stream",
          "name": "stdout",
          "text": [
            "{}\n"
          ]
        }
      ],
      "source": [
        "# clear() ====> it clear the content from the dictionary\n",
        "\n",
        "dict = {1:2,3:4,5:6}\n",
        "dict.clear()\n",
        "print(dict)"
      ]
    },
    {
      "cell_type": "code",
      "execution_count": 6,
      "metadata": {
        "colab": {
          "base_uri": "https://localhost:8080/"
        },
        "id": "zFluWEJN7sTQ",
        "outputId": "3351cc6d-a7c2-4f8c-885f-8bfc9c3fb04d"
      },
      "outputs": [
        {
          "output_type": "stream",
          "name": "stdout",
          "text": [
            "True\n",
            "True\n",
            "True\n"
          ]
        }
      ],
      "source": [
        "num = {1:\"1\",2:\"2\",3:\"3\",6:\"6\"}\n",
        "print(1 in num)\n",
        "print(2 in num)\n",
        "print(3 in num)\n",
        "\n"
      ]
    },
    {
      "cell_type": "code",
      "execution_count": 7,
      "metadata": {
        "colab": {
          "base_uri": "https://localhost:8080/"
        },
        "id": "kOOZE2rN7sTS",
        "outputId": "bf72a486-2b7b-4345-dbe8-9b6c3dd45522"
      },
      "outputs": [
        {
          "output_type": "stream",
          "name": "stdout",
          "text": [
            "[2, 3, 4]\n",
            "orange\n",
            "not in s\n"
          ]
        }
      ],
      "source": [
        "# get(_)  ===> particular value using get\n",
        "# get(keys)\n",
        "\n",
        "s = {1:\"apple\",2:\"orange\",3:\"banana\",\"true\":[2,3,4]}\n",
        "print(s.get(\"true\"))\n",
        "\n",
        "print(s.get(2))\n",
        "\n",
        "print(s.get(12345,\"not in s\"))\n"
      ]
    },
    {
      "cell_type": "code",
      "execution_count": 8,
      "metadata": {
        "colab": {
          "base_uri": "https://localhost:8080/"
        },
        "id": "qG83EZ1o7sTV",
        "outputId": "1736f3c0-6f72-4452-ca41-7897392d897d"
      },
      "outputs": [
        {
          "output_type": "stream",
          "name": "stdout",
          "text": [
            "dict_items([('apple', 2), ('orange', 3), ('banana', 4)])\n"
          ]
        }
      ],
      "source": [
        "# dict.items() ====> return key and values of dictionary\n",
        "\n",
        "sale = {\"apple\":2,\"orange\":3,\"banana\":4}\n",
        "print(sale.items())"
      ]
    }
  ],
  "metadata": {
    "kernelspec": {
      "display_name": "Python 3",
      "language": "python",
      "name": "python3"
    },
    "language_info": {
      "codemirror_mode": {
        "name": "ipython",
        "version": 3
      },
      "file_extension": ".py",
      "mimetype": "text/x-python",
      "name": "python",
      "nbconvert_exporter": "python",
      "pygments_lexer": "ipython3",
      "version": "3.7.7"
    },
    "colab": {
      "name": "Dictionary & function.ipynb",
      "provenance": [],
      "collapsed_sections": []
    }
  },
  "nbformat": 4,
  "nbformat_minor": 0
}