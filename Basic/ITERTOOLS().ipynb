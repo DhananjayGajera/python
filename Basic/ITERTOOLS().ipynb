{
  "cells": [
    {
      "cell_type": "markdown",
      "metadata": {
        "id": "EEsw4wUGWC5O"
      },
      "source": [
        "# itertools = this module itertools is standard library.\n",
        "# it contain several function\n",
        "## it is used in functional programming"
      ]
    },
    {
      "cell_type": "code",
      "execution_count": 1,
      "metadata": {
        "colab": {
          "base_uri": "https://localhost:8080/"
        },
        "id": "faJUmv1VWC5o",
        "outputId": "182ed909-0267-45b6-bf02-e8858097618c"
      },
      "outputs": [
        {
          "output_type": "stream",
          "name": "stdout",
          "text": [
            "3\n",
            "4\n",
            "5\n",
            "6\n",
            "7\n",
            "8\n",
            "9\n",
            "10\n",
            "11\n"
          ]
        }
      ],
      "source": [
        "# count ===> it count from the value.\n",
        "from itertools import count\n",
        "for i in count(3):\n",
        "    print(i)\n",
        "    if i>=11:\n",
        "        break"
      ]
    },
    {
      "cell_type": "code",
      "execution_count": null,
      "metadata": {
        "id": "WNhtlL4rWC50",
        "outputId": "607ee4ff-f9a3-4ce9-f333-c2f3e51a7553"
      },
      "outputs": [
        {
          "name": "stdout",
          "output_type": "stream",
          "text": [
            "red\n",
            "red\n",
            "red\n",
            "red\n",
            "yellow\n",
            "yellow\n",
            "yellow\n",
            "yellow\n",
            "yellow\n"
          ]
        }
      ],
      "source": [
        "# repeat = repeat the values\n",
        "from itertools import repeat\n",
        "for i in repeat('red', 4):\n",
        "    print(i)\n",
        "\n",
        "for i in repeat('yellow',5):\n",
        "    print(i)"
      ]
    }
  ],
  "metadata": {
    "kernelspec": {
      "display_name": "Python 3",
      "language": "python",
      "name": "python3"
    },
    "language_info": {
      "codemirror_mode": {
        "name": "ipython",
        "version": 3
      },
      "file_extension": ".py",
      "mimetype": "text/x-python",
      "name": "python",
      "nbconvert_exporter": "python",
      "pygments_lexer": "ipython3",
      "version": "3.7.7"
    },
    "colab": {
      "name": "ITERTOOLS().ipynb",
      "provenance": [],
      "collapsed_sections": []
    }
  },
  "nbformat": 4,
  "nbformat_minor": 0
}