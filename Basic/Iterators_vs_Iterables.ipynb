{
  "cells": [
    {
      "cell_type": "code",
      "execution_count": null,
      "metadata": {
        "id": "22m7kiVJQiLt"
      },
      "outputs": [],
      "source": [
        "lst = [1,2,3,4,5,6,7] # iterable stored in memory or initialized after run the this \n",
        "# but when we convert into iterator it will intailze the value 1 at time in the memory\n"
      ]
    },
    {
      "cell_type": "raw",
      "metadata": {
        "id": "Y_SRx77LQiLx"
      },
      "source": [
        "# python iterable or iterators\n",
        "# when we create iterator"
      ]
    },
    {
      "cell_type": "code",
      "execution_count": null,
      "metadata": {
        "id": "jLKwm70iQiL1",
        "outputId": "b0b1db53-7ba7-4982-d621-9e2231d7c631"
      },
      "outputs": [
        {
          "name": "stdout",
          "output_type": "stream",
          "text": [
            "45\n",
            "2\n",
            "3\n",
            "4\n",
            "5\n",
            "6\n",
            "7\n",
            "8\n"
          ]
        }
      ],
      "source": [
        "lst = [45,2,3,4,,6,7,8]\n",
        "for i in lst:\n",
        "    print(i)"
      ]
    },
    {
      "cell_type": "code",
      "execution_count": 1,
      "metadata": {
        "id": "acX-Kd_6QiME"
      },
      "outputs": [],
      "source": [
        "lst = [10,2,8,9,4,5,6,7]"
      ]
    },
    {
      "cell_type": "code",
      "execution_count": 2,
      "metadata": {
        "id": "_7F1LX6sQiMJ"
      },
      "outputs": [],
      "source": [
        "lst1 = iter(lst) # iterator"
      ]
    },
    {
      "cell_type": "code",
      "execution_count": 3,
      "metadata": {
        "colab": {
          "base_uri": "https://localhost:8080/"
        },
        "id": "g8NxfusIQiMQ",
        "outputId": "d63be005-5445-4dec-c015-773eaab46296"
      },
      "outputs": [
        {
          "output_type": "execute_result",
          "data": {
            "text/plain": [
              "10"
            ]
          },
          "metadata": {},
          "execution_count": 3
        }
      ],
      "source": [
        "next(lst1) # we can retrive the element of iterators using next(it will display iterator)\n",
        "# it intialize 1 element at time in the memory till we get the last element"
      ]
    },
    {
      "cell_type": "code",
      "execution_count": 4,
      "metadata": {
        "colab": {
          "base_uri": "https://localhost:8080/"
        },
        "id": "ZpWcLfdsQiMV",
        "outputId": "412fa53c-5b83-45ba-9388-2808ff9809d9"
      },
      "outputs": [
        {
          "output_type": "stream",
          "name": "stdout",
          "text": [
            "2\n",
            "8\n",
            "9\n",
            "4\n",
            "5\n",
            "6\n",
            "7\n"
          ]
        }
      ],
      "source": [
        "for i in lst1:\n",
        "    print(i) # here it start with 2 cause 1 (element) already intailzed once "
      ]
    },
    {
      "cell_type": "markdown",
      "metadata": {
        "id": "GU8a8LIaQiMa"
      },
      "source": [
        "# what is the diffierence b/w iterable or iterator?\n",
        "\n",
        ". iterable store the all element(value) in the memory when we run\n",
        ". and but iterator store the 1 element at a time\n",
        ". when list have million of data , that time we can intailize those value which have  requirement using iterator"
      ]
    },
    {
      "cell_type": "code",
      "execution_count": 5,
      "metadata": {
        "colab": {
          "base_uri": "https://localhost:8080/"
        },
        "id": "G6RA7ZR4QiND",
        "outputId": "0f1f5531-4ea9-467d-df44-8623917a6869"
      },
      "outputs": [
        {
          "output_type": "stream",
          "name": "stdout",
          "text": [
            "apple\n",
            "orange\n",
            "banana\n"
          ]
        }
      ],
      "source": [
        "# next() = it return the next item in the iterator\n",
        "\n",
        "l = iter(['apple', 'orange', 'banana'])\n",
        "n1 = next(l)\n",
        "print(n1)\n",
        "n2 = next(l)\n",
        "print(n2)\n",
        "n3 = next(l)\n",
        "print(n3)\n"
      ]
    }
  ],
  "metadata": {
    "kernelspec": {
      "display_name": "Python 3",
      "language": "python",
      "name": "python3"
    },
    "language_info": {
      "codemirror_mode": {
        "name": "ipython",
        "version": 3
      },
      "file_extension": ".py",
      "mimetype": "text/x-python",
      "name": "python",
      "nbconvert_exporter": "python",
      "pygments_lexer": "ipython3",
      "version": "3.7.7"
    },
    "colab": {
      "name": "Iterators vs Iterables.ipynb",
      "provenance": [],
      "collapsed_sections": []
    }
  },
  "nbformat": 4,
  "nbformat_minor": 0
}