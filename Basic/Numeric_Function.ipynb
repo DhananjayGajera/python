{
  "cells": [
    {
      "cell_type": "code",
      "execution_count": 1,
      "metadata": {
        "colab": {
          "base_uri": "https://localhost:8080/"
        },
        "id": "Y4PGFppLPUrt",
        "outputId": "e5bc8249-2f5b-4584-d7aa-df1554f2d15f"
      },
      "outputs": [
        {
          "output_type": "stream",
          "name": "stdout",
          "text": [
            "5.9999\n",
            "5\n",
            "-5\n"
          ]
        }
      ],
      "source": [
        "# abs ====>  abs ,it return distance from zero\n",
        "print(abs(5.9999))\n",
        "\n",
        "print(abs(5))\n",
        "\n",
        "print(-5)"
      ]
    },
    {
      "cell_type": "code",
      "execution_count": 2,
      "metadata": {
        "id": "8onZ2T_uPUsN",
        "outputId": "0be7df7b-8d12-4107-f904-7f80b28245f7",
        "colab": {
          "base_uri": "https://localhost:8080/"
        }
      },
      "outputs": [
        {
          "output_type": "stream",
          "name": "stdout",
          "text": [
            "36\n",
            "-35\n"
          ]
        }
      ],
      "source": [
        "# ceil ====> it return next higher integer value\n",
        "\n",
        "import math\n",
        "print(math.ceil(35.56))\n",
        "print(math.ceil(-35.64))"
      ]
    },
    {
      "cell_type": "code",
      "execution_count": 3,
      "metadata": {
        "id": "0Hcesxf0PUsS",
        "outputId": "61e1acc7-3831-496e-fefc-b18857471ce8",
        "colab": {
          "base_uri": "https://localhost:8080/"
        }
      },
      "outputs": [
        {
          "output_type": "stream",
          "name": "stdout",
          "text": [
            "35\n",
            "-36\n"
          ]
        }
      ],
      "source": [
        "# floor =====>  it return next lower integer values\n",
        "\n",
        "print(math.floor(35.75))\n",
        "print(math.floor(-35.75))"
      ]
    },
    {
      "cell_type": "code",
      "execution_count": 4,
      "metadata": {
        "id": "M-6w811nPUsa",
        "outputId": "b646e4c8-23bf-4946-eee5-41c135c7f72b",
        "colab": {
          "base_uri": "https://localhost:8080/"
        }
      },
      "outputs": [
        {
          "output_type": "stream",
          "name": "stdout",
          "text": [
            "2.718281828459045\n",
            "1586013452313430.8\n"
          ]
        }
      ],
      "source": [
        "# exponent #  exp()\n",
        "\n",
        "print(math.e)\n",
        "\n",
        "print(math.exp(35))"
      ]
    },
    {
      "cell_type": "code",
      "execution_count": 5,
      "metadata": {
        "id": "K6pCkyqjPUse",
        "outputId": "6f657b7b-6feb-4a79-c93e-27fd0b69cb09",
        "colab": {
          "base_uri": "https://localhost:8080/"
        }
      },
      "outputs": [
        {
          "output_type": "execute_result",
          "data": {
            "text/plain": [
              "3.3219280948873626"
            ]
          },
          "metadata": {},
          "execution_count": 5
        }
      ],
      "source": [
        "# log ,  math.log(value,base), math.log10( ),MATH.LOG2()\n",
        "\n",
        "import math\n",
        "math.log(10,2)"
      ]
    },
    {
      "cell_type": "code",
      "execution_count": 6,
      "metadata": {
        "id": "68dU3c__PUsk",
        "outputId": "103d89d2-f3c5-4dac-df41-10e26e794124",
        "colab": {
          "base_uri": "https://localhost:8080/"
        }
      },
      "outputs": [
        {
          "output_type": "stream",
          "name": "stdout",
          "text": [
            "(0.9710000000000001, 11.0)\n"
          ]
        }
      ],
      "source": [
        "# modf ====> when we pass fraction value ,it return tuple with int and float part values\n",
        "\n",
        "import math\n",
        "print(math.modf(11.971))\n",
        "\n"
      ]
    },
    {
      "cell_type": "code",
      "execution_count": 7,
      "metadata": {
        "id": "UmcOOu-CPUsq",
        "outputId": "51469980-f07e-4ceb-f9ba-0dedd747659f",
        "colab": {
          "base_uri": "https://localhost:8080/"
        }
      },
      "outputs": [
        {
          "output_type": "stream",
          "name": "stdout",
          "text": [
            "3\n",
            "4\n",
            "3.57\n"
          ]
        }
      ],
      "source": [
        "# round +=====> it return roundoff no\n",
        "\n",
        "print(round(3.345677888))\n",
        "print(round(3.99999999999))\n",
        "\n",
        "print(round(3.56789,2)) # it return 2 value after desimal point"
      ]
    },
    {
      "cell_type": "code",
      "execution_count": 11,
      "metadata": {
        "id": "oOqt1v3QPUsy",
        "outputId": "defba4ad-dbd6-47a3-b57d-0922aee878c6",
        "colab": {
          "base_uri": "https://localhost:8080/"
        }
      },
      "outputs": [
        {
          "output_type": "stream",
          "name": "stdout",
          "text": [
            "15625\n"
          ]
        }
      ],
      "source": [
        "# pow ===> returns the power of the given numbers\n",
        "\n",
        "print(pow(5,6))   # pow(value,power)"
      ]
    },
    {
      "cell_type": "code",
      "execution_count": 9,
      "metadata": {
        "id": "jvQ-OBxjPUs2",
        "outputId": "38c969cd-9236-4818-f391-797ea8937bd8",
        "colab": {
          "base_uri": "https://localhost:8080/"
        }
      },
      "outputs": [
        {
          "output_type": "stream",
          "name": "stdout",
          "text": [
            "5.0\n"
          ]
        }
      ],
      "source": [
        "import math\n",
        "print(math.sqrt(25))"
      ]
    },
    {
      "cell_type": "code",
      "execution_count": 10,
      "metadata": {
        "id": "IW1wepeoPUs_",
        "outputId": "4404255a-a8ed-4938-8290-fa6268ee20df",
        "colab": {
          "base_uri": "https://localhost:8080/"
        }
      },
      "outputs": [
        {
          "output_type": "stream",
          "name": "stdout",
          "text": [
            "5\n",
            "5\n"
          ]
        }
      ],
      "source": [
        "#eval ====> we can evaluate the value\n",
        "\n",
        "n = input()\n",
        "print(eval(n))"
      ]
    },
    {
      "cell_type": "code",
      "execution_count": null,
      "metadata": {
        "id": "NrQRoEt2PUtF"
      },
      "outputs": [],
      "source": [
        ""
      ]
    }
  ],
  "metadata": {
    "kernelspec": {
      "display_name": "Python 3",
      "language": "python",
      "name": "python3"
    },
    "language_info": {
      "codemirror_mode": {
        "name": "ipython",
        "version": 3
      },
      "file_extension": ".py",
      "mimetype": "text/x-python",
      "name": "python",
      "nbconvert_exporter": "python",
      "pygments_lexer": "ipython3",
      "version": "3.8.5"
    },
    "colab": {
      "name": "# Numeric Function.ipynb",
      "provenance": [],
      "collapsed_sections": []
    }
  },
  "nbformat": 4,
  "nbformat_minor": 0
}