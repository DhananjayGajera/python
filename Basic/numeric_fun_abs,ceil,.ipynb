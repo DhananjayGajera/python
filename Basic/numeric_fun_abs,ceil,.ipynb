{
  "cells": [
    {
      "cell_type": "code",
      "execution_count": 1,
      "metadata": {
        "colab": {
          "base_uri": "https://localhost:8080/"
        },
        "id": "f-7PrEwVBbyP",
        "outputId": "239e4efa-2cf9-4c99-e73d-57925fea1390"
      },
      "outputs": [
        {
          "output_type": "stream",
          "name": "stdout",
          "text": [
            "5\n",
            "5\n",
            "56.455\n"
          ]
        }
      ],
      "source": [
        "# absolute function ---- it gives distance from num zero(for +ve right side & for -ve left side, from zero)\n",
        "print(abs(5))\n",
        "\n",
        "print(abs(-5))\n",
        "print(abs(56.455))"
      ]
    },
    {
      "cell_type": "code",
      "execution_count": 2,
      "metadata": {
        "colab": {
          "base_uri": "https://localhost:8080/"
        },
        "id": "wpBuSNuPBbyp",
        "outputId": "25413355-047e-4fd6-be59-bc63b4e1e74b"
      },
      "outputs": [
        {
          "output_type": "stream",
          "name": "stdout",
          "text": [
            "36\n",
            "-35\n"
          ]
        }
      ],
      "source": [
        "# ceiling fun  -----ceil function basiclly return next higher integer from given passed argument\n",
        "import math\n",
        "print(math.ceil(35.1))\n",
        "\n",
        "print(math.ceil(-35.74))\n",
        "\n"
      ]
    },
    {
      "cell_type": "code",
      "execution_count": 3,
      "metadata": {
        "colab": {
          "base_uri": "https://localhost:8080/"
        },
        "id": "s_g6XIBvBby0",
        "outputId": "854bb8d4-029b-4d20-cb85-a5c3bea8f136"
      },
      "outputs": [
        {
          "output_type": "stream",
          "name": "stdout",
          "text": [
            "35\n",
            "-36\n"
          ]
        }
      ],
      "source": [
        "# flor fun------ floor function basically return next lower integer from given passed argument\n",
        "print(math.floor(35.74))\n",
        "print(math.floor(-35.74))"
      ]
    },
    {
      "cell_type": "code",
      "execution_count": 4,
      "metadata": {
        "colab": {
          "base_uri": "https://localhost:8080/"
        },
        "id": "JHxYsyRABby9",
        "outputId": "fcc2fee0-5eb3-4539-8801-17c481faca8c"
      },
      "outputs": [
        {
          "output_type": "execute_result",
          "data": {
            "text/plain": [
              "403.4287934927351"
            ]
          },
          "metadata": {},
          "execution_count": 4
        }
      ],
      "source": [
        "#    exponent fun\n",
        "math.e\n",
        "\n",
        " \n",
        "math.exp(6)\n",
        "\n",
        "\n",
        "\n"
      ]
    },
    {
      "cell_type": "code",
      "execution_count": 5,
      "metadata": {
        "colab": {
          "base_uri": "https://localhost:8080/"
        },
        "id": "4AL9w57pBbzD",
        "outputId": "c2ee3f17-b37c-4aa9-c577-f39da23869ad"
      },
      "outputs": [
        {
          "output_type": "execute_result",
          "data": {
            "text/plain": [
              "5.0"
            ]
          },
          "metadata": {},
          "execution_count": 5
        }
      ],
      "source": [
        "math.sqrt(25)"
      ]
    },
    {
      "cell_type": "code",
      "execution_count": 6,
      "metadata": {
        "colab": {
          "base_uri": "https://localhost:8080/"
        },
        "id": "uFQ1eCGfBbzH",
        "outputId": "dc560d21-6586-4d30-e1f9-ee917d47ddc7"
      },
      "outputs": [
        {
          "output_type": "stream",
          "name": "stdout",
          "text": [
            "1.6094379124341003\n",
            "0.6989700043360189\n",
            "2.321928094887362\n",
            "1.0\n"
          ]
        }
      ],
      "source": [
        "#to find log value\n",
        "print(math.log(5))\n",
        "\n",
        "print(math.log10(5))\n",
        "\n",
        "print(math.log2(5))\n",
        "\n",
        "print(math.log(math.e))\n"
      ]
    },
    {
      "cell_type": "code",
      "execution_count": 7,
      "metadata": {
        "colab": {
          "base_uri": "https://localhost:8080/"
        },
        "id": "MAGyq0LpBbzL",
        "outputId": "dc310bd0-1cb3-4726-ecca-2a70010f71d9"
      },
      "outputs": [
        {
          "output_type": "execute_result",
          "data": {
            "text/plain": [
              "51.5"
            ]
          },
          "metadata": {},
          "execution_count": 7
        }
      ],
      "source": [
        "# max fun() -- find the max value from given arguments\n",
        "max(10,20,30,40,50,-444444,51.5)\n"
      ]
    },
    {
      "cell_type": "code",
      "execution_count": 8,
      "metadata": {
        "colab": {
          "base_uri": "https://localhost:8080/"
        },
        "id": "wH-gqPw5BbzR",
        "outputId": "f4883b22-8593-4f8b-acec-76625c2ce801"
      },
      "outputs": [
        {
          "output_type": "execute_result",
          "data": {
            "text/plain": [
              "-1"
            ]
          },
          "metadata": {},
          "execution_count": 8
        }
      ],
      "source": [
        "# min fun -- find the min value from  the given arguments\n",
        "min(10,20,30,40,50,-1)"
      ]
    },
    {
      "cell_type": "code",
      "execution_count": 9,
      "metadata": {
        "colab": {
          "base_uri": "https://localhost:8080/"
        },
        "id": "AaJvLbjuBbzX",
        "outputId": "7bf0f0df-8445-4f93-ada0-eb067619733b"
      },
      "outputs": [
        {
          "output_type": "execute_result",
          "data": {
            "text/plain": [
              "15"
            ]
          },
          "metadata": {},
          "execution_count": 9
        }
      ],
      "source": [
        "# round() - --- it gives round of  num  the given argument & 2 is for round of 2 desimal\n",
        "round(15.56785555858,2)\n",
        "\n",
        "\n",
        "round(15.45)"
      ]
    },
    {
      "cell_type": "code",
      "execution_count": 10,
      "metadata": {
        "colab": {
          "base_uri": "https://localhost:8080/"
        },
        "id": "279Ter-4Bbzd",
        "outputId": "c45390f2-bf4b-4b8a-e058-47c4c67dabc1"
      },
      "outputs": [
        {
          "output_type": "execute_result",
          "data": {
            "text/plain": [
              "(0.9710000000000001, 11.0)"
            ]
          },
          "metadata": {},
          "execution_count": 10
        }
      ],
      "source": [
        "# modf fun() - when we pass fraction num ,then it return  two vales in tuple , in which consider fractional & int\n",
        "math.modf(11.971)"
      ]
    },
    {
      "cell_type": "code",
      "execution_count": 11,
      "metadata": {
        "colab": {
          "base_uri": "https://localhost:8080/"
        },
        "id": "Q1uINhi1Bbzk",
        "outputId": "eb0cadd5-d699-47fb-94e4-5e709ac207fa"
      },
      "outputs": [
        {
          "output_type": "execute_result",
          "data": {
            "text/plain": [
              "5.0"
            ]
          },
          "metadata": {},
          "execution_count": 11
        }
      ],
      "source": [
        "# find the hypoten in right triangle if there r base & perpendicular then\n",
        "math.hypot(3,4)"
      ]
    },
    {
      "cell_type": "code",
      "execution_count": 12,
      "metadata": {
        "colab": {
          "base_uri": "https://localhost:8080/"
        },
        "id": "2Nl0mlOIBbzn",
        "outputId": "d5598300-2b68-431c-b949-9501f6de3ad1"
      },
      "outputs": [
        {
          "output_type": "stream",
          "name": "stdout",
          "text": [
            "3.141592653589793\n"
          ]
        },
        {
          "output_type": "execute_result",
          "data": {
            "text/plain": [
              "<function math.radians>"
            ]
          },
          "metadata": {},
          "execution_count": 12
        }
      ],
      "source": [
        "print(math.pi)\n",
        "# put the value in argument of radian  value then we get degees value of given radian\n",
        "math.degrees(math.pi)\n",
        "\n",
        "math.degrees(-4)\n",
        "\n",
        "# radain from degree\n",
        "\n",
        "math.radians"
      ]
    },
    {
      "cell_type": "code",
      "execution_count": 13,
      "metadata": {
        "colab": {
          "base_uri": "https://localhost:8080/"
        },
        "id": "1qE1ZBmhBbzq",
        "outputId": "20426af7-854d-4464-9dbe-0a847ab09f7e"
      },
      "outputs": [
        {
          "output_type": "stream",
          "name": "stdout",
          "text": [
            "1\n",
            "94\n",
            "15\n"
          ]
        }
      ],
      "source": [
        "# som other numeric fun\n",
        "\n",
        "print(min(1,2,3,4,5,6))\n",
        "print(max([14,8,94,3,5,4,1]))\n",
        "print(sum([1,2,3,4,5]))"
      ]
    },
    {
      "cell_type": "code",
      "execution_count": 14,
      "metadata": {
        "colab": {
          "base_uri": "https://localhost:8080/"
        },
        "id": "f_kyGdgwBbzv",
        "outputId": "8524724d-e24a-4dbf-f055-27369ebc1b7e"
      },
      "outputs": [
        {
          "output_type": "stream",
          "name": "stdout",
          "text": [
            "30\n"
          ]
        }
      ],
      "source": [
        "a = min([sum([11,22]),max(abs(-30),2)])\n",
        "print(a)"
      ]
    }
  ],
  "metadata": {
    "kernelspec": {
      "display_name": "Python 3",
      "language": "python",
      "name": "python3"
    },
    "language_info": {
      "codemirror_mode": {
        "name": "ipython",
        "version": 3
      },
      "file_extension": ".py",
      "mimetype": "text/x-python",
      "name": "python",
      "nbconvert_exporter": "python",
      "pygments_lexer": "ipython3",
      "version": "3.6.1"
    },
    "colab": {
      "name": "numeric fun --- abs,ceil,.ipynb",
      "provenance": [],
      "collapsed_sections": []
    }
  },
  "nbformat": 4,
  "nbformat_minor": 0
}