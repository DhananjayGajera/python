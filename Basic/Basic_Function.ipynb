{
  "cells": [
    {
      "cell_type": "markdown",
      "metadata": {
        "id": "4W66LjnkixW4"
      },
      "source": [
        "# Function in python\n",
        "### it is bolck of code which perfrom specific task.\n",
        "\n"
      ]
    },
    {
      "cell_type": "code",
      "execution_count": null,
      "metadata": {
        "id": "jDobH6gKixXP",
        "outputId": "8277ca5f-a4d1-4a76-f3f2-16e0af9cf3a1"
      },
      "outputs": [
        {
          "name": "stdout",
          "output_type": "stream",
          "text": [
            "20\n"
          ]
        }
      ],
      "source": [
        "#function are used to utilize code in more than one place\n",
        "\n",
        "#function as a argument\n",
        "def fun(arg1,arg2):\n",
        "    print(arg1*arg2)\n",
        "fun(5,4)    "
      ]
    },
    {
      "cell_type": "code",
      "execution_count": 1,
      "metadata": {
        "colab": {
          "base_uri": "https://localhost:8080/"
        },
        "id": "FWt3v0brixXa",
        "outputId": "0f1190bd-2077-4836-d414-c50c1e945097"
      },
      "outputs": [
        {
          "output_type": "stream",
          "name": "stdout",
          "text": [
            "enter a no5\n",
            "5 is odd\n"
          ]
        }
      ],
      "source": [
        " # find the no is even or not using fun argument\n",
        "def even(num):\n",
        "    if num%2 == 0:\n",
        "        print(num,\"is even\")\n",
        "    else:\n",
        "        print(num,\"is odd\")\n",
        "        \n",
        "var =int(input(\"enter a no\"))\n",
        "even(var)\n",
        "        "
      ]
    },
    {
      "cell_type": "code",
      "execution_count": 2,
      "metadata": {
        "colab": {
          "base_uri": "https://localhost:8080/"
        },
        "id": "Yz9sh4Q-ixXf",
        "outputId": "8ba48030-cd8c-46b8-a183-4980ef045983"
      },
      "outputs": [
        {
          "output_type": "stream",
          "name": "stdout",
          "text": [
            "7\n",
            "8\n"
          ]
        }
      ],
      "source": [
        "# max no print using returning from fun\n",
        "def max(x,y):\n",
        "    if x>y:\n",
        "        return x\n",
        "    else:\n",
        "        return y\n",
        "print(max(4,7))\n",
        "z = max(4,8)\n",
        "print(z)\n",
        "        \n",
        "        "
      ]
    },
    {
      "cell_type": "code",
      "execution_count": 3,
      "metadata": {
        "colab": {
          "base_uri": "https://localhost:8080/"
        },
        "id": "_E5RtM3RixXi",
        "outputId": "f8c7c8d0-5d9f-473c-e977-e0947fe9988a"
      },
      "outputs": [
        {
          "output_type": "stream",
          "name": "stdout",
          "text": [
            "9\n"
          ]
        },
        {
          "output_type": "execute_result",
          "data": {
            "text/plain": [
              "14"
            ]
          },
          "metadata": {},
          "execution_count": 3
        }
      ],
      "source": [
        "# RETURNING FROM THE FUNCTION\n",
        "def add_no(x,y):\n",
        "    total = x+y\n",
        "    return total\n",
        "    print(\"cool\") #when we return anything down there cool wont print\n",
        "print(add_no(4,5))\n",
        "add_no(6,8)"
      ]
    },
    {
      "cell_type": "code",
      "execution_count": 4,
      "metadata": {
        "colab": {
          "base_uri": "https://localhost:8080/"
        },
        "id": "6qNIRMOGixXm",
        "outputId": "d57e5b72-91e4-4a89-86d5-393e0bb3fb7b"
      },
      "outputs": [
        {
          "output_type": "stream",
          "name": "stdout",
          "text": [
            "enter a num10\n",
            "num is not prime:   10\n"
          ]
        }
      ],
      "source": [
        "# prime num using function\n",
        "def prime(num):\n",
        "    for var in range(2,num-1):\n",
        "        flag = True\n",
        "        if num%var == 0:\n",
        "            print(\"num is not prime:  \",num)\n",
        "            flag = False\n",
        "            break\n",
        "    if flag:\n",
        "        print(\"num is prime\",num)\n",
        "var1 = int(input(\"enter a num\"))            \n",
        "prime(var1)           \n",
        "            \n",
        "            \n",
        "    "
      ]
    },
    {
      "cell_type": "code",
      "execution_count": 5,
      "metadata": {
        "colab": {
          "base_uri": "https://localhost:8080/"
        },
        "id": "zLb2kY5XixXr",
        "outputId": "4c6bf585-a30a-4f06-b1ee-a4b13645a9a1"
      },
      "outputs": [
        {
          "output_type": "stream",
          "name": "stdout",
          "text": [
            "5 is not even\n"
          ]
        }
      ],
      "source": [
        "def even(num):\n",
        "    if num%2 == 0:\n",
        "        print(num,\"is even\")\n",
        "    else:\n",
        "        print(num,\"is not even\")\n",
        "even(5)        \n",
        "        \n",
        "        "
      ]
    },
    {
      "cell_type": "code",
      "execution_count": 6,
      "metadata": {
        "scrolled": true,
        "colab": {
          "base_uri": "https://localhost:8080/"
        },
        "id": "RqB98yGRixXw",
        "outputId": "a2eb52c0-fcc5-4610-b045-cabc8db5a71e"
      },
      "outputs": [
        {
          "output_type": "stream",
          "name": "stdout",
          "text": [
            "num is prime 37\n"
          ]
        }
      ],
      "source": [
        "prime(37)"
      ]
    },
    {
      "cell_type": "code",
      "execution_count": 18,
      "metadata": {
        "colab": {
          "base_uri": "https://localhost:8080/"
        },
        "id": "V0QbxHnEixX0",
        "outputId": "6e2c7c08-0f10-4457-9e93-aae73c01c593"
      },
      "outputs": [
        {
          "output_type": "stream",
          "name": "stdout",
          "text": [
            "My name is dhananjay gajera and age is 23\n"
          ]
        }
      ],
      "source": [
        "# here name is positional argument, and (age = 23) keyward argument\n",
        "def sample(name, age = 23):\n",
        "    print('My name is {} and age is {}'.format(name, age))\n",
        "sample('dhananjay gajera')   "
      ]
    },
    {
      "cell_type": "code",
      "execution_count": 19,
      "metadata": {
        "colab": {
          "base_uri": "https://localhost:8080/"
        },
        "id": "XxuzOZM0ixX5",
        "outputId": "37766368-6730-4764-f125-ba0e3b88db19"
      },
      "outputs": [
        {
          "output_type": "stream",
          "name": "stdout",
          "text": [
            "My name is 5 and age is 23\n"
          ]
        }
      ],
      "source": [
        "sample(5)"
      ]
    },
    {
      "cell_type": "code",
      "execution_count": 22,
      "metadata": {
        "id": "wFPyvlvSixX9"
      },
      "outputs": [],
      "source": [
        "# another way to understand argument and keyward argument\n",
        "def sample(*args, **kwrgs):\n",
        "    print(args)\n",
        "    print(kwrgs)"
      ]
    },
    {
      "cell_type": "code",
      "execution_count": 21,
      "metadata": {
        "colab": {
          "base_uri": "https://localhost:8080/"
        },
        "id": "_TweIvzPixX_",
        "outputId": "ea5f750f-1ae8-4697-edea-e669d62458a2"
      },
      "outputs": [
        {
          "output_type": "stream",
          "name": "stdout",
          "text": [
            "('dhananjay', 'gajera')\n",
            "{'age': 23, 'dob': 1999}\n"
          ]
        }
      ],
      "source": [
        "sample('dhananjay', 'gajera', age = 23, dob = 1999)"
      ]
    },
    {
      "cell_type": "code",
      "execution_count": 23,
      "metadata": {
        "id": "RDIfoFRRixYC"
      },
      "outputs": [],
      "source": [
        "lst = ['Dhananjay', 'gajera']\n",
        "dict_args = {'age':23, 'dob': 1999}\n"
      ]
    },
    {
      "cell_type": "code",
      "execution_count": 24,
      "metadata": {
        "colab": {
          "base_uri": "https://localhost:8080/"
        },
        "id": "jotS7KSFixYE",
        "outputId": "0da7af49-237f-4acd-ac5f-aef3ca160da5"
      },
      "outputs": [
        {
          "output_type": "stream",
          "name": "stdout",
          "text": [
            "('Dhananjay', 'gajera')\n",
            "{'age': 23, 'dob': 1999}\n"
          ]
        }
      ],
      "source": [
        "sample(*lst, **dict_args)"
      ]
    },
    {
      "cell_type": "code",
      "execution_count": null,
      "metadata": {
        "id": "7Th0veKgixYG"
      },
      "outputs": [],
      "source": [
        ""
      ]
    },
    {
      "cell_type": "code",
      "execution_count": null,
      "metadata": {
        "id": "NDZmqktOixYH"
      },
      "outputs": [],
      "source": [
        ""
      ]
    }
  ],
  "metadata": {
    "kernelspec": {
      "display_name": "Python 3",
      "language": "python",
      "name": "python3"
    },
    "language_info": {
      "codemirror_mode": {
        "name": "ipython",
        "version": 3
      },
      "file_extension": ".py",
      "mimetype": "text/x-python",
      "name": "python",
      "nbconvert_exporter": "python",
      "pygments_lexer": "ipython3",
      "version": "3.8.5"
    },
    "colab": {
      "name": "Basic Function.ipynb",
      "provenance": [],
      "collapsed_sections": []
    }
  },
  "nbformat": 4,
  "nbformat_minor": 0
}