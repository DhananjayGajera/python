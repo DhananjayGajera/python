{
  "cells": [
    {
      "cell_type": "markdown",
      "metadata": {
        "id": "pqmHCXkKCKPB"
      },
      "source": [
        "# sets ====> it uncordered collection of distinct values\n"
      ]
    },
    {
      "cell_type": "code",
      "execution_count": 1,
      "metadata": {
        "colab": {
          "base_uri": "https://localhost:8080/"
        },
        "id": "GFMrdxpSCKPN",
        "outputId": "a147a913-4fc2-47e4-ba60-5a2d3a055eec"
      },
      "outputs": [
        {
          "output_type": "stream",
          "name": "stdout",
          "text": [
            "True\n",
            "False\n",
            "False\n",
            "2\n"
          ]
        }
      ],
      "source": [
        "animal = {\"cat\",\"dog\"}\n",
        "print(\"cat\" in animal)\n",
        "print(\"cat\" not in animal)\n",
        "print(\"fish\" in animal)\n",
        "\n",
        "print(len(animal))"
      ]
    },
    {
      "cell_type": "code",
      "execution_count": 2,
      "metadata": {
        "colab": {
          "base_uri": "https://localhost:8080/"
        },
        "id": "OQumzeEuCKPS",
        "outputId": "a4c92eff-d5ce-4331-8ec4-c9b50c8dc0e7"
      },
      "outputs": [
        {
          "output_type": "stream",
          "name": "stdout",
          "text": [
            "{'cat', 'dog', 'fish'}\n"
          ]
        }
      ],
      "source": [
        "# add a value\n",
        "#set.add(value)\n",
        "\n",
        "animal ={\"cat\",\"dog\"}\n",
        "animal.add(\"fish\")\n",
        "print(animal)"
      ]
    },
    {
      "cell_type": "code",
      "execution_count": 3,
      "metadata": {
        "colab": {
          "base_uri": "https://localhost:8080/"
        },
        "id": "v-G8cHxHCKPV",
        "outputId": "f1c5afcd-ae50-461a-d3c8-de0445336df7"
      },
      "outputs": [
        {
          "output_type": "stream",
          "name": "stdout",
          "text": [
            "{0, 1, 2, 3, 4, 5}\n"
          ]
        }
      ],
      "source": [
        "# set comprihensive ===> like dict and list\n",
        "\n",
        "from math import sqrt\n",
        "num = {int(sqrt(x)) for x in range(30)}\n",
        "print(num)"
      ]
    },
    {
      "cell_type": "code",
      "execution_count": 4,
      "metadata": {
        "colab": {
          "base_uri": "https://localhost:8080/"
        },
        "id": "X21axUgZCKPW",
        "outputId": "947cea02-8b5e-4e61-c551-abbc1f3b1d45"
      },
      "outputs": [
        {
          "output_type": "stream",
          "name": "stdout",
          "text": [
            "{0, 1, 2, 3, 4, 5}\n"
          ]
        }
      ],
      "source": [
        "even = {x for x in range(1,30) if x%2 == 0}\n",
        "print(num)"
      ]
    },
    {
      "cell_type": "code",
      "execution_count": 5,
      "metadata": {
        "colab": {
          "base_uri": "https://localhost:8080/"
        },
        "id": "yfT9hvfaCKPZ",
        "outputId": "8d39fd4c-1dea-4608-9fac-ee2095b314e9"
      },
      "outputs": [
        {
          "output_type": "stream",
          "name": "stdout",
          "text": [
            "5\n",
            "{1, 3}\n"
          ]
        }
      ],
      "source": [
        "# even no b/w 1 to 120\n",
        "\n",
        "num = int(input())\n",
        "even = {x for x in range(1,num) if x%2 != 0}\n",
        "print(even)"
      ]
    },
    {
      "cell_type": "code",
      "execution_count": 6,
      "metadata": {
        "colab": {
          "base_uri": "https://localhost:8080/"
        },
        "id": "0VZlOS12CKPa",
        "outputId": "b24007fb-0ef8-416d-d8fd-0e02310426fb"
      },
      "outputs": [
        {
          "output_type": "stream",
          "name": "stdout",
          "text": [
            "1\n"
          ]
        }
      ],
      "source": [
        "letter = {'a','b','c','d'}\n",
        "if \"e\" not in letter:\n",
        "    print(\"1\")\n",
        "else:\n",
        "    print(\"2\")"
      ]
    },
    {
      "cell_type": "code",
      "execution_count": 7,
      "metadata": {
        "colab": {
          "base_uri": "https://localhost:8080/"
        },
        "id": "vMHNaSs8CKPb",
        "outputId": "99160f8d-c6f2-453b-bfd6-8c10b49c7e22"
      },
      "outputs": [
        {
          "output_type": "stream",
          "name": "stdout",
          "text": [
            "{1, 2, 3, 4, 5, 6}\n",
            "{'world', 'hello'}\n"
          ]
        }
      ],
      "source": [
        "# set cannot print repeat value\n",
        "# sets ignore repeat values\n",
        "\n",
        "s = {1,2,3,4,5,4,6,4}\n",
        "print(s)\n",
        "\n",
        "s = {\"hello\",\"world\",\"hello\"}\n",
        "print(s)"
      ]
    },
    {
      "cell_type": "code",
      "execution_count": 8,
      "metadata": {
        "scrolled": true,
        "colab": {
          "base_uri": "https://localhost:8080/"
        },
        "id": "_CTxnCKjCKPc",
        "outputId": "43e90b7a-da60-45a1-e4b1-44d5a41c4032"
      },
      "outputs": [
        {
          "output_type": "stream",
          "name": "stdout",
          "text": [
            "{1, 2, 3, 4, 5, 6, 7, 8, 9}\n",
            "{4, 5, 6}\n",
            "{1, 2, 3}\n",
            "{8, 9, 7}\n",
            "{1, 2, 3, 7, 8, 9}\n"
          ]
        }
      ],
      "source": [
        "# set combine with math operatio\n",
        "#  !   ====>   unoin operator          (combine two set)\n",
        "#  &   ====>   intersection operator    (get item  which only in both)\n",
        "#  -   ====>   difference operator      (get item first but not second)\n",
        "#  ^   ====>   symmatric difference  ,,,,(get item in either set but not in both)\n",
        "\n",
        "f = {1,2,3,4,5,6}\n",
        "s = {4,5,6,7,8,9}\n",
        "\n",
        "print(f|s)  # {1, 2, 3, 4, 5, 6, 7, 8, 9}\n",
        "\n",
        "print(f&s)  # {4, 5, 6}\n",
        "\n",
        "print(f-s)  # {1, 2, 3}\n",
        "\n",
        "print(s-f)  # {8, 9, 7}\n",
        "\n",
        "print(f^s)  # {1, 2, 3, 7, 8, 9}\n"
      ]
    }
  ],
  "metadata": {
    "kernelspec": {
      "display_name": "Python 3",
      "language": "python",
      "name": "python3"
    },
    "language_info": {
      "codemirror_mode": {
        "name": "ipython",
        "version": 3
      },
      "file_extension": ".py",
      "mimetype": "text/x-python",
      "name": "python",
      "nbconvert_exporter": "python",
      "pygments_lexer": "ipython3",
      "version": "3.8.5"
    },
    "colab": {
      "name": "SETS.ipynb",
      "provenance": [],
      "collapsed_sections": []
    }
  },
  "nbformat": 4,
  "nbformat_minor": 0
}