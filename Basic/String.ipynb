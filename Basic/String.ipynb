{
  "cells": [
    {
      "cell_type": "code",
      "execution_count": 1,
      "metadata": {
        "colab": {
          "base_uri": "https://localhost:8080/",
          "height": 35
        },
        "id": "l8QcXYTZCLdw",
        "outputId": "e9cd044a-b2c0-4383-b1bc-e9312c5616da"
      },
      "outputs": [
        {
          "output_type": "execute_result",
          "data": {
            "application/vnd.google.colaboratory.intrinsic+json": {
              "type": "string"
            },
            "text/plain": [
              "'I am the best'"
            ]
          },
          "metadata": {},
          "execution_count": 1
        }
      ],
      "source": [
        "# capitalize() =====> str.capitalize() =====> it convert first letter of string in uppercase\n",
        "\n",
        "s = \"i am the best\"\n",
        "s.capitalize()"
      ]
    },
    {
      "cell_type": "code",
      "execution_count": 2,
      "metadata": {
        "colab": {
          "base_uri": "https://localhost:8080/"
        },
        "id": "8xyfhkeLCLd1",
        "outputId": "18ffd5b4-ab55-41a0-c7af-a5625fc4825a"
      },
      "outputs": [
        {
          "output_type": "stream",
          "name": "stdout",
          "text": [
            "2\n"
          ]
        }
      ],
      "source": [
        "# count() it count the values,  count(\"value\",begnining,end(index))\n",
        "\n",
        "\n",
        "\n",
        "str = \"\"\"dhananjay is excellent\n",
        "      dhananjay can be the better\n",
        "      dhananjay you can do anything\n",
        "      dhananjay you have to believe in yourself\"\"\"\n",
        "print(str.count(\"can\"))"
      ]
    },
    {
      "cell_type": "code",
      "execution_count": 3,
      "metadata": {
        "colab": {
          "base_uri": "https://localhost:8080/"
        },
        "id": "3kqCQO_eCLd4",
        "outputId": "6b176d3e-2acd-4a4e-84c6-2cfb97de8e54"
      },
      "outputs": [
        {
          "output_type": "stream",
          "name": "stdout",
          "text": [
            "True\n",
            "False\n"
          ]
        }
      ],
      "source": [
        "#endswith()  ====> check the ending part of the string & return True and false\n",
        "#str1.endswith(\"value\")\n",
        "\n",
        "\n",
        "s = \"my name is dhananjay\"\n",
        "print(s.endswith(\"dhananjay\"))\n",
        "print(s.endswith(\"sonu\"))\n"
      ]
    },
    {
      "cell_type": "code",
      "execution_count": 4,
      "metadata": {
        "colab": {
          "base_uri": "https://localhost:8080/"
        },
        "id": "AsXUAJbjCLd6",
        "outputId": "c50be222-af94-4464-9de9-a9275fac7054"
      },
      "outputs": [
        {
          "output_type": "stream",
          "name": "stdout",
          "text": [
            "True\n"
          ]
        }
      ],
      "source": [
        "# startswith(\"str\") ======>  check starting bpart of string ,and return true and false\n",
        "\n",
        "s = \"my name is dhananjay\"\n",
        "print(s.startswith(\"my\"))"
      ]
    },
    {
      "cell_type": "code",
      "execution_count": 5,
      "metadata": {
        "colab": {
          "base_uri": "https://localhost:8080/"
        },
        "id": "v0Fbm9szCLd8",
        "outputId": "8310b87b-f5e7-40ad-ba81-051f21cd3ec2"
      },
      "outputs": [
        {
          "output_type": "stream",
          "name": "stdout",
          "text": [
            "True\n"
          ]
        }
      ],
      "source": [
        "s = \"my name is dhananjay\"\n",
        "print(s.startswith(\"is\",8,len(s)))"
      ]
    },
    {
      "cell_type": "code",
      "execution_count": 6,
      "metadata": {
        "colab": {
          "base_uri": "https://localhost:8080/"
        },
        "id": "164pt9IECLd_",
        "outputId": "fab9a2e1-3d68-40ff-b96b-308b36e4c9fa"
      },
      "outputs": [
        {
          "output_type": "stream",
          "name": "stdout",
          "text": [
            "8\n",
            "-1\n"
          ]
        }
      ],
      "source": [
        "# find =====> it find the argument present in a given string or not ,and return index number\n",
        "# it return -1 if value not in given string\n",
        "# find(value,beg,end) ====> \n",
        "\n",
        "\n",
        "s = \"my name is dhananjay,i am cool\"\n",
        "print(s.find(\"i\"))\n",
        "\n",
        "print(s.find(\"nom\"))\n",
        "\n",
        "\n",
        "# find(value,beg(index),end(index))"
      ]
    },
    {
      "cell_type": "code",
      "execution_count": 7,
      "metadata": {
        "colab": {
          "base_uri": "https://localhost:8080/"
        },
        "id": "dGpt8biUCLeA",
        "outputId": "02d9fa6f-6e00-46d2-963a-b4bf114aacdd"
      },
      "outputs": [
        {
          "output_type": "stream",
          "name": "stdout",
          "text": [
            "22\n"
          ]
        }
      ],
      "source": [
        "# find(\"value\",beg(index),end(index))\n",
        "\n",
        "s = \" my name is dhananjay how are you, what you do for work\"\n",
        "print(s.find(\"how\",3,len(s)))\n"
      ]
    },
    {
      "cell_type": "code",
      "execution_count": 8,
      "metadata": {
        "colab": {
          "base_uri": "https://localhost:8080/"
        },
        "id": "YeHl3dE5CLeC",
        "outputId": "3feddc5f-5302-49c1-d39a-ca3daaf8a15c"
      },
      "outputs": [
        {
          "output_type": "stream",
          "name": "stdout",
          "text": [
            "False\n",
            "True\n"
          ]
        }
      ],
      "source": [
        "# is lower()  ===> check all letter in lower case or not & retrurn T,F\n",
        "\n",
        "str = \"Helloo World\"\n",
        "print(str.islower())\n",
        "\n",
        "\n",
        "str = \"hello \"\n",
        "print(str.islower())"
      ]
    },
    {
      "cell_type": "code",
      "execution_count": 9,
      "metadata": {
        "colab": {
          "base_uri": "https://localhost:8080/"
        },
        "id": "v-j4vaG-CLeD",
        "outputId": "b0536acc-b8c5-4c49-825b-2d05ec59be31"
      },
      "outputs": [
        {
          "output_type": "stream",
          "name": "stdout",
          "text": [
            "False\n",
            "True\n"
          ]
        }
      ],
      "source": [
        "# isupper()  =====> check all letter in uppperc ase or not and return true and flase\n",
        "\n",
        "\n",
        "\n",
        "str = \"hello World\"\n",
        "print(str.isupper())\n",
        "\n",
        "s = \"HELLO\"\n",
        "print(s.isupper())"
      ]
    },
    {
      "cell_type": "code",
      "execution_count": 10,
      "metadata": {
        "colab": {
          "base_uri": "https://localhost:8080/"
        },
        "id": "3haFmBdZCLeF",
        "outputId": "4f123a56-ab02-423c-b020-00142a2f83ed"
      },
      "outputs": [
        {
          "output_type": "stream",
          "name": "stdout",
          "text": [
            "hello\n"
          ]
        }
      ],
      "source": [
        "# lower() ====> convert all letter in lower case\n",
        "\n",
        "str = \"Hello\"\n",
        "print(str.lower())"
      ]
    },
    {
      "cell_type": "code",
      "execution_count": 11,
      "metadata": {
        "colab": {
          "base_uri": "https://localhost:8080/"
        },
        "id": "lzYR9oniCLeH",
        "outputId": "b15e7306-0d42-4ac9-ca18-c3d2ec78cdc5"
      },
      "outputs": [
        {
          "output_type": "stream",
          "name": "stdout",
          "text": [
            "HELLO\n"
          ]
        }
      ],
      "source": [
        "# upper()  ====> convert all letter in uppercase\n",
        "str = \"hello\"\n",
        "print(str.upper())"
      ]
    },
    {
      "cell_type": "code",
      "execution_count": 12,
      "metadata": {
        "colab": {
          "base_uri": "https://localhost:8080/"
        },
        "id": "rGjcmKlGCLeI",
        "outputId": "2d85d771-0611-4098-9d27-2f07e0cc59ed"
      },
      "outputs": [
        {
          "output_type": "stream",
          "name": "stdout",
          "text": [
            " whats up\n",
            "whats7777 up\n"
          ]
        }
      ],
      "source": [
        "#lstrip() ===> it remove char from left side\n",
        "\n",
        "str1 = \"!!! whats up\"\n",
        "print(str1.lstrip(\"!\"))\n",
        "\n",
        "\n",
        "s = \"whats7777 up\"\n",
        "print(s.lstrip(\"7\"))  # value must be at the begining for working"
      ]
    },
    {
      "cell_type": "code",
      "execution_count": 13,
      "metadata": {
        "colab": {
          "base_uri": "https://localhost:8080/"
        },
        "id": "RWBo0ZxCCLeK",
        "outputId": "ef5f47fc-3fb7-427d-f361-d750b8af13b8"
      },
      "outputs": [
        {
          "output_type": "stream",
          "name": "stdout",
          "text": [
            "77777this 7777is cool\n",
            "77777this 7777is cool*****\n"
          ]
        }
      ],
      "source": [
        "# rstrip()=====> it  remove char from the right side\n",
        "\n",
        "str1 = \"77777this 7777is cool*****\"\n",
        "print(str1.rstrip(\"*\"))  # value must be at the end(rightside) \n",
        "\n",
        "print(str1.rstrip(\"7\"))"
      ]
    },
    {
      "cell_type": "code",
      "execution_count": 14,
      "metadata": {
        "colab": {
          "base_uri": "https://localhost:8080/"
        },
        "id": "OdK7iG5FCLeL",
        "outputId": "ae600455-c6e9-47fc-905d-434e9788e82c"
      },
      "outputs": [
        {
          "output_type": "stream",
          "name": "stdout",
          "text": [
            "dhananjay is$$$cool guy\n"
          ]
        }
      ],
      "source": [
        "# strip()  ====> it remove char from the rightside and left side(start and end)\n",
        "\n",
        "str1 = \"####dhananjay is$$$cool guy&&&&&\"\n",
        "print(str1.strip(\"#$&\"))"
      ]
    },
    {
      "cell_type": "code",
      "execution_count": 15,
      "metadata": {
        "colab": {
          "base_uri": "https://localhost:8080/"
        },
        "id": "ECjRz49HCLeM",
        "outputId": "ab7cc248-f7aa-4a12-d6ad-86632ad31d08"
      },
      "outputs": [
        {
          "output_type": "stream",
          "name": "stdout",
          "text": [
            "####dhananjay is$$$cool guy&&&&&\n"
          ]
        }
      ],
      "source": [
        "\n",
        "str1 = \"####dhananjay is$$$cool guy&&&&&\"\n",
        "print(str1.strip(\"$\"))"
      ]
    },
    {
      "cell_type": "code",
      "execution_count": 16,
      "metadata": {
        "colab": {
          "base_uri": "https://localhost:8080/"
        },
        "id": "R6AiJedvCLeN",
        "outputId": "b881f2b4-0ecd-4074-eab8-dfc8df073812"
      },
      "outputs": [
        {
          "output_type": "stream",
          "name": "stdout",
          "text": [
            "I once had a lion\n"
          ]
        }
      ],
      "source": [
        "# replace(\"value\") ====> it replace value from the string\n",
        "\n",
        "str = \"I once had a fox\"\n",
        "print(str.replace(\"fox\",\"lion\"))"
      ]
    },
    {
      "cell_type": "code",
      "execution_count": 18,
      "metadata": {
        "colab": {
          "base_uri": "https://localhost:8080/"
        },
        "id": "rWznmR0zCLeT",
        "outputId": "401f991a-5b9f-4f10-857f-e8aec52eae46"
      },
      "outputs": [
        {
          "output_type": "stream",
          "name": "stdout",
          "text": [
            "['Tom', 'Cruce']\n",
            "['dhananjay']\n",
            "['dhananjay gajera']\n"
          ]
        }
      ],
      "source": [
        "#split()  ===> split thye word and char in the string\n",
        "\n",
        "str = \"Tom Cruce\"\n",
        "print(str.split())\n",
        "\n",
        "# note it split base on whitespace\n",
        "\n",
        "str = \"dhananjay\"\n",
        "print(str.split())  # here there is no space so it can be split\n",
        "\n",
        "\n",
        "str  = \"dhananjay gajera\"\n",
        "print(str.split(\",\"))  # here comma is seperator\n"
      ]
    },
    {
      "cell_type": "code",
      "execution_count": 19,
      "metadata": {
        "colab": {
          "base_uri": "https://localhost:8080/"
        },
        "id": "LIxU22r1CLea",
        "outputId": "0d9e5f43-19e8-4d5b-adf2-d1970b3c1507"
      },
      "outputs": [
        {
          "output_type": "stream",
          "name": "stdout",
          "text": [
            "i LOVE python\n"
          ]
        }
      ],
      "source": [
        "# swapcase()  =====> it swap lowercase letter in uppercase and uppercase letter into lowercase\n",
        "\n",
        "str = \"I love PYTHON\"\n",
        "print(str.swapcase())"
      ]
    },
    {
      "cell_type": "code",
      "execution_count": 20,
      "metadata": {
        "colab": {
          "base_uri": "https://localhost:8080/"
        },
        "id": "4EH93nFQCLeb",
        "outputId": "02a7626c-d82c-4b7c-8579-14abc4ec3bbf"
      },
      "outputs": [
        {
          "output_type": "stream",
          "name": "stdout",
          "text": [
            " I Love Python\n"
          ]
        }
      ],
      "source": [
        "#title() ==== it convert every word first letter in uppercase\n",
        "\n",
        "s = \" i love Python\"\n",
        "print(s.title())"
      ]
    },
    {
      "cell_type": "code",
      "execution_count": 21,
      "metadata": {
        "colab": {
          "base_uri": "https://localhost:8080/"
        },
        "id": "Vj7aHpshCLec",
        "outputId": "243b56c7-45aa-4de6-ee1e-da58f468ec4d"
      },
      "outputs": [
        {
          "output_type": "stream",
          "name": "stdout",
          "text": [
            "NUMBER:466\n"
          ]
        }
      ],
      "source": [
        "# string Formatting\n",
        "\n",
        "num = [4,5,6]\n",
        "msg = \"NUMBER:{0}{2}{2}\".format(num[0],num[1],num[2])\n",
        "print(msg)"
      ]
    },
    {
      "cell_type": "code",
      "execution_count": 22,
      "metadata": {
        "colab": {
          "base_uri": "https://localhost:8080/"
        },
        "id": "NQZcWLLDCLed",
        "outputId": "f836f52f-affc-4926-babd-ca899f0e38af"
      },
      "outputs": [
        {
          "output_type": "stream",
          "name": "stdout",
          "text": [
            "5,10\n",
            "7$55$5\n"
          ]
        }
      ],
      "source": [
        "# string formating\n",
        "a = \"{x},{y}\".format(x=5,y= 10)\n",
        "print(a)\n",
        "\n",
        "\n",
        "str= \"{c}${b}${a}\".format(a=5,b=55,c=7)\n",
        "print(str)"
      ]
    },
    {
      "cell_type": "code",
      "execution_count": 23,
      "metadata": {
        "colab": {
          "base_uri": "https://localhost:8080/"
        },
        "id": "1AISmpmxCLee",
        "outputId": "0ef66a1a-3b0e-461d-b5b4-b52e97d7bedf"
      },
      "outputs": [
        {
          "output_type": "stream",
          "name": "stdout",
          "text": [
            "1-2-3-4\n",
            "5\n",
            "5\n",
            "6\n",
            "6\n"
          ]
        }
      ],
      "source": [
        "# join ===\n",
        "list = [\"1\",'2','3','4']  # item in the list must string type\n",
        "print(\"-\".join(list))\n",
        "\n",
        "\n",
        "\n",
        "s = input()   # 456789\n",
        "print(\" \".join(s))\n",
        "\n",
        "\n",
        "s = input().split(\",\")  # i/p === 1,2,3,4,5,6\n",
        "print(\"@\".join(s))"
      ]
    },
    {
      "cell_type": "code",
      "execution_count": 24,
      "metadata": {
        "colab": {
          "base_uri": "https://localhost:8080/"
        },
        "id": "xjgyw-vVCLeg",
        "outputId": "2d491b43-67d8-4b5a-9213-21cf55644e30"
      },
      "outputs": [
        {
          "output_type": "stream",
          "name": "stdout",
          "text": [
            "00000hello\n",
            "0000000000000000000000000hello\n",
            "-0000290\n",
            "-00000000-randomlist\n"
          ]
        }
      ],
      "source": [
        "# #    text.zfll(\"num\") =====> fil with zero \n",
        "\n",
        "str = \"hello\"\n",
        "print(str.zfill(10))\n",
        "\n",
        "print(str.zfill(30))\n",
        "\n",
        "\n",
        "#  how it works with single prefix ,zfill(-)\n",
        "\n",
        "\n",
        "s = \"-290\"\n",
        "print(s.zfill(8))\n",
        "\n",
        "s = \"--randomlist\"\n",
        "print(s.zfill(20))"
      ]
    },
    {
      "cell_type": "code",
      "execution_count": 25,
      "metadata": {
        "colab": {
          "base_uri": "https://localhost:8080/"
        },
        "id": "MVYKwG7MCLeh",
        "outputId": "89778d7e-510d-42bc-d108-50616163f9da"
      },
      "outputs": [
        {
          "output_type": "stream",
          "name": "stdout",
          "text": [
            "XXXhelloXXX\n"
          ]
        }
      ],
      "source": [
        "# center(width,'fillchar')===> in which string in the centre and we can fill char\n",
        "\n",
        "s = \"hello\"\n",
        "print(s.center(11,\"X\"))"
      ]
    },
    {
      "cell_type": "code",
      "execution_count": 26,
      "metadata": {
        "colab": {
          "base_uri": "https://localhost:8080/"
        },
        "id": "ByXX1VVPCLei",
        "outputId": "85e819e9-1335-4ccf-9d4a-74e12efd2e37"
      },
      "outputs": [
        {
          "output_type": "stream",
          "name": "stdout",
          "text": [
            "21\n",
            "21\n"
          ]
        }
      ],
      "source": [
        "# index(\"value\") ====> find the index value in given string \n",
        "s = \"my name is dhananjay how are u\"\n",
        "print(s.index(\"how\"))\n",
        "\n",
        "\n",
        "print(s.index(\"how\",5,len(s)))"
      ]
    },
    {
      "cell_type": "code",
      "execution_count": 27,
      "metadata": {
        "colab": {
          "base_uri": "https://localhost:8080/"
        },
        "id": "wqALHX7YCLek",
        "outputId": "e2e7c982-d1c9-46f0-a5f8-29ac58388a3f"
      },
      "outputs": [
        {
          "output_type": "stream",
          "name": "stdout",
          "text": [
            "False\n",
            "True\n"
          ]
        }
      ],
      "source": [
        "#  istitle() check all words start with uppercase letter \n",
        "\n",
        "s= \"my love\"\n",
        "\n",
        "s1 = \"My Love\"\n",
        "print(s.istitle())\n",
        "print(s1.istitle())"
      ]
    },
    {
      "cell_type": "code",
      "execution_count": 28,
      "metadata": {
        "colab": {
          "base_uri": "https://localhost:8080/"
        },
        "id": "U23Uh4-ECLel",
        "outputId": "2241a531-95ba-4567-8559-456550b02b23"
      },
      "outputs": [
        {
          "output_type": "stream",
          "name": "stdout",
          "text": [
            "48\n",
            "48\n",
            "48\n",
            "48\n"
          ]
        }
      ],
      "source": [
        "# rfind(str,beg,end)   =====> give the last occurence of index position in a given string\n",
        "\n",
        "s = \"dhananjay is good boy, dhananjay is dasingf boy,dhananjay is smart\"\n",
        "print(s.rfind(\"dhananjay\"))\n",
        "print(s.rfind(\"dhananjay\",10,len(s)))\n",
        "\n",
        "###########\n",
        "print(s.rindex(\"dhananjay\"))\n",
        "print(s.rindex(\"dhananjay\",10,len(s)))    \n",
        "\n",
        "\n",
        "\n",
        "######\n",
        "# note :>    rfind & rindex === take index posion from right side(means last occurence of index postion of the given value in string)\n",
        "#      ;>     find & index  === take index posion from left side(means first occurence of index poistion of the given value in string)"
      ]
    },
    {
      "cell_type": "code",
      "execution_count": 29,
      "metadata": {
        "colab": {
          "base_uri": "https://localhost:8080/"
        },
        "id": "SgXjJU8FCLem",
        "outputId": "9489d3f5-6d5e-4a26-b11f-cbbe5c4465a9"
      },
      "outputs": [
        {
          "output_type": "stream",
          "name": "stdout",
          "text": [
            "y\n",
            "b\n",
            " \n"
          ]
        }
      ],
      "source": [
        "# max(str) ====> max value of char in given string\n",
        "# min(str)  ===> min value of char in given string\n",
        "s = \"coolboys\"\n",
        "print(max(s))\n",
        "\n",
        "print(min(s))\n",
        "\n",
        "\n",
        "# space is least precedence when we applied min()\n",
        "\n",
        "str = \"hello boys\"\n",
        "print(min(str))  # "
      ]
    }
  ],
  "metadata": {
    "kernelspec": {
      "display_name": "Python 3",
      "language": "python",
      "name": "python3"
    },
    "language_info": {
      "codemirror_mode": {
        "name": "ipython",
        "version": 3
      },
      "file_extension": ".py",
      "mimetype": "text/x-python",
      "name": "python",
      "nbconvert_exporter": "python",
      "pygments_lexer": "ipython3",
      "version": "3.7.3"
    },
    "colab": {
      "name": "STRING.ipynb",
      "provenance": [],
      "collapsed_sections": []
    }
  },
  "nbformat": 4,
  "nbformat_minor": 0
}