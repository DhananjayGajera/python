{
  "cells": [
    {
      "cell_type": "code",
      "execution_count": null,
      "metadata": {
        "id": "ebik1-2gCKJW",
        "outputId": "e18b445b-7729-4167-fcbe-3668a32b4f39"
      },
      "outputs": [
        {
          "name": "stdout",
          "output_type": "stream",
          "text": [
            "heelo world\n"
          ]
        }
      ],
      "source": [
        "print('hello world')"
      ]
    },
    {
      "cell_type": "code",
      "execution_count": 5,
      "metadata": {
        "colab": {
          "base_uri": "https://localhost:8080/"
        },
        "id": "mC0pYoRCCKJd",
        "outputId": "c2be15fa-3097-402f-c0bb-9611910d1c0a"
      },
      "outputs": [
        {
          "output_type": "stream",
          "name": "stdout",
          "text": [
            " MY name is dhananjay and age is 22 and dob is 1999\n"
          ]
        }
      ],
      "source": [
        "def sample(name, age, dob):\n",
        "    print(' MY name is {} and age is {} and dob is {}'.format(name, age,dob))\n",
        "    \n",
        "sample('dhananjay', 22, 1999)"
      ]
    },
    {
      "cell_type": "code",
      "execution_count": 6,
      "metadata": {
        "colab": {
          "base_uri": "https://localhost:8080/"
        },
        "id": "Cp9m2oM8CKJf",
        "outputId": "ed4cada0-977b-4697-eabb-81d768bc644d"
      },
      "outputs": [
        {
          "output_type": "stream",
          "name": "stdout",
          "text": [
            "my name is dhananjay\n"
          ]
        }
      ],
      "source": [
        "def sample(name):\n",
        "    print('my name is {}'.format(name))\n",
        "sample('dhananjay')"
      ]
    },
    {
      "cell_type": "code",
      "execution_count": 7,
      "metadata": {
        "colab": {
          "base_uri": "https://localhost:8080/"
        },
        "id": "fZHEHL_KCKJh",
        "outputId": "d383486b-43e8-4f05-a35b-290faf87602d"
      },
      "outputs": [
        {
          "output_type": "stream",
          "name": "stdout",
          "text": [
            "hadn\n"
          ]
        }
      ],
      "source": [
        "name  ='dhananjay'\n",
        " #Quesion = print onmu using string formatting\n",
        "\n",
        "print('{0}{1}{2}{3}'.format(name[1], name[2], name[0], name[3]))"
      ]
    },
    {
      "cell_type": "code",
      "execution_count": 8,
      "metadata": {
        "colab": {
          "base_uri": "https://localhost:8080/"
        },
        "id": "pDJ0bOM_CKJi",
        "outputId": "2e9ad8bf-1ae5-453b-ff1d-1f4ec2675186"
      },
      "outputs": [
        {
          "output_type": "stream",
          "name": "stdout",
          "text": [
            "5  12\n"
          ]
        }
      ],
      "source": [
        "print('{x}  {y}'.format(x = 5,y= 12))"
      ]
    }
  ],
  "metadata": {
    "kernelspec": {
      "display_name": "Python 3",
      "language": "python",
      "name": "python3"
    },
    "language_info": {
      "codemirror_mode": {
        "name": "ipython",
        "version": 3
      },
      "file_extension": ".py",
      "mimetype": "text/x-python",
      "name": "python",
      "nbconvert_exporter": "python",
      "pygments_lexer": "ipython3",
      "version": "3.7.7"
    },
    "colab": {
      "name": "String Formatting in python.ipynb",
      "provenance": [],
      "collapsed_sections": []
    }
  },
  "nbformat": 4,
  "nbformat_minor": 0
}