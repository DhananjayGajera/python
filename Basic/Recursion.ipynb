{
  "cells": [
    {
      "cell_type": "markdown",
      "metadata": {
        "id": "BLQYqywaCEe-"
      },
      "source": [
        "# recursion == in which function calling themselves\n",
        "# it is used to solve problem that can be broken up into easier sub problem of the same type"
      ]
    },
    {
      "cell_type": "markdown",
      "metadata": {
        "id": "vX34GQ40CEfE"
      },
      "source": [
        "# n! = n*(n-1)\n",
        "\n",
        " 5! = 5*4*3*2*1 = 120\n",
        " "
      ]
    },
    {
      "cell_type": "code",
      "execution_count": 1,
      "metadata": {
        "colab": {
          "base_uri": "https://localhost:8080/"
        },
        "id": "ow5Kpn7MCEfF",
        "outputId": "49e3fdd6-1e26-4cf2-a5b9-691f515cf15d"
      },
      "outputs": [
        {
          "output_type": "execute_result",
          "data": {
            "text/plain": [
              "120"
            ]
          },
          "metadata": {},
          "execution_count": 1
        }
      ],
      "source": [
        "# factorial\n",
        "\n",
        "def fact(x):\n",
        "    if x == 1:\n",
        "        return 1\n",
        "    return x*fact(x-1)\n",
        "fact(5)"
      ]
    },
    {
      "cell_type": "code",
      "execution_count": 2,
      "metadata": {
        "colab": {
          "base_uri": "https://localhost:8080/"
        },
        "id": "rsRn7jcOCEfK",
        "outputId": "383b3fa9-1407-4797-fd40-1ab26398f807"
      },
      "outputs": [
        {
          "name": "stdout",
          "output_type": "stream",
          "text": [
            "20\n"
          ]
        },
        {
          "output_type": "execute_result",
          "data": {
            "text/plain": [
              "2432902008176640000"
            ]
          },
          "metadata": {},
          "execution_count": 2
        }
      ],
      "source": [
        "#############\n",
        "\n",
        "x = int(input())\n",
        "def fact(x):\n",
        "    if x == 1:\n",
        "        return 1\n",
        "    return x*fact(x-1)\n",
        "fact(x)"
      ]
    },
    {
      "cell_type": "code",
      "execution_count": 3,
      "metadata": {
        "colab": {
          "base_uri": "https://localhost:8080/"
        },
        "id": "kUymuK3tCEfN",
        "outputId": "a466cf80-5418-4865-ad7d-125870f2bcaf"
      },
      "outputs": [
        {
          "output_type": "stream",
          "name": "stdout",
          "text": [
            "8\n"
          ]
        }
      ],
      "source": [
        "# program for fibonaci series:\n",
        "# 1+2+3+4......n\n",
        "\n",
        "def f(n):\n",
        "    if n == 0:\n",
        "        return 0\n",
        "    if n==1:\n",
        "        return 1\n",
        "    else:\n",
        "        return f(n-1)+f(n-2)\n",
        "print(f(6))    "
      ]
    }
  ],
  "metadata": {
    "kernelspec": {
      "display_name": "Python 3",
      "language": "python",
      "name": "python3"
    },
    "language_info": {
      "codemirror_mode": {
        "name": "ipython",
        "version": 3
      },
      "file_extension": ".py",
      "mimetype": "text/x-python",
      "name": "python",
      "nbconvert_exporter": "python",
      "pygments_lexer": "ipython3",
      "version": "3.7.3"
    },
    "colab": {
      "name": "RECURSION().ipynb",
      "provenance": [],
      "collapsed_sections": []
    }
  },
  "nbformat": 4,
  "nbformat_minor": 0
}