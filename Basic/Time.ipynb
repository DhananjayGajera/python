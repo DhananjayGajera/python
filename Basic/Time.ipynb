{
  "cells": [
    {
      "cell_type": "code",
      "execution_count": 1,
      "metadata": {
        "colab": {
          "base_uri": "https://localhost:8080/"
        },
        "id": "ZocpffIiCRmM",
        "outputId": "0e36019f-aee9-4019-e22c-b8fece512667"
      },
      "outputs": [
        {
          "output_type": "stream",
          "name": "stdout",
          "text": [
            "1642592070.8584766\n"
          ]
        }
      ],
      "source": [
        "import time\n",
        "print(time.time())   # time stamp"
      ]
    },
    {
      "cell_type": "code",
      "execution_count": 2,
      "metadata": {
        "colab": {
          "base_uri": "https://localhost:8080/"
        },
        "id": "-e83hUipCRmT",
        "outputId": "17f36cb8-f96a-4672-d501-918f21e93047"
      },
      "outputs": [
        {
          "output_type": "execute_result",
          "data": {
            "text/plain": [
              "time.struct_time(tm_year=2022, tm_mon=1, tm_mday=19, tm_hour=11, tm_min=34, tm_sec=30, tm_wday=2, tm_yday=19, tm_isdst=0)"
            ]
          },
          "metadata": {},
          "execution_count": 2
        }
      ],
      "source": [
        "time.localtime(time.time())"
      ]
    },
    {
      "cell_type": "code",
      "execution_count": 3,
      "metadata": {
        "colab": {
          "base_uri": "https://localhost:8080/",
          "height": 35
        },
        "id": "dJkdqYPBCRmV",
        "outputId": "cb1690a1-c083-4fe0-a5d2-c53069a76e04"
      },
      "outputs": [
        {
          "output_type": "execute_result",
          "data": {
            "application/vnd.google.colaboratory.intrinsic+json": {
              "type": "string"
            },
            "text/plain": [
              "'Wed Jan 19 11:34:30 2022'"
            ]
          },
          "metadata": {},
          "execution_count": 3
        }
      ],
      "source": [
        "time.asctime()"
      ]
    },
    {
      "cell_type": "code",
      "execution_count": 4,
      "metadata": {
        "colab": {
          "base_uri": "https://localhost:8080/"
        },
        "id": "ats0VvLJCRmW",
        "outputId": "80636b9b-94c6-41ff-a7c2-8edc7b8df57b"
      },
      "outputs": [
        {
          "output_type": "execute_result",
          "data": {
            "text/plain": [
              "734109795.0"
            ]
          },
          "metadata": {},
          "execution_count": 4
        }
      ],
      "source": [
        "mytuple = (1993,4,6,15,23,15,0,0,0)\n",
        "time.mktime(mytuple)"
      ]
    },
    {
      "cell_type": "code",
      "execution_count": 5,
      "metadata": {
        "colab": {
          "base_uri": "https://localhost:8080/"
        },
        "id": "DzZ-JepZCRmX",
        "outputId": "66cb2961-2189-4b19-c722-bdffc8b90377"
      },
      "outputs": [
        {
          "output_type": "stream",
          "name": "stdout",
          "text": [
            "hello\n"
          ]
        }
      ],
      "source": [
        "# we can delay when we print\n",
        "\n",
        "time.sleep(7)\n",
        "print(\"hello\") # 0/p will come after7 sec"
      ]
    },
    {
      "cell_type": "code",
      "execution_count": 6,
      "metadata": {
        "colab": {
          "base_uri": "https://localhost:8080/"
        },
        "id": "zudJQdGrCRmY",
        "outputId": "faed198b-0f11-4b53-c72e-1b9e266b2df8"
      },
      "outputs": [
        {
          "output_type": "stream",
          "name": "stdout",
          "text": [
            "   November 2019\n",
            "Mo Tu We Th Fr Sa Su\n",
            "             1  2  3\n",
            " 4  5  6  7  8  9 10\n",
            "11 12 13 14 15 16 17\n",
            "18 19 20 21 22 23 24\n",
            "25 26 27 28 29 30\n",
            "\n"
          ]
        }
      ],
      "source": [
        "\n",
        "import calendar\n",
        "print(calendar.month(2019,11))"
      ]
    },
    {
      "cell_type": "code",
      "execution_count": null,
      "metadata": {
        "id": "QAOJkAgbCRmZ",
        "outputId": "9d09b528-5f33-421f-ebef-81e762150304"
      },
      "outputs": [
        {
          "name": "stdout",
          "output_type": "stream",
          "text": [
            "                                      1967\n",
            "\n",
            "      January                       February                       March\n",
            "Mo Tu We Th Fr Sa Su          Mo Tu We Th Fr Sa Su          Mo Tu We Th Fr Sa Su\n",
            "                   1                 1  2  3  4  5                 1  2  3  4  5\n",
            " 2  3  4  5  6  7  8           6  7  8  9 10 11 12           6  7  8  9 10 11 12\n",
            " 9 10 11 12 13 14 15          13 14 15 16 17 18 19          13 14 15 16 17 18 19\n",
            "16 17 18 19 20 21 22          20 21 22 23 24 25 26          20 21 22 23 24 25 26\n",
            "23 24 25 26 27 28 29          27 28                         27 28 29 30 31\n",
            "30 31\n",
            "\n",
            "       April                          May                           June\n",
            "Mo Tu We Th Fr Sa Su          Mo Tu We Th Fr Sa Su          Mo Tu We Th Fr Sa Su\n",
            "                1  2           1  2  3  4  5  6  7                    1  2  3  4\n",
            " 3  4  5  6  7  8  9           8  9 10 11 12 13 14           5  6  7  8  9 10 11\n",
            "10 11 12 13 14 15 16          15 16 17 18 19 20 21          12 13 14 15 16 17 18\n",
            "17 18 19 20 21 22 23          22 23 24 25 26 27 28          19 20 21 22 23 24 25\n",
            "24 25 26 27 28 29 30          29 30 31                      26 27 28 29 30\n",
            "\n",
            "        July                         August                      September\n",
            "Mo Tu We Th Fr Sa Su          Mo Tu We Th Fr Sa Su          Mo Tu We Th Fr Sa Su\n",
            "                1  2              1  2  3  4  5  6                       1  2  3\n",
            " 3  4  5  6  7  8  9           7  8  9 10 11 12 13           4  5  6  7  8  9 10\n",
            "10 11 12 13 14 15 16          14 15 16 17 18 19 20          11 12 13 14 15 16 17\n",
            "17 18 19 20 21 22 23          21 22 23 24 25 26 27          18 19 20 21 22 23 24\n",
            "24 25 26 27 28 29 30          28 29 30 31                   25 26 27 28 29 30\n",
            "31\n",
            "\n",
            "      October                       November                      December\n",
            "Mo Tu We Th Fr Sa Su          Mo Tu We Th Fr Sa Su          Mo Tu We Th Fr Sa Su\n",
            "                   1                 1  2  3  4  5                       1  2  3\n",
            " 2  3  4  5  6  7  8           6  7  8  9 10 11 12           4  5  6  7  8  9 10\n",
            " 9 10 11 12 13 14 15          13 14 15 16 17 18 19          11 12 13 14 15 16 17\n",
            "16 17 18 19 20 21 22          20 21 22 23 24 25 26          18 19 20 21 22 23 24\n",
            "23 24 25 26 27 28 29          27 28 29 30                   25 26 27 28 29 30 31\n",
            "30 31\n",
            "\n"
          ]
        }
      ],
      "source": [
        "print(calendar.calendar(1967,2,1,10))"
      ]
    },
    {
      "cell_type": "code",
      "execution_count": 7,
      "metadata": {
        "colab": {
          "base_uri": "https://localhost:8080/"
        },
        "id": "PYom0fe-CRmZ",
        "outputId": "fbb34907-5f64-4f62-9342-7e62a5fd1315"
      },
      "outputs": [
        {
          "output_type": "execute_result",
          "data": {
            "text/plain": [
              "True"
            ]
          },
          "metadata": {},
          "execution_count": 7
        }
      ],
      "source": [
        "calendar.isleap(2008)"
      ]
    },
    {
      "cell_type": "code",
      "execution_count": 8,
      "metadata": {
        "colab": {
          "base_uri": "https://localhost:8080/"
        },
        "id": "orM1R491CRmb",
        "outputId": "821dea1e-a244-461f-8152-fdff6f717200"
      },
      "outputs": [
        {
          "output_type": "stream",
          "name": "stdout",
          "text": [
            "2008\n",
            "2008 is leapyear\n"
          ]
        }
      ],
      "source": [
        "\n",
        "# leap year\n",
        "\n",
        "year = int(input())\n",
        "if year%4 == 0 or (year%100 != 0 and year%400 == 0):\n",
        "    print(year,\"is leapyear\")\n",
        "else:\n",
        "    print(year,\"is not leapyear\")"
      ]
    }
  ],
  "metadata": {
    "kernelspec": {
      "display_name": "Python 3",
      "language": "python",
      "name": "python3"
    },
    "language_info": {
      "codemirror_mode": {
        "name": "ipython",
        "version": 3
      },
      "file_extension": ".py",
      "mimetype": "text/x-python",
      "name": "python",
      "nbconvert_exporter": "python",
      "pygments_lexer": "ipython3",
      "version": "3.7.3"
    },
    "colab": {
      "name": "TIME .ipynb",
      "provenance": [],
      "collapsed_sections": []
    }
  },
  "nbformat": 4,
  "nbformat_minor": 0
}