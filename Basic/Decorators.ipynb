{
  "cells": [
    {
      "cell_type": "markdown",
      "metadata": {
        "id": "h8jXnN1w4o-Y"
      },
      "source": [
        "decorator == provide a way to modify function using other function"
      ]
    },
    {
      "cell_type": "code",
      "execution_count": 1,
      "metadata": {
        "colab": {
          "base_uri": "https://localhost:8080/"
        },
        "id": "FVUqXd7n4pAJ",
        "outputId": "468e48d3-4cb0-40ec-d395-7b8787bfb9a0"
      },
      "outputs": [
        {
          "output_type": "stream",
          "name": "stdout",
          "text": [
            "==================\n",
            "hello world\n",
            "===================\n"
          ]
        }
      ],
      "source": [
        "def decor(func):\n",
        "    def wrap():\n",
        "        print(\"==================\")\n",
        "        func()\n",
        "        print(\"===================\")\n",
        "    return wrap\n",
        "\n",
        "@decor\n",
        "def print_text():\n",
        "    print(\"hello world\")\n",
        "print_text()    \n"
      ]
    },
    {
      "cell_type": "code",
      "execution_count": 2,
      "metadata": {
        "colab": {
          "base_uri": "https://localhost:8080/"
        },
        "id": "GmGGgENB4pAW",
        "outputId": "0fbf9f86-4ae0-499d-c0f6-fb9f70c426c9"
      },
      "outputs": [
        {
          "output_type": "stream",
          "name": "stdout",
          "text": [
            "++++++++++++++++\n",
            "hello world\n",
            "++++++++++++++++++++\n"
          ]
        }
      ],
      "source": [
        "#or different way to print\n",
        "\n",
        "def decor(func):\n",
        "    def wrap():\n",
        "        print(\"++++++++++++++++\")\n",
        "        func()\n",
        "        print('++++++++++++++++++++')\n",
        "    return wrap\n",
        "\n",
        "def print_text():\n",
        "    print(\"hello world\")   \n",
        "    \n",
        "decoreted = decor(print_text)\n",
        "decoreted()"
      ]
    },
    {
      "cell_type": "code",
      "execution_count": 4,
      "metadata": {
        "colab": {
          "base_uri": "https://localhost:8080/"
        },
        "id": "kesdvw8J4pAb",
        "outputId": "ed2b17af-57ee-4273-f8ed-131aa5098763"
      },
      "outputs": [
        {
          "output_type": "stream",
          "name": "stdout",
          "text": [
            "+++++++++++++++++++\n",
            "hello world\n",
            "how are you\n",
            "!!!!!!!!!!!!!!!!!!!!!\n"
          ]
        }
      ],
      "source": [
        "# takiong arguments\n",
        "\n",
        "def decor(fun1,fun2):\n",
        "    def wrap():\n",
        "        print(\"+++++++++++++++++++\")\n",
        "        fun1()\n",
        "        fun2()\n",
        "        print(\"!!!!!!!!!!!!!!!!!!!!!\")\n",
        "    return wrap\n",
        "\n",
        "def print_text():\n",
        "    print(\"hello world\")\n",
        "\n",
        "def print_text1():\n",
        "    print(\"how are you\")\n",
        "    \n",
        "print_tex = decor(print_text,print_text1)\n",
        "print_tex()"
      ]
    },
    {
      "cell_type": "code",
      "execution_count": 5,
      "metadata": {
        "colab": {
          "base_uri": "https://localhost:8080/"
        },
        "id": "ooMHZeUt4pAf",
        "outputId": "011fd72b-4ca0-42d8-f1e5-f052f860ccd8"
      },
      "outputs": [
        {
          "output_type": "stream",
          "name": "stdout",
          "text": [
            "++++++++++++\n",
            "-----------\n",
            "hello world\n",
            "__________\n",
            "++++++++++++\n"
          ]
        }
      ],
      "source": [
        "# ###############\n",
        "def decor(func):\n",
        "    def wrap():\n",
        "        print(\"++++++++++++\")\n",
        "        func()\n",
        "        print(\"++++++++++++\")\n",
        "    return wrap \n",
        "\n",
        "def decor1(func):\n",
        "    def t():\n",
        "        print(\"-----------\")\n",
        "        func()\n",
        "        print(\"__________\")\n",
        "    return t\n",
        "\n",
        "@decor\n",
        "@decor1\n",
        "\n",
        "def print_text():\n",
        "    print(\"hello world\")\n",
        "print_text()\n",
        "\n",
        "        "
      ]
    },
    {
      "cell_type": "code",
      "execution_count": 6,
      "metadata": {
        "colab": {
          "base_uri": "https://localhost:8080/"
        },
        "id": "vAxp3hvh4pAk",
        "outputId": "cb67ce93-32d0-4e58-9ef1-3ace13f11220"
      },
      "outputs": [
        {
          "output_type": "stream",
          "name": "stdout",
          "text": [
            "**********\n",
            "&&&&&&&&&&&&&\n",
            "&&&&&&&&&&&&&\n",
            "hello world\n",
            "##############\n",
            "##############\n",
            "**********\n"
          ]
        }
      ],
      "source": [
        "#########################\n",
        "def decor(func):\n",
        "    \n",
        "    def wrap():\n",
        "        print(\"**********\")\n",
        "        func()\n",
        "        print(\"**********\")\n",
        "    return wrap\n",
        "\n",
        "def decor1(func):\n",
        "    \n",
        "    def wrap1():\n",
        "        print(\"&&&&&&&&&&&&&\")\n",
        "        func()\n",
        "        print(\"##############\")\n",
        "    return wrap1\n",
        "\n",
        "@decor\n",
        "@decor1\n",
        "@decor1\n",
        "\n",
        "def print_text():\n",
        "    print(\"hello world\")\n",
        "print_text()    "
      ]
    }
  ],
  "metadata": {
    "kernelspec": {
      "display_name": "Python 3",
      "language": "python",
      "name": "python3"
    },
    "language_info": {
      "codemirror_mode": {
        "name": "ipython",
        "version": 3
      },
      "file_extension": ".py",
      "mimetype": "text/x-python",
      "name": "python",
      "nbconvert_exporter": "python",
      "pygments_lexer": "ipython3",
      "version": "3.8.5"
    },
    "colab": {
      "name": "Decorators.ipynb",
      "provenance": [],
      "collapsed_sections": []
    }
  },
  "nbformat": 4,
  "nbformat_minor": 0
}