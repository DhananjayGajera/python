{
  "cells": [
    {
      "cell_type": "markdown",
      "metadata": {
        "id": "6ZomeUQpCR1O"
      },
      "source": [
        "# tuple - tuple is also hitrogenous data type but only diff. in tuple and list we can't update tuple because tuple is immutable\n",
        "# it is defined by braces ()"
      ]
    },
    {
      "cell_type": "code",
      "execution_count": 1,
      "metadata": {
        "colab": {
          "base_uri": "https://localhost:8080/"
        },
        "id": "h1qCiXP_CR1j",
        "outputId": "0551acc6-d11d-4022-a04b-7f88be293037"
      },
      "outputs": [
        {
          "output_type": "stream",
          "name": "stdout",
          "text": [
            "('t', 5, 6.5, (3+4j))\n"
          ]
        }
      ],
      "source": [
        "tup = ('t',5,6.5,3+4j)\n",
        "print(tup)"
      ]
    },
    {
      "cell_type": "code",
      "execution_count": 2,
      "metadata": {
        "colab": {
          "base_uri": "https://localhost:8080/"
        },
        "id": "K7sySdd5CR1n",
        "outputId": "50356547-d77e-4880-eed7-dca5d7a0ff45"
      },
      "outputs": [
        {
          "output_type": "execute_result",
          "data": {
            "text/plain": [
              "('t', 5, 6.5, (3+4j), 't', 5, 6.5, (3+4j), 't', 5, 6.5, (3+4j))"
            ]
          },
          "metadata": {},
          "execution_count": 2
        }
      ],
      "source": [
        "tup*3"
      ]
    },
    {
      "cell_type": "code",
      "execution_count": null,
      "metadata": {
        "id": "QZWlQlC5CR1p"
      },
      "outputs": [],
      "source": [
        "# note we cant update tuple\n",
        "tup[0] ='cool'"
      ]
    },
    {
      "cell_type": "code",
      "execution_count": 3,
      "metadata": {
        "colab": {
          "base_uri": "https://localhost:8080/"
        },
        "id": "AcDGNbVVCR1q",
        "outputId": "3119fd28-690c-4ddf-8b96-bb19dced9d17"
      },
      "outputs": [
        {
          "output_type": "stream",
          "name": "stdout",
          "text": [
            "4\n",
            "1\n",
            "10\n",
            "4\n"
          ]
        }
      ],
      "source": [
        "tup = (1,2,3,4)\n",
        "print(max(tup))\n",
        "\n",
        "print(min(tup))\n",
        "\n",
        "print(sum(tup))\n",
        "\n",
        "print(len(tup))  # 4"
      ]
    }
  ],
  "metadata": {
    "kernelspec": {
      "display_name": "Python 3",
      "language": "python",
      "name": "python3"
    },
    "language_info": {
      "codemirror_mode": {
        "name": "ipython",
        "version": 3
      },
      "file_extension": ".py",
      "mimetype": "text/x-python",
      "name": "python",
      "nbconvert_exporter": "python",
      "pygments_lexer": "ipython3",
      "version": "3.7.3"
    },
    "colab": {
      "name": "TUPLE in python.ipynb",
      "provenance": [],
      "collapsed_sections": []
    }
  },
  "nbformat": 4,
  "nbformat_minor": 0
}