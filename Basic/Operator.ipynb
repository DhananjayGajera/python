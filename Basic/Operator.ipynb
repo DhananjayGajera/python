{
  "cells": [
    {
      "cell_type": "code",
      "execution_count": 1,
      "metadata": {
        "colab": {
          "base_uri": "https://localhost:8080/"
        },
        "id": "MvZD_M7cCDrS",
        "outputId": "c9fc6edd-7747-4d5f-d1dc-0d802efbd81f"
      },
      "outputs": [
        {
          "output_type": "stream",
          "name": "stdout",
          "text": [
            "11\n",
            "4\n",
            "8\n",
            "5.0\n",
            "8\n",
            "1\n",
            "5\n"
          ]
        }
      ],
      "source": [
        "# arithmatic operator\n",
        "\n",
        "print(5+6) # add\n",
        "print(6-2) # sub\n",
        "print(4*2) # mul\n",
        "print(10/2) # div\n",
        "print(2**3)# power\n",
        "print(13%2) # mod(remainder)\n",
        "print(10//2)  # floor div(it return int type value)"
      ]
    },
    {
      "cell_type": "code",
      "execution_count": 2,
      "metadata": {
        "id": "CqJ7u3PdCDrW"
      },
      "outputs": [],
      "source": [
        "#  logical operator ,return True & false\n",
        "# a and b if both are true\n",
        "# a or b if anyone is true\n",
        "# not \n"
      ]
    },
    {
      "cell_type": "code",
      "execution_count": 3,
      "metadata": {
        "colab": {
          "base_uri": "https://localhost:8080/"
        },
        "id": "o8KRagBbCDrY",
        "outputId": "0343c602-524d-42dd-e1e7-0c84c0ae2217"
      },
      "outputs": [
        {
          "output_type": "stream",
          "name": "stdout",
          "text": [
            "0b1010\n",
            "0b1111\n",
            "0b101\n"
          ]
        }
      ],
      "source": [
        "# bitwise operator =====> &,|(bitwise or),^(exor), (~ == compliment), <<,>>\n",
        "\n",
        "a = 10 \n",
        "b= 15\n",
        "print(bin(a&b))\n",
        "print(bin(a|b))\n",
        "print(bin(a^b))"
      ]
    },
    {
      "cell_type": "code",
      "execution_count": 4,
      "metadata": {
        "colab": {
          "base_uri": "https://localhost:8080/"
        },
        "id": "P3QqWuRMCDrZ",
        "outputId": "31671478-182c-441c-eebb-1a8b5f4ef270"
      },
      "outputs": [
        {
          "output_type": "stream",
          "name": "stdout",
          "text": [
            "True\n",
            "True\n",
            "False\n"
          ]
        }
      ],
      "source": [
        "# membership opertator =======> in,, not in\n",
        "\n",
        "str1 = \"i have laze dog\"\n",
        "print(\"dog\" in str1)\n",
        "print(\"lion\" not in str1)\n",
        "print(\"lion\" in str1)"
      ]
    },
    {
      "cell_type": "code",
      "execution_count": 5,
      "metadata": {
        "colab": {
          "base_uri": "https://localhost:8080/"
        },
        "id": "S6iK5dTVCDrb",
        "outputId": "3d9004a1-5cbc-4bd6-a9ce-f7d03bc2c96c"
      },
      "outputs": [
        {
          "output_type": "stream",
          "name": "stdout",
          "text": [
            "False\n",
            "True\n"
          ]
        }
      ],
      "source": [
        "# identity operator  is , is ont\n",
        "\n",
        "a =10\n",
        "b = 15\n",
        "print(a is b)\n",
        "print(a is not b)"
      ]
    }
  ],
  "metadata": {
    "kernelspec": {
      "display_name": "Python 3",
      "language": "python",
      "name": "python3"
    },
    "language_info": {
      "codemirror_mode": {
        "name": "ipython",
        "version": 3
      },
      "file_extension": ".py",
      "mimetype": "text/x-python",
      "name": "python",
      "nbconvert_exporter": "python",
      "pygments_lexer": "ipython3",
      "version": "3.7.3"
    },
    "colab": {
      "name": "OPERATOR.ipynb",
      "provenance": [],
      "collapsed_sections": []
    }
  },
  "nbformat": 4,
  "nbformat_minor": 0
}