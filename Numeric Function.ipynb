{
  "cells": [
    {
      "cell_type": "markdown",
      "metadata": {
        "id": "view-in-github",
        "colab_type": "text"
      },
      "source": [
        "<a href=\"https://colab.research.google.com/github/DhananjayGajera/python/blob/main/Numeric%20Function.ipynb\" target=\"_parent\"><img src=\"https://colab.research.google.com/assets/colab-badge.svg\" alt=\"Open In Colab\"/></a>"
      ]
    },
    {
      "cell_type": "code",
      "source": [
        "# abs === >  abs ,it return distance from zero\n",
        "print(abs(5.9999))\n",
        "\n",
        "print(abs(5))\n",
        "\n",
        "print(-5)"
      ],
      "metadata": {
        "colab": {
          "base_uri": "https://localhost:8080/"
        },
        "id": "XYIZOob4pEZh",
        "outputId": "a5e39bd7-e671-4e86-b03e-45620a0aec3a"
      },
      "execution_count": 2,
      "outputs": [
        {
          "output_type": "stream",
          "name": "stdout",
          "text": [
            "5.9999\n",
            "5\n",
            "-5\n"
          ]
        }
      ]
    },
    {
      "cell_type": "code",
      "source": [
        "# ceil ====> it return next higher integer value\n",
        "\n",
        "import math\n",
        "print(math.ceil(35.56))\n",
        "print(math.ceil(-35.64))"
      ],
      "metadata": {
        "colab": {
          "base_uri": "https://localhost:8080/"
        },
        "id": "Zip6Kh2dqAci",
        "outputId": "3bff5532-1a44-479c-9fbb-b619df4fab70"
      },
      "execution_count": 3,
      "outputs": [
        {
          "output_type": "stream",
          "name": "stdout",
          "text": [
            "36\n",
            "-35\n"
          ]
        }
      ]
    },
    {
      "cell_type": "code",
      "source": [
        "# floor =====>  it return next lower integer values\n",
        "\n",
        "print(math.floor(35.75))\n",
        "print(math.floor(-35.75))"
      ],
      "metadata": {
        "colab": {
          "base_uri": "https://localhost:8080/"
        },
        "id": "WLFWxiaPqE-X",
        "outputId": "b6fcee3a-d97d-4b30-90b9-1a5889f3255b"
      },
      "execution_count": 4,
      "outputs": [
        {
          "output_type": "stream",
          "name": "stdout",
          "text": [
            "35\n",
            "-36\n"
          ]
        }
      ]
    },
    {
      "cell_type": "code",
      "source": [
        "# exponent #  exp()\n",
        "\n",
        "print(math.e)\n",
        "\n",
        "print(math.exp(35))"
      ],
      "metadata": {
        "colab": {
          "base_uri": "https://localhost:8080/"
        },
        "id": "6tAx22JuqHnL",
        "outputId": "910d2322-5bef-4077-cd1f-1765ee890c34"
      },
      "execution_count": 5,
      "outputs": [
        {
          "output_type": "stream",
          "name": "stdout",
          "text": [
            "2.718281828459045\n",
            "1586013452313430.8\n"
          ]
        }
      ]
    },
    {
      "cell_type": "code",
      "source": [
        "# log ,  math.log(value,base), math.log10( ),MATH.LOG2()\n",
        "\n",
        "import math\n",
        "math.log(10,2)"
      ],
      "metadata": {
        "colab": {
          "base_uri": "https://localhost:8080/"
        },
        "id": "PDIltQn-qLkN",
        "outputId": "85a23893-f0af-4455-fcae-1f038edb011a"
      },
      "execution_count": 6,
      "outputs": [
        {
          "output_type": "execute_result",
          "data": {
            "text/plain": [
              "3.3219280948873626"
            ]
          },
          "metadata": {},
          "execution_count": 6
        }
      ]
    },
    {
      "cell_type": "code",
      "source": [
        "# modf ====> when we pass fraction value ,it return tuple with int and float part values\n",
        "\n",
        "import math\n",
        "print(math.modf(11.971))"
      ],
      "metadata": {
        "colab": {
          "base_uri": "https://localhost:8080/"
        },
        "id": "-GRjU_bPqNsy",
        "outputId": "7cca58e4-f8b9-441a-c62d-0f4aabd3d8d2"
      },
      "execution_count": 7,
      "outputs": [
        {
          "output_type": "stream",
          "name": "stdout",
          "text": [
            "(0.9710000000000001, 11.0)\n"
          ]
        }
      ]
    },
    {
      "cell_type": "code",
      "source": [
        "# round +=====> it return roundoff no\n",
        "\n",
        "print(round(3.345677888))\n",
        "print(round(3.99999999999))\n",
        "\n",
        "print(round(3.56789,2)) # it return 2 value after desimal point"
      ],
      "metadata": {
        "colab": {
          "base_uri": "https://localhost:8080/"
        },
        "id": "ErcYbLPAqSZz",
        "outputId": "e498474a-c157-4e5b-d709-e53d8704ea3f"
      },
      "execution_count": 8,
      "outputs": [
        {
          "output_type": "stream",
          "name": "stdout",
          "text": [
            "3\n",
            "4\n",
            "3.57\n"
          ]
        }
      ]
    },
    {
      "cell_type": "code",
      "source": [
        "print(pow(5,6))   # pow(value,power)"
      ],
      "metadata": {
        "colab": {
          "base_uri": "https://localhost:8080/"
        },
        "id": "My-rthz-qU8L",
        "outputId": "2c1e172a-d407-4efd-8c15-1638e43f0431"
      },
      "execution_count": 9,
      "outputs": [
        {
          "output_type": "stream",
          "name": "stdout",
          "text": [
            "15625\n"
          ]
        }
      ]
    },
    {
      "cell_type": "code",
      "source": [
        "import math\n",
        "print(math.sqrt(25))"
      ],
      "metadata": {
        "colab": {
          "base_uri": "https://localhost:8080/"
        },
        "id": "9ossylgrqatC",
        "outputId": "3350893a-7689-4ca4-fe70-ce632329913e"
      },
      "execution_count": 10,
      "outputs": [
        {
          "output_type": "stream",
          "name": "stdout",
          "text": [
            "5.0\n"
          ]
        }
      ]
    },
    {
      "cell_type": "code",
      "source": [
        "#eval ====> we can evaluate the value\n",
        "\n",
        "n = input()\n",
        "print(eval(n))"
      ],
      "metadata": {
        "colab": {
          "base_uri": "https://localhost:8080/"
        },
        "id": "rLMS8gHwqdwe",
        "outputId": "825aa326-0038-4fb5-ce17-ff768a6a42b1"
      },
      "execution_count": 11,
      "outputs": [
        {
          "output_type": "stream",
          "name": "stdout",
          "text": [
            "5\n",
            "5\n"
          ]
        }
      ]
    }
  ],
  "metadata": {
    "colab": {
      "collapsed_sections": [],
      "name": "Welcome To Colaboratory",
      "provenance": [],
      "include_colab_link": true
    },
    "kernelspec": {
      "display_name": "Python 3",
      "name": "python3"
    }
  },
  "nbformat": 4,
  "nbformat_minor": 0
}